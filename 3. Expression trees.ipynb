{
 "cells": [
  {
   "cell_type": "markdown",
   "id": "7eb1c0b4-3385-45e0-bb21-9230969551ef",
   "metadata": {},
   "source": [
    "# Manipulating expression trees"
   ]
  },
  {
   "cell_type": "markdown",
   "id": "efdd5e9a-d292-4519-a995-82a9631424c5",
   "metadata": {},
   "source": [
    "## Structure of complex expressions"
   ]
  },
  {
   "cell_type": "markdown",
   "id": "5759b2b4-8328-4c63-a065-179dd9712f98",
   "metadata": {},
   "source": [
    "Recall from the previous notebook that we want to know how Julia represents a complex expression with more than one operation, e.g.:"
   ]
  },
  {
   "cell_type": "code",
   "execution_count": 7,
   "id": "881f1205-f9ef-4b1f-8b95-0e23032426af",
   "metadata": {},
   "outputs": [
    {
     "data": {
      "text/plain": [
       ":(x + y * z)"
      ]
     },
     "execution_count": 7,
     "metadata": {},
     "output_type": "execute_result"
    }
   ],
   "source": [
    "ex = :(x + y * z)"
   ]
  },
  {
   "cell_type": "markdown",
   "id": "f1a38a8e-77e4-4d80-8ac9-38f6aa066138",
   "metadata": {},
   "source": [
    "As usual, we can use `dump` to see the structure:"
   ]
  },
  {
   "cell_type": "code",
   "execution_count": 8,
   "id": "7482febd-f13b-4d21-928b-19dd0285d18d",
   "metadata": {},
   "outputs": [
    {
     "name": "stdout",
     "output_type": "stream",
     "text": [
      "Expr\n",
      "  head: Symbol call\n",
      "  args: Array{Any}((3,))\n",
      "    1: Symbol +\n",
      "    2: Symbol x\n",
      "    3: Expr\n",
      "      head: Symbol call\n",
      "      args: Array{Any}((3,))\n",
      "        1: Symbol *\n",
      "        2: Symbol y\n",
      "        3: Symbol z\n"
     ]
    }
   ],
   "source": [
    "dump(ex)"
   ]
  },
  {
   "cell_type": "markdown",
   "id": "77dce2b6-db2a-43e0-bb52-24ecbc38e37c",
   "metadata": {},
   "source": [
    "We see that indeed we have *one `Expr` object embedded into another!* That is, one of the `args` of the top-level expression `ex` is *another* object of type `Expr`:"
   ]
  },
  {
   "cell_type": "code",
   "execution_count": 9,
   "id": "715ef648-3937-47f4-8c35-a5b45f04e2f7",
   "metadata": {},
   "outputs": [
    {
     "data": {
      "text/plain": [
       ":(y * z)"
      ]
     },
     "execution_count": 9,
     "metadata": {},
     "output_type": "execute_result"
    }
   ],
   "source": [
    "ex.args[3]"
   ]
  },
  {
   "cell_type": "code",
   "execution_count": 10,
   "id": "25c1b628-ab8d-4cd9-b8aa-2daebd571462",
   "metadata": {},
   "outputs": [
    {
     "data": {
      "text/plain": [
       "Expr"
      ]
     },
     "execution_count": 10,
     "metadata": {},
     "output_type": "execute_result"
    }
   ],
   "source": [
    "typeof(ex.args[3])"
   ]
  },
  {
   "cell_type": "markdown",
   "id": "a1aa9e86-3d2d-4b95-a158-720728d6fd8c",
   "metadata": {},
   "source": [
    "We can say that the `Expr` type in Julia is a [**recursive data type**](https://en.wikipedia.org/wiki/Recursive_data_type#:~:text=In%20computer%20programming%20languages%2C%20a,usually%20viewed%20as%20directed%20graphs.): an object of type `Expr` can contain other `Expr` objects! This is another good reason why the type of the `args` field is a vector of `Any`!\n",
    "\n",
    "This fact has important implications for how we need to work with `Expr` objects."
   ]
  },
  {
   "cell_type": "markdown",
   "id": "3648eb8d-61a2-4dc7-8fe8-62e17d0f9ec8",
   "metadata": {},
   "source": [
    "Another example is an assignment:"
   ]
  },
  {
   "cell_type": "code",
   "execution_count": 30,
   "id": "6b339590-66c4-4fda-a4f3-b0ac2abc42c4",
   "metadata": {},
   "outputs": [
    {
     "name": "stdout",
     "output_type": "stream",
     "text": [
      "Expr\n",
      "  head: Symbol =\n",
      "  args: Array{Any}((2,))\n",
      "    1: Symbol x\n",
      "    2: Expr\n",
      "      head: Symbol call\n",
      "      args: Array{Any}((3,))\n",
      "        1: Symbol +\n",
      "        2: Symbol y\n",
      "        3: Symbol z\n"
     ]
    }
   ],
   "source": [
    "dump( :(x = y + z) )"
   ]
  },
  {
   "cell_type": "markdown",
   "id": "c9f81bcf-f2bb-465a-80b3-a0943b8e68a6",
   "metadata": {},
   "source": [
    "As we have seen, any piece of code that is more complicated than a single function call has a **hierarchical**, or **nested** structure, with `Expr`s contained inside other `Expr`s. In this section we will see how to manipulate such structures. It is common to think of them as **trees**, called **abstract syntax trees** or **ASTs**, or **computational graphs**."
   ]
  },
  {
   "cell_type": "markdown",
   "id": "de56e989-0d76-47f6-a609-0dce72ff0d91",
   "metadata": {},
   "source": [
    "There are several packages that enable us to visualise an expression as a tree, for example the `TreeView.jl` package that I wrote, and [GraphRecipes.jl](https://github.com/JuliaPlots/GraphRecipes.jl)."
   ]
  },
  {
   "cell_type": "code",
   "execution_count": 23,
   "id": "8f952332-1211-476a-8c1e-9f39c8ac9818",
   "metadata": {},
   "outputs": [],
   "source": [
    "using TreeView"
   ]
  },
  {
   "cell_type": "code",
   "execution_count": 24,
   "id": "12de449c-e76e-42d6-8314-27aeb44cc74d",
   "metadata": {},
   "outputs": [
    {
     "data": {
      "image/svg+xml": [
       "<?xml version=\"1.0\" encoding=\"UTF-8\"?>\n",
       "<svg xmlns=\"http://www.w3.org/2000/svg\" xmlns:xlink=\"http://www.w3.org/1999/xlink\" width=\"54.391pt\" height=\"69.262pt\" viewBox=\"0 0 54.391 69.262\" version=\"1.1\">\n",
       "<defs>\n",
       "<g>\n",
       "<symbol overflow=\"visible\" id=\"glyph-1627139595431222-0-0\">\n",
       "<path style=\"stroke:none;\" d=\"\"/>\n",
       "</symbol>\n",
       "<symbol overflow=\"visible\" id=\"glyph-1627139595431222-0-1\">\n",
       "<path style=\"stroke:none;\" d=\"M 4.84375 -3.046875 C 4.84375 -3.40625 4.5 -3.40625 4.375 -3.40625 L 2.953125 -3.40625 L 2.953125 -4.828125 C 2.953125 -4.9375 2.953125 -5.296875 2.609375 -5.296875 C 2.265625 -5.296875 2.265625 -4.9375 2.265625 -4.828125 L 2.265625 -3.40625 L 0.84375 -3.40625 C 0.734375 -3.40625 0.375 -3.40625 0.375 -3.046875 C 0.375 -2.703125 0.734375 -2.703125 0.84375 -2.703125 L 2.265625 -2.703125 L 2.265625 -1.28125 C 2.265625 -1.15625 2.265625 -0.8125 2.609375 -0.8125 C 2.953125 -0.8125 2.953125 -1.15625 2.953125 -1.28125 L 2.953125 -2.703125 L 4.375 -2.703125 C 4.5 -2.703125 4.84375 -2.703125 4.84375 -3.046875 Z M 4.84375 -3.046875 \"/>\n",
       "</symbol>\n",
       "<symbol overflow=\"visible\" id=\"glyph-1627139595431222-0-2\">\n",
       "<path style=\"stroke:none;\" d=\"M 4.9375 -0.296875 C 4.9375 -0.609375 4.6875 -0.609375 4.53125 -0.609375 L 4.140625 -0.609375 L 2.859375 -2.21875 L 4 -3.6875 L 4.390625 -3.6875 C 4.53125 -3.6875 4.8125 -3.6875 4.8125 -3.984375 C 4.8125 -4.296875 4.546875 -4.296875 4.390625 -4.296875 L 3.234375 -4.296875 C 3.078125 -4.296875 2.828125 -4.296875 2.828125 -4 C 2.828125 -3.6875 3.046875 -3.6875 3.3125 -3.6875 L 2.578125 -2.6875 L 1.828125 -3.6875 C 2.078125 -3.6875 2.296875 -3.6875 2.296875 -4 C 2.296875 -4.296875 2.046875 -4.296875 1.90625 -4.296875 L 0.734375 -4.296875 C 0.59375 -4.296875 0.328125 -4.296875 0.328125 -3.984375 C 0.328125 -3.6875 0.59375 -3.6875 0.734375 -3.6875 L 1.140625 -3.6875 L 2.3125 -2.21875 L 1.078125 -0.609375 L 0.671875 -0.609375 C 0.53125 -0.609375 0.265625 -0.609375 0.265625 -0.296875 C 0.265625 0 0.53125 0 0.671875 0 L 1.84375 0 C 2 0 2.25 0 2.25 -0.296875 C 2.25 -0.609375 2.03125 -0.609375 1.71875 -0.609375 L 2.578125 -1.828125 L 3.46875 -0.609375 C 3.1875 -0.609375 2.96875 -0.609375 2.96875 -0.296875 C 2.96875 0 3.21875 0 3.375 0 L 4.53125 0 C 4.671875 0 4.9375 0 4.9375 -0.296875 Z M 4.9375 -0.296875 \"/>\n",
       "</symbol>\n",
       "<symbol overflow=\"visible\" id=\"glyph-1627139595431222-0-3\">\n",
       "<path style=\"stroke:none;\" d=\"M 4.546875 -2.140625 C 4.546875 -2.296875 4.421875 -2.390625 4.40625 -2.40625 C 4.15625 -2.578125 3.484375 -2.90625 3.21875 -3.046875 L 4.296875 -3.625 C 4.421875 -3.703125 4.546875 -3.765625 4.546875 -3.953125 C 4.546875 -4 4.546875 -4.28125 4.140625 -4.28125 L 2.90625 -3.5625 C 2.9375 -3.828125 2.9375 -4.484375 2.9375 -4.78125 C 2.9375 -4.859375 2.9375 -5.1875 2.609375 -5.1875 C 2.28125 -5.1875 2.28125 -4.859375 2.28125 -4.78125 C 2.28125 -4.484375 2.296875 -3.828125 2.3125 -3.5625 L 1.234375 -4.203125 C 1.09375 -4.28125 1.078125 -4.28125 1 -4.28125 C 0.8125 -4.28125 0.671875 -4.109375 0.671875 -3.953125 C 0.671875 -3.765625 0.78125 -3.703125 0.921875 -3.640625 L 2 -3.046875 L 0.921875 -2.46875 C 0.8125 -2.390625 0.671875 -2.328125 0.671875 -2.140625 C 0.671875 -2.09375 0.671875 -1.796875 1.078125 -1.796875 L 2.3125 -2.515625 C 2.296875 -2.265625 2.28125 -1.609375 2.28125 -1.3125 C 2.28125 -1.21875 2.28125 -0.890625 2.609375 -0.890625 C 2.9375 -0.890625 2.9375 -1.21875 2.9375 -1.3125 C 2.9375 -1.609375 2.9375 -2.265625 2.90625 -2.515625 C 3.515625 -2.1875 3.15625 -2.375 3.84375 -1.96875 C 4.109375 -1.796875 4.140625 -1.796875 4.21875 -1.796875 C 4.421875 -1.796875 4.546875 -1.984375 4.546875 -2.140625 Z M 4.546875 -2.140625 \"/>\n",
       "</symbol>\n",
       "<symbol overflow=\"visible\" id=\"glyph-1627139595431222-0-4\">\n",
       "<path style=\"stroke:none;\" d=\"M 4.984375 -3.984375 C 4.984375 -4.296875 4.75 -4.296875 4.578125 -4.296875 L 3.421875 -4.296875 C 3.265625 -4.296875 3.015625 -4.296875 3.015625 -4 C 3.015625 -3.6875 3.265625 -3.6875 3.421875 -3.6875 L 3.703125 -3.6875 L 2.984375 -1.5625 C 2.84375 -1.203125 2.796875 -1.015625 2.71875 -0.703125 C 2.65625 -0.890625 2.578125 -1.109375 2.5 -1.296875 L 1.578125 -3.6875 L 1.828125 -3.6875 C 1.96875 -3.6875 2.21875 -3.6875 2.21875 -3.984375 C 2.21875 -4.296875 1.984375 -4.296875 1.828125 -4.296875 L 0.65625 -4.296875 C 0.5 -4.296875 0.265625 -4.296875 0.265625 -3.984375 C 0.265625 -3.6875 0.515625 -3.6875 0.65625 -3.6875 L 0.96875 -3.6875 L 2.375 -0.125 C 2.421875 -0.03125 2.421875 0 2.421875 0 C 2.421875 0 2.171875 0.84375 2.046875 1.09375 C 1.75 1.640625 1.390625 1.65625 1.25 1.671875 C 1.25 1.671875 1.296875 1.578125 1.296875 1.453125 C 1.296875 1.203125 1.109375 1.015625 0.875 1.015625 C 0.59375 1.015625 0.421875 1.203125 0.421875 1.453125 C 0.421875 1.875 0.765625 2.265625 1.25 2.265625 C 2.25 2.265625 2.703125 0.953125 2.734375 0.84375 L 4.28125 -3.6875 L 4.578125 -3.6875 C 4.734375 -3.6875 4.984375 -3.6875 4.984375 -3.984375 Z M 4.984375 -3.984375 \"/>\n",
       "</symbol>\n",
       "<symbol overflow=\"visible\" id=\"glyph-1627139595431222-0-5\">\n",
       "<path style=\"stroke:none;\" d=\"M 4.734375 -0.40625 L 4.734375 -0.984375 C 4.734375 -1.171875 4.734375 -1.390625 4.390625 -1.390625 C 4.046875 -1.390625 4.046875 -1.1875 4.046875 -0.984375 L 4.046875 -0.609375 L 1.359375 -0.609375 L 4.46875 -3.5625 C 4.6875 -3.765625 4.6875 -3.78125 4.6875 -3.953125 C 4.6875 -4.296875 4.46875 -4.296875 4.28125 -4.296875 L 0.890625 -4.296875 C 0.5625 -4.296875 0.484375 -4.21875 0.484375 -3.890625 L 0.484375 -3.421875 C 0.484375 -3.234375 0.484375 -3.015625 0.828125 -3.015625 C 1.171875 -3.015625 1.171875 -3.234375 1.171875 -3.421875 L 1.171875 -3.6875 L 3.65625 -3.6875 L 0.546875 -0.734375 C 0.34375 -0.53125 0.328125 -0.515625 0.328125 -0.34375 C 0.328125 0 0.546875 0 0.734375 0 L 4.515625 0 C 4.734375 -0.0625 4.734375 -0.265625 4.734375 -0.40625 Z M 4.734375 -0.40625 \"/>\n",
       "</symbol>\n",
       "</g>\n",
       "</defs>\n",
       "<g id=\"surface1\">\n",
       "<path style=\"fill:none;stroke-width:0.3985;stroke-linecap:butt;stroke-linejoin:miter;stroke:rgb(0%,0%,0%);stroke-opacity:1;stroke-miterlimit:10;\" d=\"M -3.081656 -6.166813 L -11.136344 -22.268375 \" transform=\"matrix(1,0,0,-1,20.109,5.966)\"/>\n",
       "<path style=\"fill:none;stroke-width:0.31879;stroke-linecap:round;stroke-linejoin:round;stroke:rgb(0%,0%,0%);stroke-opacity:1;stroke-miterlimit:10;\" d=\"M -1.195975 1.59315 C -1.094651 0.997399 0.000752268 0.0993967 0.2995 -0.000188846 C -0.000996565 -0.0980219 -1.098163 -0.996005 -1.196004 -1.595248 \" transform=\"matrix(-0.44717,0.89436,0.89436,0.44717,8.97394,28.23613)\"/>\n",
       "<path style=\"fill:none;stroke-width:0.3985;stroke-linecap:butt;stroke-linejoin:miter;stroke:rgb(0%,0%,0%);stroke-opacity:1;stroke-miterlimit:10;\" d=\"M 3.082406 -6.166813 L 10.910531 -21.823063 \" transform=\"matrix(1,0,0,-1,20.109,5.966)\"/>\n",
       "<path style=\"fill:none;stroke-width:0.31879;stroke-linecap:round;stroke-linejoin:round;stroke:rgb(0%,0%,0%);stroke-opacity:1;stroke-miterlimit:10;\" d=\"M -1.197526 1.594137 C -1.094441 0.996652 -0.000779997 0.100443 0.297965 -0.000880207 C -0.000776402 -0.100467 -1.094405 -0.994969 -1.197469 -1.594204 \" transform=\"matrix(0.44717,0.89438,0.89438,-0.44717,31.01989,27.7878)\"/>\n",
       "<path style=\"fill:none;stroke-width:0.3985;stroke-linecap:butt;stroke-linejoin:miter;stroke:rgb(0%,0%,0%);stroke-opacity:1;stroke-miterlimit:10;\" d=\"M 11.117562 -34.463688 L 3.605844 -49.479313 \" transform=\"matrix(1,0,0,-1,20.109,5.966)\"/>\n",
       "<path style=\"fill:none;stroke-width:0.31879;stroke-linecap:round;stroke-linejoin:round;stroke:rgb(0%,0%,0%);stroke-opacity:1;stroke-miterlimit:10;\" d=\"M -1.1965 1.593925 C -1.095175 0.998174 0.000227875 0.100172 0.298975 0.000586017 C 0.000226078 -0.100741 -1.093446 -0.996977 -1.196528 -1.594473 \" transform=\"matrix(-0.44717,0.89436,0.89436,0.44717,23.7152,55.44719)\"/>\n",
       "<path style=\"fill:none;stroke-width:0.3985;stroke-linecap:butt;stroke-linejoin:miter;stroke:rgb(0%,0%,0%);stroke-opacity:1;stroke-miterlimit:10;\" d=\"M 17.230844 -34.463688 L 25.308969 -50.616031 \" transform=\"matrix(1,0,0,-1,20.109,5.966)\"/>\n",
       "<path style=\"fill:none;stroke-width:0.31879;stroke-linecap:round;stroke-linejoin:round;stroke:rgb(0%,0%,0%);stroke-opacity:1;stroke-miterlimit:10;\" d=\"M -1.195594 1.594176 C -1.096005 0.998427 0.00116083 0.100444 0.29991 -0.000882871 C 0.00116263 -0.100468 -1.097735 -0.996724 -1.195565 -1.594222 \" transform=\"matrix(0.44717,0.89436,0.89436,-0.44717,45.41746,56.58294)\"/>\n",
       "<g style=\"fill:rgb(0%,0%,0%);fill-opacity:1;\">\n",
       "  <use xlink:href=\"#glyph-1627139595431222-0-1\" x=\"17.494\" y=\"8.611\"/>\n",
       "</g>\n",
       "<g style=\"fill:rgb(0%,0%,0%);fill-opacity:1;\">\n",
       "  <use xlink:href=\"#glyph-1627139595431222-0-2\" x=\"3.321\" y=\"36.459\"/>\n",
       "</g>\n",
       "<g style=\"fill:rgb(0%,0%,0%);fill-opacity:1;\">\n",
       "  <use xlink:href=\"#glyph-1627139595431222-0-3\" x=\"31.667\" y=\"36.908\"/>\n",
       "</g>\n",
       "<g style=\"fill:rgb(0%,0%,0%);fill-opacity:1;\">\n",
       "  <use xlink:href=\"#glyph-1627139595431222-0-4\" x=\"17.494\" y=\"63.67\"/>\n",
       "</g>\n",
       "<g style=\"fill:rgb(0%,0%,0%);fill-opacity:1;\">\n",
       "  <use xlink:href=\"#glyph-1627139595431222-0-5\" x=\"45.84\" y=\"64.806\"/>\n",
       "</g>\n",
       "</g>\n",
       "</svg>\n",
       "\n"
      ],
      "text/plain": [
       "LabelledTree({5, 4} directed simple Int64 graph, Any[:+, :x, :*, :y, :z])"
      ]
     },
     "execution_count": 24,
     "metadata": {},
     "output_type": "execute_result"
    }
   ],
   "source": [
    "@tree x + y * z"
   ]
  },
  {
   "cell_type": "markdown",
   "id": "330162f6-316b-4481-b8f7-13b8006d8afb",
   "metadata": {},
   "source": [
    "Each internal node of the graph corresponds to a new `Expr`."
   ]
  },
  {
   "cell_type": "code",
   "execution_count": 29,
   "id": "0055bab7-0ff1-4530-b18f-7237bf70a51d",
   "metadata": {},
   "outputs": [
    {
     "data": {
      "image/svg+xml": [
       "<?xml version=\"1.0\" encoding=\"UTF-8\"?>\n",
       "<svg xmlns=\"http://www.w3.org/2000/svg\" xmlns:xlink=\"http://www.w3.org/1999/xlink\" width=\"111.084pt\" height=\"98.037pt\" viewBox=\"0 0 111.084 98.037\" version=\"1.1\">\n",
       "<defs>\n",
       "<g>\n",
       "<symbol overflow=\"visible\" id=\"glyph-1627139595431226-0-0\">\n",
       "<path style=\"stroke:none;\" d=\"\"/>\n",
       "</symbol>\n",
       "<symbol overflow=\"visible\" id=\"glyph-1627139595431226-0-1\">\n",
       "<path style=\"stroke:none;\" d=\"M 4.859375 -2.15625 C 4.859375 -3.375 3.984375 -4.359375 2.921875 -4.359375 C 2.4375 -4.359375 2 -4.171875 1.65625 -3.875 L 1.65625 -5.6875 C 1.65625 -5.984375 1.59375 -6.09375 1.25 -6.09375 L 0.53125 -6.09375 C 0.375 -6.09375 0.125 -6.09375 0.125 -5.78125 C 0.125 -5.484375 0.375 -5.484375 0.515625 -5.484375 L 0.96875 -5.484375 L 0.96875 -0.40625 C 0.96875 -0.203125 0.96875 0 1.3125 0 C 1.65625 0 1.65625 -0.203125 1.65625 -0.453125 C 2.0625 -0.03125 2.5 0.0625 2.8125 0.0625 C 3.890625 0.0625 4.859375 -0.890625 4.859375 -2.15625 Z M 4.171875 -2.15625 C 4.171875 -1.203125 3.484375 -0.546875 2.78125 -0.546875 C 2 -0.546875 1.65625 -1.421875 1.65625 -1.90625 L 1.65625 -2.625 C 1.65625 -3.21875 2.234375 -3.75 2.859375 -3.75 C 3.59375 -3.75 4.171875 -3.015625 4.171875 -2.15625 Z M 4.171875 -2.15625 \"/>\n",
       "</symbol>\n",
       "<symbol overflow=\"visible\" id=\"glyph-1627139595431226-0-2\">\n",
       "<path style=\"stroke:none;\" d=\"M 4.65625 -0.296875 C 4.65625 -0.609375 4.421875 -0.609375 4.25 -0.609375 L 2.953125 -0.609375 L 2.953125 -5.6875 C 2.953125 -5.984375 2.90625 -6.09375 2.5625 -6.09375 L 0.984375 -6.09375 C 0.828125 -6.09375 0.578125 -6.09375 0.578125 -5.78125 C 0.578125 -5.484375 0.84375 -5.484375 0.984375 -5.484375 L 2.265625 -5.484375 L 2.265625 -0.609375 L 0.984375 -0.609375 C 0.828125 -0.609375 0.578125 -0.609375 0.578125 -0.296875 C 0.578125 0 0.84375 0 0.984375 0 L 4.25 0 C 4.40625 0 4.65625 0 4.65625 -0.296875 Z M 4.65625 -0.296875 \"/>\n",
       "</symbol>\n",
       "<symbol overflow=\"visible\" id=\"glyph-1627139595431226-0-3\">\n",
       "<path style=\"stroke:none;\" d=\"M 4.65625 -2.15625 C 4.65625 -3.40625 3.734375 -4.390625 2.609375 -4.390625 C 1.5 -4.390625 0.5625 -3.40625 0.5625 -2.15625 C 0.5625 -0.890625 1.515625 0.0625 2.609375 0.0625 C 3.703125 0.0625 4.65625 -0.890625 4.65625 -2.15625 Z M 3.96875 -2.21875 C 3.96875 -1.296875 3.34375 -0.546875 2.609375 -0.546875 C 1.875 -0.546875 1.25 -1.296875 1.25 -2.21875 C 1.25 -3.125 1.90625 -3.78125 2.609375 -3.78125 C 3.328125 -3.78125 3.96875 -3.125 3.96875 -2.21875 Z M 3.96875 -2.21875 \"/>\n",
       "</symbol>\n",
       "<symbol overflow=\"visible\" id=\"glyph-1627139595431226-0-4\">\n",
       "<path style=\"stroke:none;\" d=\"M 4.640625 -1.09375 C 4.640625 -1.359375 4.359375 -1.359375 4.296875 -1.359375 C 4.140625 -1.359375 4.03125 -1.34375 3.96875 -1.140625 C 3.90625 -1.015625 3.71875 -0.546875 2.984375 -0.546875 C 2.140625 -0.546875 1.421875 -1.25 1.421875 -2.15625 C 1.421875 -2.625 1.6875 -3.78125 3.046875 -3.78125 C 3.25 -3.78125 3.640625 -3.78125 3.640625 -3.6875 C 3.65625 -3.34375 3.84375 -3.203125 4.078125 -3.203125 C 4.3125 -3.203125 4.53125 -3.375 4.53125 -3.65625 C 4.53125 -4.390625 3.484375 -4.390625 3.046875 -4.390625 C 1.328125 -4.390625 0.734375 -3.03125 0.734375 -2.15625 C 0.734375 -0.953125 1.671875 0.0625 2.921875 0.0625 C 4.3125 0.0625 4.640625 -0.921875 4.640625 -1.09375 Z M 4.640625 -1.09375 \"/>\n",
       "</symbol>\n",
       "<symbol overflow=\"visible\" id=\"glyph-1627139595431226-0-5\">\n",
       "<path style=\"stroke:none;\" d=\"M 5.0625 -0.296875 C 5.0625 -0.609375 4.8125 -0.609375 4.65625 -0.609375 L 4.34375 -0.609375 L 2.859375 -2.546875 L 4.09375 -3.6875 L 4.4375 -3.6875 C 4.578125 -3.6875 4.84375 -3.6875 4.84375 -3.984375 C 4.84375 -4.296875 4.578125 -4.296875 4.4375 -4.296875 L 2.90625 -4.296875 C 2.734375 -4.296875 2.5 -4.296875 2.5 -3.984375 C 2.5 -3.6875 2.75 -3.6875 2.90625 -3.6875 L 3.265625 -3.6875 L 1.65625 -2.171875 L 1.65625 -5.6875 C 1.65625 -5.984375 1.59375 -6.09375 1.25 -6.09375 L 0.609375 -6.09375 C 0.453125 -6.09375 0.203125 -6.09375 0.203125 -5.796875 C 0.203125 -5.484375 0.453125 -5.484375 0.609375 -5.484375 L 1.09375 -5.484375 L 1.09375 -0.609375 L 0.609375 -0.609375 C 0.453125 -0.609375 0.203125 -0.609375 0.203125 -0.3125 C 0.203125 0 0.453125 0 0.609375 0 L 2.140625 0 C 2.296875 0 2.546875 0 2.546875 -0.296875 C 2.546875 -0.609375 2.296875 -0.609375 2.140625 -0.609375 L 1.65625 -0.609375 L 1.65625 -1.421875 L 2.453125 -2.15625 L 3.640625 -0.609375 C 3.28125 -0.609375 3.078125 -0.609375 3.078125 -0.296875 C 3.078125 0 3.328125 0 3.484375 0 L 4.65625 0 C 4.8125 0 5.0625 0 5.0625 -0.296875 Z M 5.0625 -0.296875 \"/>\n",
       "</symbol>\n",
       "<symbol overflow=\"visible\" id=\"glyph-1627139595431226-0-6\">\n",
       "<path style=\"stroke:none;\" d=\"M 4.84375 -3.8125 C 4.84375 -4.15625 4.46875 -4.15625 4.34375 -4.15625 L 0.890625 -4.15625 C 0.75 -4.15625 0.375 -4.15625 0.375 -3.8125 C 0.375 -3.453125 0.703125 -3.453125 0.828125 -3.453125 L 4.390625 -3.453125 C 4.515625 -3.453125 4.84375 -3.453125 4.84375 -3.8125 Z M 4.84375 -2.296875 C 4.84375 -2.640625 4.515625 -2.640625 4.390625 -2.640625 L 0.828125 -2.640625 C 0.703125 -2.640625 0.375 -2.640625 0.375 -2.296875 C 0.375 -1.9375 0.75 -1.9375 0.890625 -1.9375 L 4.34375 -1.9375 C 4.46875 -1.9375 4.84375 -1.9375 4.84375 -2.296875 Z M 4.84375 -2.296875 \"/>\n",
       "</symbol>\n",
       "<symbol overflow=\"visible\" id=\"glyph-1627139595431226-0-7\">\n",
       "<path style=\"stroke:none;\" d=\"M 4.9375 -0.296875 C 4.9375 -0.609375 4.6875 -0.609375 4.53125 -0.609375 L 4.140625 -0.609375 L 2.859375 -2.21875 L 4 -3.6875 L 4.390625 -3.6875 C 4.53125 -3.6875 4.8125 -3.6875 4.8125 -3.984375 C 4.8125 -4.296875 4.546875 -4.296875 4.390625 -4.296875 L 3.234375 -4.296875 C 3.078125 -4.296875 2.828125 -4.296875 2.828125 -4 C 2.828125 -3.6875 3.046875 -3.6875 3.3125 -3.6875 L 2.578125 -2.6875 L 1.828125 -3.6875 C 2.078125 -3.6875 2.296875 -3.6875 2.296875 -4 C 2.296875 -4.296875 2.046875 -4.296875 1.90625 -4.296875 L 0.734375 -4.296875 C 0.59375 -4.296875 0.328125 -4.296875 0.328125 -3.984375 C 0.328125 -3.6875 0.59375 -3.6875 0.734375 -3.6875 L 1.140625 -3.6875 L 2.3125 -2.21875 L 1.078125 -0.609375 L 0.671875 -0.609375 C 0.53125 -0.609375 0.265625 -0.609375 0.265625 -0.296875 C 0.265625 0 0.53125 0 0.671875 0 L 1.84375 0 C 2 0 2.25 0 2.25 -0.296875 C 2.25 -0.609375 2.03125 -0.609375 1.71875 -0.609375 L 2.578125 -1.828125 L 3.46875 -0.609375 C 3.1875 -0.609375 2.96875 -0.609375 2.96875 -0.296875 C 2.96875 0 3.21875 0 3.375 0 L 4.53125 0 C 4.671875 0 4.9375 0 4.9375 -0.296875 Z M 4.9375 -0.296875 \"/>\n",
       "</symbol>\n",
       "<symbol overflow=\"visible\" id=\"glyph-1627139595431226-0-8\">\n",
       "<path style=\"stroke:none;\" d=\"M 4.84375 -3.046875 C 4.84375 -3.40625 4.5 -3.40625 4.375 -3.40625 L 2.953125 -3.40625 L 2.953125 -4.828125 C 2.953125 -4.9375 2.953125 -5.296875 2.609375 -5.296875 C 2.265625 -5.296875 2.265625 -4.9375 2.265625 -4.828125 L 2.265625 -3.40625 L 0.84375 -3.40625 C 0.734375 -3.40625 0.375 -3.40625 0.375 -3.046875 C 0.375 -2.703125 0.734375 -2.703125 0.84375 -2.703125 L 2.265625 -2.703125 L 2.265625 -1.28125 C 2.265625 -1.15625 2.265625 -0.8125 2.609375 -0.8125 C 2.953125 -0.8125 2.953125 -1.15625 2.953125 -1.28125 L 2.953125 -2.703125 L 4.375 -2.703125 C 4.5 -2.703125 4.84375 -2.703125 4.84375 -3.046875 Z M 4.84375 -3.046875 \"/>\n",
       "</symbol>\n",
       "<symbol overflow=\"visible\" id=\"glyph-1627139595431226-0-9\">\n",
       "<path style=\"stroke:none;\" d=\"M 4.40625 -0.296875 C 4.40625 -0.609375 4.171875 -0.609375 4 -0.609375 L 3.09375 -0.609375 L 3.09375 -5.796875 C 3.09375 -5.953125 3.09375 -6.203125 2.796875 -6.203125 C 2.609375 -6.203125 2.546875 -6.078125 2.5 -5.96875 C 2.125 -5.109375 1.609375 -5 1.421875 -4.984375 C 1.25 -4.96875 1.046875 -4.953125 1.046875 -4.671875 C 1.046875 -4.421875 1.21875 -4.375 1.375 -4.375 C 1.5625 -4.375 1.96875 -4.4375 2.40625 -4.8125 L 2.40625 -0.609375 L 1.5 -0.609375 C 1.34375 -0.609375 1.109375 -0.609375 1.109375 -0.296875 C 1.109375 0 1.359375 0 1.5 0 L 4 0 C 4.15625 0 4.40625 0 4.40625 -0.296875 Z M 4.40625 -0.296875 \"/>\n",
       "</symbol>\n",
       "<symbol overflow=\"visible\" id=\"glyph-1627139595431226-0-10\">\n",
       "<path style=\"stroke:none;\" d=\"M 4.984375 -3.984375 C 4.984375 -4.296875 4.75 -4.296875 4.578125 -4.296875 L 3.421875 -4.296875 C 3.265625 -4.296875 3.015625 -4.296875 3.015625 -4 C 3.015625 -3.6875 3.265625 -3.6875 3.421875 -3.6875 L 3.703125 -3.6875 L 2.984375 -1.5625 C 2.84375 -1.203125 2.796875 -1.015625 2.71875 -0.703125 C 2.65625 -0.890625 2.578125 -1.109375 2.5 -1.296875 L 1.578125 -3.6875 L 1.828125 -3.6875 C 1.96875 -3.6875 2.21875 -3.6875 2.21875 -3.984375 C 2.21875 -4.296875 1.984375 -4.296875 1.828125 -4.296875 L 0.65625 -4.296875 C 0.5 -4.296875 0.265625 -4.296875 0.265625 -3.984375 C 0.265625 -3.6875 0.515625 -3.6875 0.65625 -3.6875 L 0.96875 -3.6875 L 2.375 -0.125 C 2.421875 -0.03125 2.421875 0 2.421875 0 C 2.421875 0 2.171875 0.84375 2.046875 1.09375 C 1.75 1.640625 1.390625 1.65625 1.25 1.671875 C 1.25 1.671875 1.296875 1.578125 1.296875 1.453125 C 1.296875 1.203125 1.109375 1.015625 0.875 1.015625 C 0.59375 1.015625 0.421875 1.203125 0.421875 1.453125 C 0.421875 1.875 0.765625 2.265625 1.25 2.265625 C 2.25 2.265625 2.703125 0.953125 2.734375 0.84375 L 4.28125 -3.6875 L 4.578125 -3.6875 C 4.734375 -3.6875 4.984375 -3.6875 4.984375 -3.984375 Z M 4.984375 -3.984375 \"/>\n",
       "</symbol>\n",
       "</g>\n",
       "</defs>\n",
       "<g id=\"surface1\">\n",
       "<path style=\"fill:none;stroke-width:0.3985;stroke-linecap:butt;stroke-linejoin:miter;stroke:rgb(0%,0%,0%);stroke-opacity:1;stroke-miterlimit:10;\" d=\"M -3.294844 -6.594281 L -11.169844 -22.340375 \" transform=\"matrix(1,0,0,-1,48.455,6.394)\"/>\n",
       "<path style=\"fill:none;stroke-width:0.31879;stroke-linecap:round;stroke-linejoin:round;stroke:rgb(0%,0%,0%);stroke-opacity:1;stroke-miterlimit:10;\" d=\"M -1.194562 1.595399 C -1.096732 0.997902 -0.00132855 0.0998993 0.297419 0.000313768 C -0.00133035 -0.101013 -1.095002 -0.997249 -1.194591 -1.592998 \" transform=\"matrix(-0.44717,0.89436,0.89436,0.44717,37.28506,28.73386)\"/>\n",
       "<path style=\"fill:none;stroke-width:0.3985;stroke-linecap:butt;stroke-linejoin:miter;stroke:rgb(0%,0%,0%);stroke-opacity:1;stroke-miterlimit:10;\" d=\"M 3.295 -6.594281 L 11.17 -22.340375 \" transform=\"matrix(1,0,0,-1,48.455,6.394)\"/>\n",
       "<path style=\"fill:none;stroke-width:0.31879;stroke-linecap:round;stroke-linejoin:round;stroke:rgb(0%,0%,0%);stroke-opacity:1;stroke-miterlimit:10;\" d=\"M -1.194521 1.593138 C -1.094933 0.997389 -0.00126047 0.101153 0.297489 -0.000174002 C -0.00125867 -0.0997595 -1.096662 -0.997762 -1.194492 -1.59526 \" transform=\"matrix(0.44717,0.89436,0.89436,-0.44717,59.62494,28.73386)\"/>\n",
       "<path style=\"fill:none;stroke-width:0.3985;stroke-linecap:butt;stroke-linejoin:miter;stroke:rgb(0%,0%,0%);stroke-opacity:1;stroke-miterlimit:10;\" d=\"M -19.771406 -33.941937 L -36.529219 -50.703656 \" transform=\"matrix(1,0,0,-1,48.455,6.394)\"/>\n",
       "<path style=\"fill:none;stroke-width:0.31879;stroke-linecap:round;stroke-linejoin:round;stroke:rgb(0%,0%,0%);stroke-opacity:1;stroke-miterlimit:10;\" d=\"M -1.195489 1.594494 C -1.096052 0.997867 0.0005268 0.100164 0.29884 0.000726559 C 0.0005268 -0.0987113 -1.096052 -0.996414 -1.195489 -1.593041 \" transform=\"matrix(-0.7071,0.7071,0.7071,0.7071,11.92564,57.09677)\"/>\n",
       "<path style=\"fill:none;stroke-width:0.3985;stroke-linecap:butt;stroke-linejoin:miter;stroke:rgb(0%,0%,0%);stroke-opacity:1;stroke-miterlimit:10;\" d=\"M -14.17375 -33.941937 L -14.17375 -50.070844 \" transform=\"matrix(1,0,0,-1,48.455,6.394)\"/>\n",
       "<path style=\"fill:none;stroke-width:0.31879;stroke-linecap:round;stroke-linejoin:round;stroke:rgb(0%,0%,0%);stroke-opacity:1;stroke-miterlimit:10;\" d=\"M -1.194869 1.59339 C -1.097213 0.995734 0.00044375 0.101202 0.297319 -0.00036 C 0.00044375 -0.0980163 -1.097213 -0.996454 -1.194869 -1.59411 \" transform=\"matrix(0,1,1,0,34.28161,56.4644)\"/>\n",
       "<path style=\"fill:none;stroke-width:0.3985;stroke-linecap:butt;stroke-linejoin:miter;stroke:rgb(0%,0%,0%);stroke-opacity:1;stroke-miterlimit:10;\" d=\"M -18.79875 -62.859906 L -30.908125 -79.008344 \" transform=\"matrix(1,0,0,-1,48.455,6.394)\"/>\n",
       "<path style=\"fill:none;stroke-width:0.31879;stroke-linecap:round;stroke-linejoin:round;stroke:rgb(0%,0%,0%);stroke-opacity:1;stroke-miterlimit:10;\" d=\"M -1.194488 1.594824 C -1.096042 0.994807 0.000875039 0.0986975 0.299322 0.000260001 C -0.00224808 -0.0989647 -1.096022 -0.99744 -1.195238 -1.594334 \" transform=\"matrix(-0.59999,0.79997,0.79997,0.59999,17.54657,85.40102)\"/>\n",
       "<path style=\"fill:none;stroke-width:0.3985;stroke-linecap:butt;stroke-linejoin:miter;stroke:rgb(0%,0%,0%);stroke-opacity:1;stroke-miterlimit:10;\" d=\"M -12.630781 -62.859906 L -8.853437 -77.977094 \" transform=\"matrix(1,0,0,-1,48.455,6.394)\"/>\n",
       "<path style=\"fill:none;stroke-width:0.31879;stroke-linecap:round;stroke-linejoin:round;stroke:rgb(0%,0%,0%);stroke-opacity:1;stroke-miterlimit:10;\" d=\"M -1.196395 1.594494 C -1.095955 0.997627 0.000224056 0.0995057 0.297714 0.000981919 C -0.000718577 -0.0975563 -1.094959 -0.99573 -1.196317 -1.594498 \" transform=\"matrix(0.24251,0.97014,0.97014,-0.24251,39.60263,84.37157)\"/>\n",
       "<path style=\"fill:none;stroke-width:0.3985;stroke-linecap:butt;stroke-linejoin:miter;stroke:rgb(0%,0%,0%);stroke-opacity:1;stroke-miterlimit:10;\" d=\"M 14.173906 -33.941937 L 14.173906 -49.434125 \" transform=\"matrix(1,0,0,-1,48.455,6.394)\"/>\n",
       "<path style=\"fill:none;stroke-width:0.31879;stroke-linecap:round;stroke-linejoin:round;stroke:rgb(0%,0%,0%);stroke-opacity:1;stroke-miterlimit:10;\" d=\"M -1.193978 1.594266 C -1.096321 0.99661 0.001335 0.0981725 0.29821 0.00051625 C 0.001335 -0.101046 -1.096321 -0.995577 -1.193978 -1.593234 \" transform=\"matrix(0,1,1,0,62.62839,55.82679)\"/>\n",
       "<path style=\"fill:none;stroke-width:0.3985;stroke-linecap:butt;stroke-linejoin:miter;stroke:rgb(0%,0%,0%);stroke-opacity:1;stroke-miterlimit:10;\" d=\"M 19.771563 -33.941937 L 36.060625 -50.234906 \" transform=\"matrix(1,0,0,-1,48.455,6.394)\"/>\n",
       "<path style=\"fill:none;stroke-width:0.31879;stroke-linecap:round;stroke-linejoin:round;stroke:rgb(0%,0%,0%);stroke-opacity:1;stroke-miterlimit:10;\" d=\"M -1.196072 1.593137 C -1.096634 0.99651 -0.0000556852 0.0988076 0.298258 -0.000630215 C -0.0000556852 -0.100068 -1.096634 -0.997771 -1.196072 -1.594398 \" transform=\"matrix(0.7071,0.7071,0.7071,-0.7071,84.51611,56.6285)\"/>\n",
       "<path style=\"fill:none;stroke-width:0.3985;stroke-linecap:butt;stroke-linejoin:miter;stroke:rgb(0%,0%,0%);stroke-opacity:1;stroke-miterlimit:10;\" d=\"M 39.439531 -62.859906 L 31.95125 -77.828656 \" transform=\"matrix(1,0,0,-1,48.455,6.394)\"/>\n",
       "<path style=\"fill:none;stroke-width:0.31879;stroke-linecap:round;stroke-linejoin:round;stroke:rgb(0%,0%,0%);stroke-opacity:1;stroke-miterlimit:10;\" d=\"M -1.193592 1.593798 C -1.095762 0.9963 -0.000358597 0.0982975 0.298389 -0.00128795 C -0.00210743 -0.099121 -1.095779 -0.995357 -1.193621 -1.5946 \" transform=\"matrix(-0.44717,0.89436,0.89436,0.44717,80.40802,84.22199)\"/>\n",
       "<path style=\"fill:none;stroke-width:0.3985;stroke-linecap:butt;stroke-linejoin:miter;stroke:rgb(0%,0%,0%);stroke-opacity:1;stroke-miterlimit:10;\" d=\"M 45.603594 -62.859906 L 53.654375 -78.965375 \" transform=\"matrix(1,0,0,-1,48.455,6.394)\"/>\n",
       "<path style=\"fill:none;stroke-width:0.31879;stroke-linecap:round;stroke-linejoin:round;stroke:rgb(0%,0%,0%);stroke-opacity:1;stroke-miterlimit:10;\" d=\"M -1.197449 1.593534 C -1.094367 0.996038 -0.000694688 0.0998025 0.298055 -0.00152469 C -0.000692891 -0.10111 -1.094349 -0.995618 -1.197421 -1.594863 \" transform=\"matrix(0.44717,0.89436,0.89436,-0.44717,102.11027,85.35775)\"/>\n",
       "<g style=\"fill:rgb(0%,0%,0%);fill-opacity:1;\">\n",
       "  <use xlink:href=\"#glyph-1627139595431226-0-1\" x=\"35.379\" y=\"9.408\"/>\n",
       "  <use xlink:href=\"#glyph-1627139595431226-0-2\" x=\"40.609386\" y=\"9.408\"/>\n",
       "  <use xlink:href=\"#glyph-1627139595431226-0-3\" x=\"45.839772\" y=\"9.408\"/>\n",
       "  <use xlink:href=\"#glyph-1627139595431226-0-4\" x=\"51.070158\" y=\"9.408\"/>\n",
       "  <use xlink:href=\"#glyph-1627139595431226-0-5\" x=\"56.300544\" y=\"9.408\"/>\n",
       "</g>\n",
       "<g style=\"fill:rgb(0%,0%,0%);fill-opacity:1;\">\n",
       "  <use xlink:href=\"#glyph-1627139595431226-0-6\" x=\"31.667\" y=\"36.818\"/>\n",
       "</g>\n",
       "<g style=\"fill:rgb(0%,0%,0%);fill-opacity:1;\">\n",
       "  <use xlink:href=\"#glyph-1627139595431226-0-7\" x=\"3.321\" y=\"65.234\"/>\n",
       "</g>\n",
       "<g style=\"fill:rgb(0%,0%,0%);fill-opacity:1;\">\n",
       "  <use xlink:href=\"#glyph-1627139595431226-0-8\" x=\"31.667\" y=\"65.732\"/>\n",
       "</g>\n",
       "<g style=\"fill:rgb(0%,0%,0%);fill-opacity:1;\">\n",
       "  <use xlink:href=\"#glyph-1627139595431226-0-7\" x=\"10.407\" y=\"93.581\"/>\n",
       "</g>\n",
       "<g style=\"fill:rgb(0%,0%,0%);fill-opacity:1;\">\n",
       "  <use xlink:href=\"#glyph-1627139595431226-0-9\" x=\"38.754\" y=\"94.532\"/>\n",
       "</g>\n",
       "<g style=\"fill:rgb(0%,0%,0%);fill-opacity:1;\">\n",
       "  <use xlink:href=\"#glyph-1627139595431226-0-6\" x=\"60.013\" y=\"36.818\"/>\n",
       "</g>\n",
       "<g style=\"fill:rgb(0%,0%,0%);fill-opacity:1;\">\n",
       "  <use xlink:href=\"#glyph-1627139595431226-0-10\" x=\"60.013\" y=\"64.099\"/>\n",
       "</g>\n",
       "<g style=\"fill:rgb(0%,0%,0%);fill-opacity:1;\">\n",
       "  <use xlink:href=\"#glyph-1627139595431226-0-8\" x=\"88.36\" y=\"65.732\"/>\n",
       "</g>\n",
       "<g style=\"fill:rgb(0%,0%,0%);fill-opacity:1;\">\n",
       "  <use xlink:href=\"#glyph-1627139595431226-0-10\" x=\"74.187\" y=\"92.445\"/>\n",
       "</g>\n",
       "<g style=\"fill:rgb(0%,0%,0%);fill-opacity:1;\">\n",
       "  <use xlink:href=\"#glyph-1627139595431226-0-7\" x=\"102.533\" y=\"93.581\"/>\n",
       "</g>\n",
       "</g>\n",
       "</svg>\n",
       "\n"
      ],
      "text/plain": [
       "LabelledTree({11, 10} directed simple Int64 graph, Any[:block, :(=), :x, :+, :x, 1, :(=), :y, :+, :y, :x])"
      ]
     },
     "execution_count": 29,
     "metadata": {},
     "output_type": "execute_result"
    }
   ],
   "source": [
    "ex = quote\n",
    "    x = x + 1\n",
    "    y = y + x\n",
    "end\n",
    "\n",
    "ex = Base.remove_linenums!(ex)\n",
    "\n",
    "TreeView.walk_tree(ex)"
   ]
  },
  {
   "cell_type": "markdown",
   "id": "6e185cc6-fcbf-493c-9cf0-acfb2bb22ef0",
   "metadata": {},
   "source": [
    "## Walking through expression trees"
   ]
  },
  {
   "cell_type": "markdown",
   "id": "21c66f42-9866-4822-8a62-09bebbb29188",
   "metadata": {},
   "source": [
    "Since complex expressions have a **recursive** structure, we need to take this into account when we process them.\n",
    "As a simple example, let's try to solve the following problems:\n",
    "\n",
    "> Given an expression, substitute `y` for `x`, i.e. replace each `x` in the expression with a `y`.\n",
    "\n",
    "The easiest way to do this is to *modify* the expression."
   ]
  },
  {
   "cell_type": "markdown",
   "id": "0db4c33a-e3e3-438d-bf0a-e38e17de5c01",
   "metadata": {},
   "source": [
    "How can we do this? We will need to check each argument to see if it's an `:x`. If it is, we replace it; if not, we move on:"
   ]
  },
  {
   "cell_type": "markdown",
   "id": "7c72dd76-bbee-42f5-b057-9e8fda277566",
   "metadata": {},
   "source": [
    "## Exercise\n",
    "\n",
    "1. Write a function `substitute!` that takes an expression and replaces each `:x` with `:y`.\n",
    "\n",
    "2. Test it on the expression `x + x * y`. Does it work correctly? If not, what is it missing?"
   ]
  },
  {
   "cell_type": "markdown",
   "id": "42655bf3-8f77-4756-822b-c787f69aa7b5",
   "metadata": {},
   "source": [
    "[Deliberately blank!]"
   ]
  },
  {
   "cell_type": "code",
   "execution_count": null,
   "id": "63cad203-a3d7-497f-a174-ce2a5143ccee",
   "metadata": {},
   "outputs": [],
   "source": []
  },
  {
   "cell_type": "code",
   "execution_count": null,
   "id": "f8539e10-8f57-458c-82b3-85685141fb24",
   "metadata": {},
   "outputs": [],
   "source": []
  },
  {
   "cell_type": "code",
   "execution_count": null,
   "id": "ae6851f2-ff3b-42d8-b028-3c4c224ed436",
   "metadata": {},
   "outputs": [],
   "source": []
  },
  {
   "cell_type": "code",
   "execution_count": null,
   "id": "eaf6c82a-cba8-4666-99bd-7a83d762b426",
   "metadata": {},
   "outputs": [],
   "source": []
  },
  {
   "cell_type": "code",
   "execution_count": null,
   "id": "e134fcf4-3c14-4f66-9799-09e5988a50f7",
   "metadata": {},
   "outputs": [],
   "source": []
  },
  {
   "cell_type": "code",
   "execution_count": null,
   "id": "da01743c-c212-46cf-98ae-bdf737c83c49",
   "metadata": {},
   "outputs": [],
   "source": []
  },
  {
   "cell_type": "code",
   "execution_count": 57,
   "id": "f6f1eae3-2916-4a75-9548-2ba3ab87bc7a",
   "metadata": {},
   "outputs": [
    {
     "data": {
      "text/plain": [
       "substitute! (generic function with 1 method)"
      ]
     },
     "execution_count": 57,
     "metadata": {},
     "output_type": "execute_result"
    }
   ],
   "source": [
    "function substitute!(ex)\n",
    "    args = ex.args  # for ease\n",
    "    \n",
    "    for i in 1:length(args)\n",
    "        if args[i] == :x\n",
    "            args[i] = :y\n",
    "        end\n",
    "    end\n",
    "    \n",
    "    return ex\n",
    "end"
   ]
  },
  {
   "cell_type": "code",
   "execution_count": 58,
   "id": "90d41b37-6698-4c0c-9990-e55950ae4960",
   "metadata": {},
   "outputs": [
    {
     "data": {
      "text/plain": [
       ":(x + x * y)"
      ]
     },
     "execution_count": 58,
     "metadata": {},
     "output_type": "execute_result"
    }
   ],
   "source": [
    "ex = :(x + x * y)"
   ]
  },
  {
   "cell_type": "code",
   "execution_count": 59,
   "id": "c6cf4651-9099-4291-b85b-d3733818011c",
   "metadata": {},
   "outputs": [
    {
     "data": {
      "text/plain": [
       ":(y + x * y)"
      ]
     },
     "execution_count": 59,
     "metadata": {},
     "output_type": "execute_result"
    }
   ],
   "source": [
    "substitute!(ex)"
   ]
  },
  {
   "cell_type": "markdown",
   "id": "f4f826c4-7516-47ec-8636-370e33c6c7bb",
   "metadata": {},
   "source": [
    "Oops -- only one `x` was replaced. That's because the other ones are... *hidden inside recursive `Expr`s*! So we need to explicitly handle that case. To do so, we need to\n",
    "delve *inside* each such `Expr` and... call the function `substitute!` on it! Thus `substitute!` becomes a **recursive function**."
   ]
  },
  {
   "cell_type": "code",
   "execution_count": 60,
   "id": "6b3abeac-9920-4206-8136-a56fdb752856",
   "metadata": {},
   "outputs": [
    {
     "data": {
      "text/plain": [
       "substitute! (generic function with 1 method)"
      ]
     },
     "execution_count": 60,
     "metadata": {},
     "output_type": "execute_result"
    }
   ],
   "source": [
    "function substitute!(ex)\n",
    "    args = ex.args  # for ease\n",
    "    \n",
    "    for i in 1:length(args)\n",
    "        if args[i] == :x\n",
    "            args[i] = :y\n",
    "        \n",
    "        elseif args[i] isa Expr\n",
    "            substitute!(args[i])\n",
    "        end\n",
    "    end\n",
    "    \n",
    "    return ex\n",
    "end"
   ]
  },
  {
   "cell_type": "code",
   "execution_count": 62,
   "id": "7603c496-e8cc-4c87-8098-37652742a768",
   "metadata": {},
   "outputs": [
    {
     "data": {
      "text/plain": [
       ":(x + x * y)"
      ]
     },
     "execution_count": 62,
     "metadata": {},
     "output_type": "execute_result"
    }
   ],
   "source": [
    "ex = :(x + x * y)"
   ]
  },
  {
   "cell_type": "code",
   "execution_count": 63,
   "id": "de7d531d-ddb7-42d7-b16d-f1a4fbc974d7",
   "metadata": {},
   "outputs": [
    {
     "data": {
      "text/plain": [
       ":(y + y * y)"
      ]
     },
     "execution_count": 63,
     "metadata": {},
     "output_type": "execute_result"
    }
   ],
   "source": [
    "substitute!(ex)"
   ]
  },
  {
   "cell_type": "markdown",
   "id": "9a8ff686-7eea-49eb-ba04-10e57b1cb886",
   "metadata": {},
   "source": [
    "Now *all* `x`s were successfully replaced! But note that the original expression has been lost:"
   ]
  },
  {
   "cell_type": "code",
   "execution_count": 64,
   "id": "b20dfa8c-bca9-47c0-9b53-fda071813dd0",
   "metadata": {},
   "outputs": [
    {
     "data": {
      "text/plain": [
       ":(y + y * y)"
      ]
     },
     "execution_count": 64,
     "metadata": {},
     "output_type": "execute_result"
    }
   ],
   "source": [
    "ex"
   ]
  },
  {
   "cell_type": "markdown",
   "id": "e0df3203-0b11-4aeb-912d-cb4c21d780f9",
   "metadata": {},
   "source": [
    "Although the code is *easier to write* using mutation (since otherwise we need to build up a similar expression with the same structure, which is possible but trickier), users probably don't expect or want their expression to be mutated, since you cannot then recover the original expression, which you might need later. It is common to then provide a *non-mutating* version, by making a copy of the original expression and mutating that."
   ]
  },
  {
   "cell_type": "code",
   "execution_count": 43,
   "id": "0294df80-7104-4a85-ae4f-8e8d9a2593c4",
   "metadata": {},
   "outputs": [
    {
     "data": {
      "text/plain": [
       "substitute (generic function with 1 method)"
      ]
     },
     "execution_count": 43,
     "metadata": {},
     "output_type": "execute_result"
    }
   ],
   "source": [
    "function substitute(ex)\n",
    "    ex2 = deepcopy(ex)\n",
    "    substitute!(ex2)\n",
    "    \n",
    "    return ex2\n",
    "end"
   ]
  },
  {
   "cell_type": "code",
   "execution_count": 65,
   "id": "80276c3e-7b6c-4a7e-a961-63d4cfccc6b4",
   "metadata": {},
   "outputs": [
    {
     "data": {
      "text/plain": [
       ":(x + x * y)"
      ]
     },
     "execution_count": 65,
     "metadata": {},
     "output_type": "execute_result"
    }
   ],
   "source": [
    "ex = :(x + x * y)"
   ]
  },
  {
   "cell_type": "code",
   "execution_count": 66,
   "id": "fb11f21a-a741-47e8-a455-5ca8136b7096",
   "metadata": {},
   "outputs": [
    {
     "data": {
      "text/plain": [
       ":(y + y * y)"
      ]
     },
     "execution_count": 66,
     "metadata": {},
     "output_type": "execute_result"
    }
   ],
   "source": [
    "substitute(ex)"
   ]
  },
  {
   "cell_type": "markdown",
   "id": "3c51ebaf-bd03-4b54-a2c6-0243023df8fa",
   "metadata": {},
   "source": [
    "The original expression has now not changed:"
   ]
  },
  {
   "cell_type": "code",
   "execution_count": 67,
   "id": "b60c1036-2b3a-43f1-b3ea-0f377c0b5612",
   "metadata": {},
   "outputs": [
    {
     "data": {
      "text/plain": [
       ":(x + x * y)"
      ]
     },
     "execution_count": 67,
     "metadata": {},
     "output_type": "execute_result"
    }
   ],
   "source": [
    "ex"
   ]
  },
  {
   "cell_type": "markdown",
   "id": "a5e56385-02b7-4064-aafd-862e480b941b",
   "metadata": {},
   "source": [
    "Note that it would have been tempting to write this by iterating over the arguments using `for arg in ex.args ...`, but that will *not* work, since you then *cannot* modify the resulting argument in place within the expression &ndash; `arg` is a *copy* of the immutable object inside the expression, rather than a *reference* to it:"
   ]
  },
  {
   "cell_type": "code",
   "execution_count": 50,
   "id": "182d4d9a-4d1d-44ba-853a-1dc1b1690082",
   "metadata": {},
   "outputs": [
    {
     "data": {
      "text/plain": [
       ":(x + y)"
      ]
     },
     "execution_count": 50,
     "metadata": {},
     "output_type": "execute_result"
    }
   ],
   "source": [
    "ex = :(x + y)"
   ]
  },
  {
   "cell_type": "code",
   "execution_count": 54,
   "id": "1dec5d00-515a-4e9b-b21c-7b5452a98fe7",
   "metadata": {},
   "outputs": [
    {
     "name": "stdout",
     "output_type": "stream",
     "text": [
      "arg = :+\n",
      "arg = :x\n",
      "arg = :y\n"
     ]
    }
   ],
   "source": [
    "for arg in ex.args\n",
    "    @show arg\n",
    "    arg = :z\n",
    "end"
   ]
  },
  {
   "cell_type": "code",
   "execution_count": 53,
   "id": "465d5a25-ece0-4266-9f3a-3cfed4bdef0d",
   "metadata": {},
   "outputs": [
    {
     "data": {
      "text/plain": [
       ":(x + y)"
      ]
     },
     "execution_count": 53,
     "metadata": {},
     "output_type": "execute_result"
    }
   ],
   "source": [
    "ex"
   ]
  },
  {
   "cell_type": "markdown",
   "id": "a8d1cd40-7ec6-40e5-8895-ec9db9c135a0",
   "metadata": {},
   "source": [
    "## Exercise\n",
    "\n",
    "1. Make the `substitute` function more general, by specifying what to substitute with what"
   ]
  },
  {
   "cell_type": "markdown",
   "id": "38d14512-1b36-42d2-8748-43e1d4fda64c",
   "metadata": {},
   "source": [
    "## Exercise"
   ]
  },
  {
   "cell_type": "markdown",
   "id": "999316be-2d34-44cc-8f7e-4b452bb7fedf",
   "metadata": {},
   "source": [
    "1. Find which variables are used inside an expression\n",
    "\n",
    "   For example, the expression `2x + y * x - 1` should return the vector `[x, y]`, removing duplicates.\n",
    "   \n",
    "   Hint: This requires returning the vector of variables.\n"
   ]
  },
  {
   "cell_type": "markdown",
   "id": "1faf5e4e-6b76-4558-a62c-4fa89833e35d",
   "metadata": {},
   "source": [
    "[Deliberately blank]"
   ]
  },
  {
   "cell_type": "code",
   "execution_count": null,
   "id": "473fe977-dc47-4473-9df6-82a9c092e3c2",
   "metadata": {},
   "outputs": [],
   "source": []
  },
  {
   "cell_type": "code",
   "execution_count": null,
   "id": "8d35f589-82e0-4c30-aa81-3621370c80d6",
   "metadata": {},
   "outputs": [],
   "source": []
  },
  {
   "cell_type": "code",
   "execution_count": null,
   "id": "e6ce7c13-337c-4f68-9f2e-2e459c8aba57",
   "metadata": {},
   "outputs": [],
   "source": []
  },
  {
   "cell_type": "code",
   "execution_count": null,
   "id": "fa855d7a-07d3-4568-a915-c1085e2cbd20",
   "metadata": {},
   "outputs": [],
   "source": []
  },
  {
   "cell_type": "code",
   "execution_count": null,
   "id": "720ed53c-b193-4417-bd96-101f4aa0448c",
   "metadata": {},
   "outputs": [],
   "source": []
  },
  {
   "cell_type": "code",
   "execution_count": null,
   "id": "00b76a7d-2f95-4261-abe1-2c9521c7fa75",
   "metadata": {},
   "outputs": [],
   "source": []
  },
  {
   "cell_type": "markdown",
   "id": "f7270d34-36b1-4e6a-9756-815b2c8d2e3e",
   "metadata": {},
   "source": [
    "## Solution to `find_variables`"
   ]
  },
  {
   "cell_type": "markdown",
   "id": "8b90fbac-7068-4ff9-a655-75fbca997ccc",
   "metadata": {},
   "source": [
    "We need to recursively walk the expression and pick out which things are variables and which are not.\n",
    "For this we need to realize that there are different types of objects at the leaves of the tree (i.e. which are not themselves expressions), in particular numbers and symbols.\n",
    "\n",
    "One way to write this is as follows:"
   ]
  },
  {
   "cell_type": "code",
   "execution_count": 2,
   "id": "7078a11d-8d69-487b-8bf5-99d3d568512f",
   "metadata": {},
   "outputs": [
    {
     "data": {
      "text/plain": [
       "find_variables (generic function with 1 method)"
      ]
     },
     "execution_count": 2,
     "metadata": {},
     "output_type": "execute_result"
    }
   ],
   "source": [
    "function find_variables(ex)\n",
    "    if ex isa Number\n",
    "        return []\n",
    "\n",
    "    elseif ex isa Symbol\n",
    "        return [ex]\n",
    "        \n",
    "    end\n",
    "    \n",
    "    # If we have reached here then ex is an Expr\n",
    "    \n",
    "    args = ex.args\n",
    "        \n",
    "    all = [ find_variables(arg) for arg in args[2:end] ]\n",
    "    return all\n",
    "end\n"
   ]
  },
  {
   "cell_type": "code",
   "execution_count": 3,
   "id": "c74599c4-fb73-4ac2-9d88-a7dc62e3f75e",
   "metadata": {},
   "outputs": [
    {
     "data": {
      "text/plain": [
       "2-element Vector{Vector{T} where T}:\n",
       " [:x]\n",
       " [[:x], [:y]]"
      ]
     },
     "execution_count": 3,
     "metadata": {},
     "output_type": "execute_result"
    }
   ],
   "source": [
    "find_variables(:(x + x * y))"
   ]
  },
  {
   "cell_type": "code",
   "execution_count": 4,
   "id": "aa942a6b-574f-464e-8f2d-7c67ca0ab40a",
   "metadata": {},
   "outputs": [
    {
     "data": {
      "text/plain": [
       "1-element Vector{Vector{Vector{Symbol}}}:\n",
       " [[:x], [:y]]"
      ]
     },
     "execution_count": 4,
     "metadata": {},
     "output_type": "execute_result"
    }
   ],
   "source": [
    "find_variables(:(z = x + y))"
   ]
  },
  {
   "cell_type": "markdown",
   "id": "891700d4-40ca-46d3-a3b2-1eb7cdfde96d",
   "metadata": {},
   "source": [
    "We see that the idea is on the right track, but there is some more work to do!"
   ]
  },
  {
   "cell_type": "markdown",
   "id": "9e3c0158-952a-43a0-b07e-08f97d27e659",
   "metadata": {},
   "source": [
    "But first let's remark that it is usually an **anti-pattern** to use `isa` in Julia! [Recall that `x isa T` tests if the object `x` has type `T`.]\n",
    "This should usually be replaced by **dispatch**! We can rewrite the same code as follows:"
   ]
  },
  {
   "cell_type": "code",
   "execution_count": 5,
   "id": "4864d239-9e97-4a64-a4a3-bd51ab993dda",
   "metadata": {},
   "outputs": [
    {
     "data": {
      "text/plain": [
       "find_variables (generic function with 4 methods)"
      ]
     },
     "execution_count": 5,
     "metadata": {},
     "output_type": "execute_result"
    }
   ],
   "source": [
    "find_variables(ex::Number) = []\n",
    "find_variables(ex::Symbol) = [ex]\n",
    "\n",
    "find_variables(ex::Expr) = [ find_variables(arg) for arg in ex.args[2:end] ]"
   ]
  },
  {
   "cell_type": "code",
   "execution_count": 6,
   "id": "f27469f2-f9bb-4fb0-b3a0-e387e15b4aee",
   "metadata": {},
   "outputs": [
    {
     "data": {
      "text/plain": [
       "1-element Vector{Vector{Vector{Symbol}}}:\n",
       " [[:x], [:y]]"
      ]
     },
     "execution_count": 6,
     "metadata": {},
     "output_type": "execute_result"
    }
   ],
   "source": [
    "find_variables(:(z = x + y))"
   ]
  },
  {
   "cell_type": "markdown",
   "id": "536692e4-5176-45ad-b523-93b73275d0dc",
   "metadata": {},
   "source": [
    "On the other hand, it's not clear (to the author) that this is any faster. It is more elegant and (possibly) reduces cognitive overhead."
   ]
  },
  {
   "cell_type": "markdown",
   "id": "bca33b65-bedf-426c-bdf7-baab78a5df49",
   "metadata": {},
   "source": [
    "## Exercise \n",
    "\n",
    "1. Correct `find_variables` so that it returns a list of the unique variables in the expression. Make sure that `z = x + y` works correctly (returning `[x, y, z]`)."
   ]
  },
  {
   "cell_type": "markdown",
   "id": "44746478-8916-4dff-bf26-9fac0ab4bd4a",
   "metadata": {},
   "source": [
    "[Blank!]"
   ]
  },
  {
   "cell_type": "code",
   "execution_count": null,
   "id": "be49b9cb-5188-461b-84e7-3d771685fc41",
   "metadata": {},
   "outputs": [],
   "source": []
  },
  {
   "cell_type": "code",
   "execution_count": null,
   "id": "b2d2a181-05d7-497a-a10e-817d79f0bd4c",
   "metadata": {},
   "outputs": [],
   "source": []
  },
  {
   "cell_type": "code",
   "execution_count": null,
   "id": "df48f0b2-1bea-4f7f-92c3-49149a90e76c",
   "metadata": {},
   "outputs": [],
   "source": []
  },
  {
   "cell_type": "code",
   "execution_count": null,
   "id": "099ec58f-8a36-4ed2-bfe0-bc60b6520d71",
   "metadata": {},
   "outputs": [],
   "source": []
  },
  {
   "cell_type": "code",
   "execution_count": null,
   "id": "f3809c0e-56a7-41a0-95d1-b0585589d6e0",
   "metadata": {},
   "outputs": [],
   "source": []
  },
  {
   "cell_type": "markdown",
   "id": "b9355b4a-21b0-4735-a2d5-b58990eb10de",
   "metadata": {},
   "source": [
    "- Which variables are used somewhere in an expression?"
   ]
  },
  {
   "cell_type": "code",
   "execution_count": 15,
   "id": "4dbd2f67-995f-4075-a65c-49b9850cee2b",
   "metadata": {},
   "outputs": [
    {
     "data": {
      "text/plain": [
       "find_variables (generic function with 3 methods)"
      ]
     },
     "execution_count": 15,
     "metadata": {},
     "output_type": "execute_result"
    }
   ],
   "source": [
    "find_variables(x::Symbol) = [x]\n",
    "find_variables(x::Real) = []\n",
    "\n",
    "find_variables(x::Expr) = sort(unique(reduce(vcat, find_variables(arg) for arg in x.args[2:end])))"
   ]
  },
  {
   "cell_type": "markdown",
   "id": "dd684311-474c-4e92-8eec-b8f4148c00ef",
   "metadata": {},
   "source": [
    "This is still not correct, since it doesn't handle assignment. For that we need an explicit check of the `ex.head`.\n",
    "This is because Julia's `Expr` type is really untyped; there is no different type like `Assignment` that we could check using dispatch.\n",
    "This is a small example showing that metaprogramming is *hard*: there can be lots of corner cases to deal with!"
   ]
  },
  {
   "cell_type": "markdown",
   "id": "40edf145-25ed-4ede-93ed-6fedac288ead",
   "metadata": {},
   "source": [
    "## Quote blocks"
   ]
  },
  {
   "cell_type": "markdown",
   "id": "2d8b2c00-32ed-46ef-a74f-1317db8c31ec",
   "metadata": {},
   "source": [
    "For longer pieces of code it is common to use `quote ... end` instead of `:( ... )`:"
   ]
  },
  {
   "cell_type": "code",
   "execution_count": 18,
   "id": "43283083-2fe9-4e71-ba25-7f225047d4f4",
   "metadata": {},
   "outputs": [
    {
     "data": {
      "text/plain": [
       "quote\n",
       "    #= In[18]:2 =#\n",
       "    x = x + 1\n",
       "    #= In[18]:3 =#\n",
       "    y = y + x\n",
       "end"
      ]
     },
     "execution_count": 18,
     "metadata": {},
     "output_type": "execute_result"
    }
   ],
   "source": [
    "ex = quote\n",
    "    x = x + 1\n",
    "    y = y + x\n",
    "end"
   ]
  },
  {
   "cell_type": "markdown",
   "id": "6aa3480d-957d-47a0-9ff7-610500a1d1ec",
   "metadata": {},
   "source": [
    "Note that quote blocks automatically embed line number information telling you where that piece of code was created, for debugging purposes.\n",
    "We can remove that with `Base.remove"
   ]
  },
  {
   "cell_type": "code",
   "execution_count": 20,
   "id": "24ba529f-fa99-49fe-993a-4f61b4e6acbc",
   "metadata": {},
   "outputs": [
    {
     "data": {
      "text/plain": [
       "quote\n",
       "    x = x + 1\n",
       "    y = y + x\n",
       "end"
      ]
     },
     "execution_count": 20,
     "metadata": {},
     "output_type": "execute_result"
    }
   ],
   "source": [
    "Base.remove_linenums!(ex)"
   ]
  },
  {
   "cell_type": "code",
   "execution_count": 21,
   "id": "f06b71d5-9988-4eac-b252-d344927c31f0",
   "metadata": {},
   "outputs": [
    {
     "name": "stdout",
     "output_type": "stream",
     "text": [
      "Expr\n",
      "  head: Symbol block\n",
      "  args: Array{Any}((2,))\n",
      "    1: Expr\n",
      "      head: Symbol =\n",
      "      args: Array{Any}((2,))\n",
      "        1: Symbol x\n",
      "        2: Expr\n",
      "          head: Symbol call\n",
      "          args: Array{Any}((3,))\n",
      "            1: Symbol +\n",
      "            2: Symbol x\n",
      "            3: Int64 1\n",
      "    2: Expr\n",
      "      head: Symbol =\n",
      "      args: Array{Any}((2,))\n",
      "        1: Symbol y\n",
      "        2: Expr\n",
      "          head: Symbol call\n",
      "          args: Array{Any}((3,))\n",
      "            1: Symbol +\n",
      "            2: Symbol y\n",
      "            3: Symbol x\n"
     ]
    }
   ],
   "source": [
    "dump( Base.remove_linenums!(ex) )"
   ]
  },
  {
   "cell_type": "markdown",
   "id": "1808f8df-082b-4f71-9496-44773d6c9489",
   "metadata": {},
   "source": [
    "The only new feature here is that a quote **block** is a new type of `Expr` with `head` equal to `:block`."
   ]
  },
  {
   "cell_type": "markdown",
   "id": "c392e3e9-8c01-41f2-a698-e548208c20b0",
   "metadata": {},
   "source": [
    "## Futher exercises\n",
    "\n",
    "1. Given an expression, wrap all the literal values (numbers) in the expression with a wrapper type.\n",
    "\n",
    "2. Replace each of `+`, `-`, `*` and `/` with the corresponding **checked** operation, which checks for overflow. E.g. `+` should be replaced by `Base.checked_add`."
   ]
  }
 ],
 "metadata": {
  "kernelspec": {
   "display_name": "Julia 1.6.2",
   "language": "julia",
   "name": "julia-1.6"
  },
  "language_info": {
   "file_extension": ".jl",
   "mimetype": "application/julia",
   "name": "julia",
   "version": "1.6.2"
  }
 },
 "nbformat": 4,
 "nbformat_minor": 5
}
