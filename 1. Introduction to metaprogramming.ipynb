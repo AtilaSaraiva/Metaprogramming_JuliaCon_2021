{
 "cells": [
  {
   "cell_type": "markdown",
   "id": "built-handling",
   "metadata": {},
   "source": [
    "<h1> Introduction to metaprogramming in Julia </h1>\n",
    "\n",
    "## Generating Julia code from within Julia\n",
    "\n",
    "### David P. Sanders\n",
    "\n",
    "#### Facultad de Ciencias, Universidad Nacional Autónoma de México (UNAM)\n",
    "#### Department of Mathematics & Julia Lab, MIT"
   ]
  },
  {
   "cell_type": "markdown",
   "id": "choice-membrane",
   "metadata": {},
   "source": [
    "### \"High-level code that writes high-level code\" (Steven Johnson)"
   ]
  },
  {
   "cell_type": "markdown",
   "id": "5d36f3d3-5f0a-4578-99d7-911c77ec75bb",
   "metadata": {},
   "source": [
    "## What is metaprogramming?"
   ]
  },
  {
   "cell_type": "markdown",
   "id": "011699fb-4eb1-4e2b-ad88-3e2b66d112fe",
   "metadata": {},
   "source": [
    "Most of the programs that we write are pieces of code whose purpose is to manipulate data in some way.\n",
    "\n",
    "Sometimes, though, we need to do **metaprogramming**. \n",
    "The word [\"**meta**\"](https://en.wikipedia.org/wiki/Meta) roughly means \"something on a higher level\".\n",
    "So **metaprogramming** means  \"higher-level programming\": writing code (a program) that manipulates *code*. (And the new code will then manipulate data.)\n"
   ]
  },
  {
   "cell_type": "markdown",
   "id": "eaf8b079-b6fd-452e-a8fc-fc60ffc0525d",
   "metadata": {},
   "source": [
    "# Motivation: Why do we need metaprogramming?"
   ]
  },
  {
   "cell_type": "markdown",
   "id": "2c9d86a5-c1a7-4d04-a4ae-06d4e7ab10a6",
   "metadata": {},
   "source": [
    "The short answer is that we don't *need* it at all! Everything we can do with metaprogramming can be done, in principle, without it.\n",
    "But metaprogramming can *make our life easier / better*, by automating the generation of repetitive bits of code (often called **boilerplate** code).\n",
    "\n",
    "Here are two simple examples:"
   ]
  },
  {
   "cell_type": "markdown",
   "id": "107f3eae-6bd6-4cd1-bf8b-4a3a1d9bab75",
   "metadata": {},
   "source": [
    "Suppose we have a variable `my_long_variable` and we wish to display the value *and the name* of the variable. We could write"
   ]
  },
  {
   "cell_type": "code",
   "execution_count": 1,
   "id": "75c79d1b-76c3-4b24-a112-c03d392c76af",
   "metadata": {},
   "outputs": [
    {
     "name": "stdout",
     "output_type": "stream",
     "text": [
      "my_long_variable = 3\n"
     ]
    }
   ],
   "source": [
    "my_long_variable = 3\n",
    "\n",
    "println(\"my_long_variable = \", my_long_variable)"
   ]
  },
  {
   "cell_type": "markdown",
   "id": "adeac2db-c484-4fae-8952-10d9101ad14d",
   "metadata": {},
   "source": [
    "But it's annoying that I need to write `my_long_variable` twice &nbsp; I would like to write it only once.\n",
    "Unfortunately this is *not possible* using a normal Julia function, since when you pass an argument to a function, you pass its *value*; all information about where that value came from is forgotten."
   ]
  },
  {
   "cell_type": "markdown",
   "id": "a257231c-9dbd-4a6c-9565-1bca244205e8",
   "metadata": {},
   "source": [
    "For example, tt's easy to make a function `myshow` that displays the *value* that a variable is bound to:"
   ]
  },
  {
   "cell_type": "code",
   "execution_count": 3,
   "id": "802e70ab-96a7-459c-9b46-cff5209218d2",
   "metadata": {},
   "outputs": [
    {
     "data": {
      "text/plain": [
       "myshow (generic function with 1 method)"
      ]
     },
     "execution_count": 3,
     "metadata": {},
     "output_type": "execute_result"
    }
   ],
   "source": [
    "function myshow(y)\n",
    "    println(\"The value is $y\")\n",
    "end"
   ]
  },
  {
   "cell_type": "code",
   "execution_count": 82,
   "id": "d374c76e-d985-49af-8537-9e32c61f2a38",
   "metadata": {},
   "outputs": [
    {
     "data": {
      "text/plain": [
       "2"
      ]
     },
     "execution_count": 82,
     "metadata": {},
     "output_type": "execute_result"
    }
   ],
   "source": [
    "a = 1; b = 2"
   ]
  },
  {
   "cell_type": "code",
   "execution_count": 4,
   "id": "582cafd2-e03d-46b2-88bd-78737702053e",
   "metadata": {},
   "outputs": [
    {
     "name": "stdout",
     "output_type": "stream",
     "text": [
      "The value is 3\n"
     ]
    }
   ],
   "source": [
    "myshow(a + b)"
   ]
  },
  {
   "cell_type": "markdown",
   "id": "17afd7bc-bb30-43e3-835b-5e8eeeddae6e",
   "metadata": {},
   "source": [
    "But if we want to know *whose* value is that, the function *does not know* &ndash; it receives *only* the value itself."
   ]
  },
  {
   "cell_type": "markdown",
   "id": "3973377b-5751-4600-b0e3-7caf7bb20872",
   "metadata": {},
   "source": [
    "The solution is to use a **macro**; macros are indicated with the `@` symbol:"
   ]
  },
  {
   "cell_type": "code",
   "execution_count": 70,
   "id": "78254740-bb12-403e-b2c7-fc3e95ee0e8c",
   "metadata": {},
   "outputs": [
    {
     "name": "stdout",
     "output_type": "stream",
     "text": [
      "y = 3\n"
     ]
    },
    {
     "data": {
      "text/plain": [
       "3"
      ]
     },
     "execution_count": 70,
     "metadata": {},
     "output_type": "execute_result"
    }
   ],
   "source": [
    "@show y"
   ]
  },
  {
   "cell_type": "markdown",
   "id": "10f9cdb8-673b-42b7-b726-c29bb7fb8218",
   "metadata": {},
   "source": [
    "We see that the macro in some sense \"has access\" to the *name* of the variable."
   ]
  },
  {
   "cell_type": "markdown",
   "id": "c9ebd565-17d2-485d-bf57-1edb20586df6",
   "metadata": {},
   "source": [
    "What is happening here? A macro takes a *piece of code* (expression) and modifies it to produce a *new piece of code*. \n",
    "The process of producing new code is often called **code generation**.\n",
    "\n",
    "This new piece of code replaces the old piece of code *before* anything gets compiled, so that the compiler never sees the original code, but only the new code. Later in the workshop we will see how this works in more detail. \n",
    "For now, we just remark that it is possible to see exactly what any macro is doing by displaying the new code this macro *expands* to using `@macroexpand` as follows. For now we just want to get a feel for what's happening, not look at the details of the code that is generated:"
   ]
  },
  {
   "cell_type": "code",
   "execution_count": 71,
   "id": "1bf09f78-2e3c-439c-ac89-f1f672e74398",
   "metadata": {},
   "outputs": [
    {
     "data": {
      "text/plain": [
       "quote\n",
       "    Base.println(\"y = \", Base.repr(begin\n",
       "                #= show.jl:955 =#\n",
       "                local var\"#59#value\" = y\n",
       "            end))\n",
       "    var\"#59#value\"\n",
       "end"
      ]
     },
     "execution_count": 71,
     "metadata": {},
     "output_type": "execute_result"
    }
   ],
   "source": [
    "@macroexpand @show y"
   ]
  },
  {
   "cell_type": "markdown",
   "id": "5381917c-e4ca-4448-9996-689320b6b354",
   "metadata": {},
   "source": [
    "We can remove the line number information with `Base.remove_linenums!`:"
   ]
  },
  {
   "cell_type": "code",
   "execution_count": 77,
   "id": "626cbf6a-efa3-4e49-859d-64406f069a74",
   "metadata": {},
   "outputs": [
    {
     "data": {
      "text/plain": [
       "quote\n",
       "    Base.println(\"y = \", Base.repr(begin\n",
       "                local var\"#76#value\" = y\n",
       "            end))\n",
       "    var\"#76#value\"\n",
       "end"
      ]
     },
     "execution_count": 77,
     "metadata": {},
     "output_type": "execute_result"
    }
   ],
   "source": [
    "Base.remove_linenums!( @macroexpand @show y )"
   ]
  },
  {
   "cell_type": "markdown",
   "id": "5fc1a3c0-c1ad-49c1-b51a-a2896a03b6cb",
   "metadata": {},
   "source": [
    "Another example is `@time`. This wraps boilerplate (i.e. repetitive) timing code around the given piece of code. Again it needs access to the code itself, not the *result* of running that code:"
   ]
  },
  {
   "cell_type": "code",
   "execution_count": 83,
   "id": "53be164b-9fad-4ed9-b3d3-1c93492838f3",
   "metadata": {},
   "outputs": [
    {
     "data": {
      "text/plain": [
       "quote\n",
       "    while false\n",
       "    end\n",
       "    local var\"#82#stats\" = Base.gc_num()\n",
       "    local var\"#85#compile_elapsedtime\" = Base.cumulative_compile_time_ns_before()\n",
       "    local var\"#84#elapsedtime\" = Base.time_ns()\n",
       "    local var\"#83#val\" = exp(1)\n",
       "    var\"#84#elapsedtime\" = Base.time_ns() - var\"#84#elapsedtime\"\n",
       "    var\"#85#compile_elapsedtime\" = Base.cumulative_compile_time_ns_after() - var\"#85#compile_elapsedtime\"\n",
       "    local var\"#86#diff\" = Base.GC_Diff(Base.gc_num(), var\"#82#stats\")\n",
       "    Base.time_print(var\"#84#elapsedtime\", (var\"#86#diff\").allocd, (var\"#86#diff\").total_time, Base.gc_alloc_count(var\"#86#diff\"), var\"#85#compile_elapsedtime\", true)\n",
       "    var\"#83#val\"\n",
       "end"
      ]
     },
     "execution_count": 83,
     "metadata": {},
     "output_type": "execute_result"
    }
   ],
   "source": [
    "Base.remove_linenums!( @macroexpand @time exp(1) )"
   ]
  },
  {
   "cell_type": "markdown",
   "id": "7a9eeea3-82c0-4bf0-8ca5-b710ff44212c",
   "metadata": {},
   "source": [
    "In summary, metaprogramming can reduce the burden on the user by automating the generation of repetitive bits of code."
   ]
  },
  {
   "cell_type": "markdown",
   "id": "7a760186-2fa7-4fb1-9c0a-576128a95436",
   "metadata": {},
   "source": [
    "### Metaprogramming for Domain-Specific Languages"
   ]
  },
  {
   "cell_type": "markdown",
   "id": "388e99ac-9995-4b6e-b629-6202aec3b431",
   "metadata": {},
   "source": [
    "Following the same idea, we can also use metaprogramming to automate less mundane tasks, namely the generation of complex scientific models. \n",
    "\n",
    "Often a Julia package for defining and simulating scientific models will create new Julia types representing those models, containing necessary information for simulating them.\n",
    "But the user would like to specify such models in a \"domain-specific language\", which is much more mathematicalj, and this mathematical syntax needs some pre-processing before \n",
    "the corresponding Julia objects can be created.\n",
    "\n",
    "A great example of this is the [Catalyst.jl](https://github.com/SciML/Catalyst.jl) package for specifying networks of chemical reactions. \n",
    "The user-facing syntax \n",
    "\n",
    "```\n",
    "@reaction_network begin\n",
    "  k1, A --> B\n",
    "  k2, B --> A\n",
    "end k1 k2 \n",
    "```\n",
    "\n",
    "looks like the specification of two chemical reactions from a chemistry textbook. Using a macro allows us to *sidestep* standard Julia syntax (\"spelling\") and\n",
    "*invent our own syntax*. \n",
    "\n",
    "Running this code gives the output\n",
    "\n",
    "```\n",
    "julia> network = @reaction_network begin\n",
    "         k1, A --> B\n",
    "         k2, B --> A\n",
    "       end k1 k2\n",
    "       \n",
    "Model ##ReactionSystem#257 with 2 equations\n",
    "States (2):\n",
    "  A(t)\n",
    "  B(t)\n",
    "Parameters (2):\n",
    "  k1\n",
    "  k2\n",
    "  \n",
    "\n",
    "julia> typeof(network)\n",
    "ReactionSystem\n",
    "  \n",
    "  \n",
    "```\n",
    "\n",
    "\n",
    "\n",
    "\n",
    "The macro then processes that syntax into actual Julia code and creates a standard Julia object as a result.\n",
    "Running `@macroexpand` on this gives\n",
    "\n",
    "```\n",
    "julia> @macroexpand @reaction_network begin\n",
    "         k1, A --> B\n",
    "         k2, B --> A\n",
    "       end k1 k2\n",
    "quote\n",
    "    begin\n",
    "        var\"#66#t\" = (ModelingToolkit.toparam)((Symbolics.wrap)((Sym){Real}(:t)))\n",
    "        var\"#67#k1\" = (ModelingToolkit.toparam)((Symbolics.wrap)((Sym){Real}(:k1)))\n",
    "        var\"#68#k2\" = (ModelingToolkit.toparam)((Symbolics.wrap)((Sym){Real}(:k2)))\n",
    "        [var\"#66#t\", var\"#67#k1\", var\"#68#k2\"]\n",
    "    end\n",
    "    begin\n",
    "        var\"#69#A\" = (identity)((Symbolics.wrap)(((Sym){(SymbolicUtils.FnType){Catalyst.NTuple{1, Catalyst.Any}, Real}}(:A))((Symbolics.value)(var\"#66#t\"))))\n",
    "        var\"#70#B\" = (identity)((Symbolics.wrap)(((Sym){(SymbolicUtils.FnType){Catalyst.NTuple{1, Catalyst.Any}, Real}}(:B))((Symbolics.value)(var\"#66#t\"))))\n",
    "        [var\"#69#A\", var\"#70#B\"]\n",
    "    end\n",
    "    Catalyst.ReactionSystem([Catalyst.Reaction(var\"#67#k1\", [var\"#69#A\"], [var\"#70#B\"], [1], [1], only_use_rate = false), Catalyst.Reaction(var\"#68#k2\", [var\"#70#B\"], [var\"#69#A\"], [1], [1], only_use_rate = false)], var\"#66#t\", [var\"#69#A\", var\"#70#B\"], [var\"#67#k1\", var\"#68#k2\"]; name = Symbol(\"##ReactionSystem#258\"))\n",
    "end\n",
    "```\n",
    "\n",
    "The macro has done a lot of work to convert the symbolic description into a Julia object!"
   ]
  },
  {
   "cell_type": "markdown",
   "id": "81b724e2-afb8-49e2-8933-6539ad2fbfd0",
   "metadata": {},
   "source": [
    "Note, however, that there is a *limitation* on the syntax allowed inside macros: we *cannot* use any syntax we want in a macro, but only syntax that \"obeys the rules of how Julia syntax is parsed\". As an example, parentheses must always be balanced in Julia, so it would not be possible to write a macro for half-open intervals that processed `x = (a, b]`. To use *arbitrary* syntax like this we would have to resort instead to [non-standard string literals](https://docs.julialang.org/en/v1/manual/strings/#non-standard-string-literals)."
   ]
  },
  {
   "cell_type": "markdown",
   "id": "414ef148-4093-49ee-85e1-285a28644e38",
   "metadata": {},
   "source": [
    "### When should we *not* use metaprogramming?"
   ]
  },
  {
   "cell_type": "markdown",
   "id": "71cd9b92-bc83-47ee-bbbe-a93ad7fd0c2c",
   "metadata": {},
   "source": [
    "Metaprogramming allows us to replace pieces of code with different bits of code. For example, given an expression `x * y`, we will see how we can replace the `*` inside the piece of code with `+`. However, Julia is a powerful language that provides many abstractions that mean that it is usually *not* necessary to use metaprogramming. For example, we can do this exact replacement using higher-order functions, without metaprogramming, as follows:"
   ]
  },
  {
   "cell_type": "code",
   "execution_count": 84,
   "id": "4b8be4f1-6c0d-4938-bd23-6ab807d78957",
   "metadata": {},
   "outputs": [
    {
     "data": {
      "text/plain": [
       "f (generic function with 1 method)"
      ]
     },
     "execution_count": 84,
     "metadata": {},
     "output_type": "execute_result"
    }
   ],
   "source": [
    "function f(x, y, +)\n",
    "    return x + y\n",
    "end"
   ]
  },
  {
   "cell_type": "markdown",
   "id": "2e9e1361-ef7c-4759-8dd6-59135fde356b",
   "metadata": {},
   "source": [
    "We can now pass in *different* binary operators instead of `+`!:"
   ]
  },
  {
   "cell_type": "code",
   "execution_count": 85,
   "id": "763059a3-644d-470d-a947-74e75287cd23",
   "metadata": {},
   "outputs": [
    {
     "data": {
      "text/plain": [
       "7"
      ]
     },
     "execution_count": 85,
     "metadata": {},
     "output_type": "execute_result"
    }
   ],
   "source": [
    "f(3, 4, +)"
   ]
  },
  {
   "cell_type": "code",
   "execution_count": 86,
   "id": "3ceca6c1-87c2-4bf2-a90a-fc15f0571b45",
   "metadata": {},
   "outputs": [
    {
     "data": {
      "text/plain": [
       "12"
      ]
     },
     "execution_count": 86,
     "metadata": {},
     "output_type": "execute_result"
    }
   ],
   "source": [
    "f(3, 4, *)"
   ]
  },
  {
   "cell_type": "code",
   "execution_count": 87,
   "id": "19c57db1-5c3b-4f01-8ef0-efd202370496",
   "metadata": {},
   "outputs": [
    {
     "data": {
      "text/plain": [
       "4"
      ]
     },
     "execution_count": 87,
     "metadata": {},
     "output_type": "execute_result"
    }
   ],
   "source": [
    "f(3, 4, max)"
   ]
  },
  {
   "cell_type": "markdown",
   "id": "602a1a0b-d8de-4f99-9ef3-d6a6be7d7845",
   "metadata": {},
   "source": [
    "However, now consider a more complicated piece of code like `x + y - z / (w * t)`. If we wish to replace each of the operators by a different one, it starts to get cumbersome to pass them all as parameters. This is quite a difficult problem in general, which has spawned multiple attempts to solve it in the Julia ecosystem. We will see a couple of possible solutions during this workshop."
   ]
  },
  {
   "cell_type": "markdown",
   "id": "b49b8514-1837-47e8-b534-bdd3876b3579",
   "metadata": {},
   "source": [
    "[Deliberately blank!]"
   ]
  },
  {
   "cell_type": "code",
   "execution_count": null,
   "id": "a528cf23-a222-4556-a2b4-cd9abb19a672",
   "metadata": {},
   "outputs": [],
   "source": []
  },
  {
   "cell_type": "code",
   "execution_count": null,
   "id": "a606a001-ec49-4551-bfaf-e478a064f3bd",
   "metadata": {},
   "outputs": [],
   "source": []
  },
  {
   "cell_type": "code",
   "execution_count": null,
   "id": "82b2c29a-8cb6-49f5-be32-dde5f9f3e1a8",
   "metadata": {},
   "outputs": [],
   "source": []
  },
  {
   "cell_type": "code",
   "execution_count": null,
   "id": "87d65ecf-b076-40bd-b7fc-5d4c80331c03",
   "metadata": {},
   "outputs": [],
   "source": []
  },
  {
   "cell_type": "code",
   "execution_count": null,
   "id": "e45c1042-17b4-4581-9cf1-907523a153ea",
   "metadata": {},
   "outputs": [],
   "source": []
  }
 ],
 "metadata": {
  "kernelspec": {
   "display_name": "Julia 1.6.2",
   "language": "julia",
   "name": "julia-1.6"
  },
  "language_info": {
   "file_extension": ".jl",
   "mimetype": "application/julia",
   "name": "julia",
   "version": "1.6.2"
  },
  "toc-autonumbering": false,
  "toc-showcode": false,
  "toc-showmarkdowntxt": false,
  "toc-showtags": false
 },
 "nbformat": 4,
 "nbformat_minor": 5
}
