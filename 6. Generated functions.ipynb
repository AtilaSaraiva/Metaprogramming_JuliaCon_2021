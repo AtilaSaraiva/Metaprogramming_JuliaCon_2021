{
 "cells": [
  {
   "cell_type": "markdown",
   "id": "flush-store",
   "metadata": {},
   "source": [
    "# Generated functions "
   ]
  },
  {
   "cell_type": "markdown",
   "id": "adopted-medication",
   "metadata": {},
   "source": [
    "**Generated functions** are a mechanism for literally **generating** functions, in the sense of **code generation** for different types, when you want **complete control** over the resulting code.\n",
    "\n",
    "They are used for parametric types where we need to generate high-performance code whose exact structure changes depending on an input parameter. Examples often involve implementing **unrolled** code for arrays of known size, as in the `StaticArrays.jl` package.\n",
    "\n",
    "Functions are generated *on demand*, i.e. only those ones that are actually called have code generated.\n",
    "\n",
    "These are things that you could do at runtime, when we know the types and the values. By doing it at compile time, when we know the types (but not the values) we can do performance optimizations.  Do the computation only once (when each version of the function is compiled), not every time you call the function."
   ]
  },
  {
   "cell_type": "markdown",
   "id": "agricultural-trustee",
   "metadata": {},
   "source": [
    "https://discourse.julialang.org/t/understanding-generated-functions/10092/4"
   ]
  },
  {
   "cell_type": "markdown",
   "id": "prerequisite-scheduling",
   "metadata": {},
   "source": [
    "Steven Johnson keynote: \"Adventures in Code Generation\". https://www.youtube.com/watch?v=mSgXWpvQEHE"
   ]
  },
  {
   "cell_type": "markdown",
   "id": "7af01d78-4c95-4470-90f3-e12626a5f39b",
   "metadata": {},
   "source": [
    "## Example: Multiplying polynomials"
   ]
  },
  {
   "cell_type": "markdown",
   "id": "cb5c2b46-824e-4651-b79b-1735afc5392b",
   "metadata": {},
   "source": [
    "This example is modified from the https://github.com/tkoolen/StaticUnivariatePolynomials.jl package; thanks to Twan Koolen."
   ]
  },
  {
   "cell_type": "markdown",
   "id": "9bc1b31e-1dc1-4820-89b6-258a6696e48d",
   "metadata": {},
   "source": [
    "Suppose we have a polynomial parametrised by its degree. For simplicity we will assume that the coefficients are integers. We follow the convention in `Polynomials.jl` that the coefficients are listed in increasing order"
   ]
  },
  {
   "cell_type": "code",
   "execution_count": 1,
   "id": "1ecb530a-a723-49e5-b2ca-60dd17369844",
   "metadata": {},
   "outputs": [],
   "source": [
    "struct Poly{N}\n",
    "    coeffs::NTuple{N,Int64}\n",
    "end"
   ]
  },
  {
   "cell_type": "code",
   "execution_count": 2,
   "id": "a3cb1cc3-fc46-43df-9220-5c6a310eb9b9",
   "metadata": {},
   "outputs": [
    {
     "data": {
      "text/plain": [
       "Poly{3}((1, 2, 3))"
      ]
     },
     "execution_count": 2,
     "metadata": {},
     "output_type": "execute_result"
    }
   ],
   "source": [
    "p = Poly((1, 2, 3))"
   ]
  },
  {
   "cell_type": "markdown",
   "id": "b2f297d1-ecd9-41ff-88ec-2017978a5854",
   "metadata": {},
   "source": [
    "This represents the polynomial $1 + 2x + 3x^2$."
   ]
  },
  {
   "cell_type": "markdown",
   "id": "2d846571-9a38-4538-b2bc-342e3233957a",
   "metadata": {},
   "source": [
    "Let's also define"
   ]
  },
  {
   "cell_type": "code",
   "execution_count": 5,
   "id": "2f4d743a-7117-430e-8479-e9383e6047ae",
   "metadata": {},
   "outputs": [],
   "source": [
    "Base.getindex(p::Poly, i) = p.coeffs[i+1]"
   ]
  },
  {
   "cell_type": "markdown",
   "id": "62c5d068-18c2-48f6-897b-044bb62fb4ac",
   "metadata": {},
   "source": [
    "so that "
   ]
  },
  {
   "cell_type": "code",
   "execution_count": 12,
   "id": "d835c15b-0cd7-4844-b86c-354d612ab5b9",
   "metadata": {},
   "outputs": [
    {
     "data": {
      "text/plain": [
       "1"
      ]
     },
     "execution_count": 12,
     "metadata": {},
     "output_type": "execute_result"
    }
   ],
   "source": [
    "p[0]"
   ]
  },
  {
   "cell_type": "markdown",
   "id": "4706d95f-59de-4435-b24c-418aa7870894",
   "metadata": {},
   "source": [
    "is the coefficient of degree 0."
   ]
  },
  {
   "cell_type": "markdown",
   "id": "9e14b30c-5ca4-47e7-a3dc-30abfc7dc2b2",
   "metadata": {},
   "source": [
    "We can define the sum of two polynomials of the same degree as"
   ]
  },
  {
   "cell_type": "code",
   "execution_count": 4,
   "id": "e659f13e-38d8-41ef-b10a-52d065d9ed37",
   "metadata": {},
   "outputs": [],
   "source": [
    "Base.:+(p::Poly{N}, q::Poly{N}) where {N} = Poly(p.coeffs .+ q.coeffs)"
   ]
  },
  {
   "cell_type": "code",
   "execution_count": 7,
   "id": "80386472-ee62-4e7c-9837-55154dc40e0c",
   "metadata": {},
   "outputs": [
    {
     "name": "stdout",
     "output_type": "stream",
     "text": [
      "  0.000002 seconds (1 allocation: 32 bytes)\n"
     ]
    },
    {
     "data": {
      "text/plain": [
       "Poly{3}((2, 4, 6))"
      ]
     },
     "execution_count": 7,
     "metadata": {},
     "output_type": "execute_result"
    }
   ],
   "source": [
    "@time p + p"
   ]
  },
  {
   "cell_type": "code",
   "execution_count": 14,
   "id": "6e7c1801-1d8a-42b5-9ede-ec80d229a6bc",
   "metadata": {},
   "outputs": [],
   "source": [
    "using BenchmarkTools"
   ]
  },
  {
   "cell_type": "code",
   "execution_count": 10,
   "id": "03ef199a-fd42-40e1-84d4-2c3b88959e16",
   "metadata": {},
   "outputs": [
    {
     "name": "stdout",
     "output_type": "stream",
     "text": [
      "  1.663 ns (0 allocations: 0 bytes)\n"
     ]
    },
    {
     "data": {
      "text/plain": [
       "Poly{3}((2, 4, 6))"
      ]
     },
     "execution_count": 10,
     "metadata": {},
     "output_type": "execute_result"
    }
   ],
   "source": [
    "@btime $(Ref(p))[] + $(Ref(p))[]"
   ]
  },
  {
   "cell_type": "markdown",
   "id": "a473a3a2-08d1-4520-a37a-28dfff76866c",
   "metadata": {},
   "source": [
    "But what about multiplication? Suppose we want the product to just retain terms up to the same degree. Then"
   ]
  },
  {
   "cell_type": "code",
   "execution_count": null,
   "id": "2079ace3-40ab-4256-ab7e-0ce0e5308c80",
   "metadata": {},
   "outputs": [],
   "source": []
  },
  {
   "cell_type": "code",
   "execution_count": 16,
   "id": "a74c5316-4e9d-496b-b694-e36d1d893eda",
   "metadata": {},
   "outputs": [],
   "source": [
    "function Base.:*(p::Poly{N}, q::Poly{N}) where {N}\n",
    "    return @inbounds Poly(ntuple(n -> sum(p[i] * q[n-1 - i] for i in 0:n-1), Val(N)))\n",
    "end"
   ]
  },
  {
   "cell_type": "code",
   "execution_count": 17,
   "id": "640fd56e-adc9-4373-ab67-62b93d97a71b",
   "metadata": {},
   "outputs": [
    {
     "data": {
      "text/plain": [
       "Poly{3}((1, 4, 10))"
      ]
     },
     "execution_count": 17,
     "metadata": {},
     "output_type": "execute_result"
    }
   ],
   "source": [
    "p * p"
   ]
  },
  {
   "cell_type": "code",
   "execution_count": 18,
   "id": "2bbd302a-c80b-4f17-be7b-fa03223b3bfc",
   "metadata": {},
   "outputs": [
    {
     "name": "stdout",
     "output_type": "stream",
     "text": [
      "  5.813 ns (0 allocations: 0 bytes)\n"
     ]
    },
    {
     "data": {
      "text/plain": [
       "Poly{3}((1, 4, 10))"
      ]
     },
     "execution_count": 18,
     "metadata": {},
     "output_type": "execute_result"
    }
   ],
   "source": [
    "@btime $p * $p"
   ]
  },
  {
   "cell_type": "markdown",
   "id": "aab7e403-41b6-43be-8f8d-08b5fb85442d",
   "metadata": {},
   "source": [
    "However, it should be possible to make this faster by **unrolling the code**, i.e. writing the loops out explicitly:"
   ]
  },
  {
   "cell_type": "code",
   "execution_count": 19,
   "id": "7b749811-ca39-4d40-9589-94b4ee835248",
   "metadata": {},
   "outputs": [
    {
     "data": {
      "text/plain": [
       "my_mult (generic function with 1 method)"
      ]
     },
     "execution_count": 19,
     "metadata": {},
     "output_type": "execute_result"
    }
   ],
   "source": [
    "function my_mult(p::Poly{3}, q::Poly{3})\n",
    "    return @inbounds (p[0]*q[0], \n",
    "                      p[0]*q[1] + p[1]*q[0],\n",
    "                      p[0]*q[2] + p[1]*q[1] + p[2]*q[0])\n",
    "end"
   ]
  },
  {
   "cell_type": "code",
   "execution_count": 20,
   "id": "91b3616b-7ea8-4c02-ae68-3572e35d7ce9",
   "metadata": {},
   "outputs": [
    {
     "data": {
      "text/plain": [
       "(1, 4, 10)"
      ]
     },
     "execution_count": 20,
     "metadata": {},
     "output_type": "execute_result"
    }
   ],
   "source": [
    "my_mult(p, p)"
   ]
  },
  {
   "cell_type": "code",
   "execution_count": 26,
   "id": "4e40d992-7ce4-486c-8d7c-3f98ac0983bb",
   "metadata": {},
   "outputs": [
    {
     "name": "stdout",
     "output_type": "stream",
     "text": [
      "  2.232 ns (0 allocations: 0 bytes)\n"
     ]
    },
    {
     "data": {
      "text/plain": [
       "(1, 4, 10)"
      ]
     },
     "execution_count": 26,
     "metadata": {},
     "output_type": "execute_result"
    }
   ],
   "source": [
    "@btime my_mult( $(Ref(p))[], $(Ref(p))[] )\n"
   ]
  },
  {
   "cell_type": "markdown",
   "id": "d6be9baa-9b55-43fe-ba50-8bf36b089abf",
   "metadata": {},
   "source": [
    "Of course, we do *not* want to do this by hand. Rather, we want to tell Julia *exactly* what code to generate. As usual, we build this up piece by piece."
   ]
  },
  {
   "cell_type": "code",
   "execution_count": 40,
   "id": "5bd2be0a-6eeb-441b-91ff-eb35b235931f",
   "metadata": {},
   "outputs": [],
   "source": [
    "all_results = []\n",
    "for n = 0:2\n",
    "    \n",
    "\n",
    "    products = [ :(p[$i] * q[$(n - i)]) for i in 0:n ]\n",
    "\n",
    "    push!(all_results, :(+($(products...))) )\n",
    "end\n",
    "\n",
    "\n"
   ]
  },
  {
   "cell_type": "code",
   "execution_count": 41,
   "id": "f97fa90c-bf00-47e4-b91f-fc9a57f8a039",
   "metadata": {},
   "outputs": [
    {
     "data": {
      "text/plain": [
       "3-element Vector{Any}:\n",
       " :(+(p[0] * q[0]))\n",
       " :(p[0] * q[1] + p[1] * q[0])\n",
       " :(p[0] * q[2] + p[1] * q[1] + p[2] * q[0])"
      ]
     },
     "execution_count": 41,
     "metadata": {},
     "output_type": "execute_result"
    }
   ],
   "source": [
    "all_results"
   ]
  },
  {
   "cell_type": "code",
   "execution_count": 42,
   "id": "6fbb3b86-18dd-4a80-99cf-da152daa3b7a",
   "metadata": {},
   "outputs": [
    {
     "data": {
      "text/plain": [
       ":(Tuple(+(p[0] * q[0]), p[0] * q[1] + p[1] * q[0], p[0] * q[2] + p[1] * q[1] + p[2] * q[0]))"
      ]
     },
     "execution_count": 42,
     "metadata": {},
     "output_type": "execute_result"
    }
   ],
   "source": [
    ":(Tuple($(all_results...)))"
   ]
  },
  {
   "cell_type": "code",
   "execution_count": 48,
   "id": "64edd44c-96e0-4c5e-907d-030d1182cedd",
   "metadata": {},
   "outputs": [],
   "source": [
    "@generated function Base.:*(p::Poly{N}, q::Poly{N}) where {N}\n",
    "    all_results = []\n",
    "    for n = 0:N-1\n",
    "    \n",
    "\n",
    "        products = [ :(p[$i] * q[$(n - i)]) for i in 0:n ]\n",
    "\n",
    "        push!(all_results, :(+($(products...))) )\n",
    "    end\n",
    "    \n",
    "    tup = :(tuple($(all_results...)))\n",
    "    \n",
    "    return :(Poly($tup))\n",
    "end\n"
   ]
  },
  {
   "cell_type": "code",
   "execution_count": 49,
   "id": "927fff6b-2901-4c67-a9c2-84b281bd013b",
   "metadata": {},
   "outputs": [
    {
     "data": {
      "text/plain": [
       "Poly{3}((1, 4, 10))"
      ]
     },
     "execution_count": 49,
     "metadata": {},
     "output_type": "execute_result"
    }
   ],
   "source": [
    "p * p"
   ]
  },
  {
   "cell_type": "code",
   "execution_count": 51,
   "id": "2a9bab7f-2194-457d-81f3-62b18a39ace1",
   "metadata": {},
   "outputs": [
    {
     "name": "stdout",
     "output_type": "stream",
     "text": [
      "  2.206 ns (0 allocations: 0 bytes)\n"
     ]
    },
    {
     "data": {
      "text/plain": [
       "Poly{3}((1, 4, 10))"
      ]
     },
     "execution_count": 51,
     "metadata": {},
     "output_type": "execute_result"
    }
   ],
   "source": [
    "@btime $(Ref(p))[] * $(Ref(p))[]"
   ]
  },
  {
   "cell_type": "code",
   "execution_count": null,
   "id": "88685b34-5a57-48f2-b128-6128c36084ff",
   "metadata": {},
   "outputs": [],
   "source": []
  }
 ],
 "metadata": {
  "kernelspec": {
   "display_name": "Julia 1.6.2",
   "language": "julia",
   "name": "julia-1.6"
  },
  "language_info": {
   "file_extension": ".jl",
   "mimetype": "application/julia",
   "name": "julia",
   "version": "1.6.2"
  }
 },
 "nbformat": 4,
 "nbformat_minor": 5
}
