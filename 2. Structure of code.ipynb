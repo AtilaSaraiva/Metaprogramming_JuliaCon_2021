{
 "cells": [
  {
   "cell_type": "markdown",
   "id": "edf50b87-f1f4-41bd-a08d-2729bc1facee",
   "metadata": {},
   "source": [
    "# The structure of code"
   ]
  },
  {
   "cell_type": "markdown",
   "id": "df2990ff-dcaf-43bc-9c5a-c294e8aa2033",
   "metadata": {},
   "source": [
    "One somewhat unusual feature of Julia (originating from its Lisp heritage) is that it allows us to talk *about* Julia code &ndash; from within Julia itself!\n",
    "\n",
    "That is, we can capture a piece of Julia code into a Julia object, which we can then inspect and *modify*.\n",
    "\n",
    "Once we have the modified code, we can then evaluate it.\n"
   ]
  },
  {
   "cell_type": "markdown",
   "id": "98440356-aec0-4c5f-a2b4-54538815fea1",
   "metadata": {},
   "source": [
    "An easy way to create a piece of code is by **parsing** a string, i.e. interpreting the string as Julia code and returning a Julia object that represents that piece of code. Nonetheless, in the future we will prefer, when possilbe, to create Julia objects directly, rather than from strings, since strings are \"opaque objects\" that Julia does not understand."
   ]
  },
  {
   "cell_type": "markdown",
   "id": "844e6bec-f90a-4969-81db-12bb74f64b48",
   "metadata": {},
   "source": [
    "## Exercise\n",
    "\n",
    "1. Define a variable `code` to be as the result of parsing the string `\"j = i^2\"` using the function `Meta.parse`.\n",
    "\n",
    "\n",
    "2. What type is the object `code`? Note that `code` is just a normal Julia variable, of a particular special type.\n",
    "\n",
    "\n",
    "3. Use the `dump` function to see what there is inside `code`. \n",
    "Remembering that `code` is just a particular kind of Julia object, use the Julia to play around interactively, seeing how you can extract pieces of the `code` object.\n",
    "\n",
    "\n",
    "4. How is the operation `i^2` represented? What kind of object is that subpiece?\n",
    "\n",
    "\n",
    "5. Copy `code` into a variable `code2`. *Modify* this to replace the power `2` with a power `3`. Make sure that the original `code` variable is *not* also modified.\n",
    "\n",
    "\n",
    "6. Copy `code2` to a variable `code3`. Replace `i` with `i + 1` in `code3`.\n",
    "\n",
    "\n",
    "7. Define a variable `i` with the value `4`. *Evaluate* the different `code` expressions using the `eval` function and check the *value* of the variable `j`.\n"
   ]
  },
  {
   "cell_type": "code",
   "execution_count": 2,
   "id": "4bae938d",
   "metadata": {},
   "outputs": [
    {
     "data": {
      "text/plain": [
       ":(j = i ^ 2)"
      ]
     },
     "execution_count": 2,
     "metadata": {},
     "output_type": "execute_result"
    }
   ],
   "source": [
    "code = Meta.parse(\"j = i^2\")"
   ]
  },
  {
   "cell_type": "code",
   "execution_count": 3,
   "id": "2edcab3b",
   "metadata": {},
   "outputs": [
    {
     "data": {
      "text/plain": [
       "Expr"
      ]
     },
     "execution_count": 3,
     "metadata": {},
     "output_type": "execute_result"
    }
   ],
   "source": [
    "typeof(code)"
   ]
  },
  {
   "cell_type": "code",
   "execution_count": 4,
   "id": "0fe9f974",
   "metadata": {},
   "outputs": [
    {
     "name": "stdout",
     "output_type": "stream",
     "text": [
      "Expr\n",
      "  head: Symbol =\n",
      "  args: Array{Any}((2,))\n",
      "    1: Symbol j\n",
      "    2: Expr\n",
      "      head: Symbol call\n",
      "      args: Array{Any}((3,))\n",
      "        1: Symbol ^\n",
      "        2: Symbol i\n",
      "        3: Int64 2\n"
     ]
    }
   ],
   "source": [
    "dump(code)"
   ]
  },
  {
   "cell_type": "code",
   "execution_count": 9,
   "id": "85fc5dc9",
   "metadata": {},
   "outputs": [
    {
     "data": {
      "text/plain": [
       ":(i ^ 2)"
      ]
     },
     "execution_count": 9,
     "metadata": {},
     "output_type": "execute_result"
    }
   ],
   "source": [
    "code.args[2]"
   ]
  },
  {
   "cell_type": "code",
   "execution_count": 10,
   "id": "b3dd429b",
   "metadata": {},
   "outputs": [
    {
     "data": {
      "text/plain": [
       ":(j = i ^ 2)"
      ]
     },
     "execution_count": 10,
     "metadata": {},
     "output_type": "execute_result"
    }
   ],
   "source": [
    "code2 = code"
   ]
  },
  {
   "cell_type": "code",
   "execution_count": 18,
   "id": "1567b76f",
   "metadata": {},
   "outputs": [
    {
     "data": {
      "text/plain": [
       "3"
      ]
     },
     "execution_count": 18,
     "metadata": {},
     "output_type": "execute_result"
    }
   ],
   "source": [
    "code2.args[2].args[3] = 3"
   ]
  },
  {
   "cell_type": "code",
   "execution_count": 20,
   "id": "9ab053a8",
   "metadata": {},
   "outputs": [
    {
     "data": {
      "text/plain": [
       ":(j = i ^ 3)"
      ]
     },
     "execution_count": 20,
     "metadata": {},
     "output_type": "execute_result"
    }
   ],
   "source": [
    "code2"
   ]
  },
  {
   "cell_type": "code",
   "execution_count": 22,
   "id": "7551d23d",
   "metadata": {},
   "outputs": [
    {
     "data": {
      "text/plain": [
       ":(j = i ^ 3)"
      ]
     },
     "execution_count": 22,
     "metadata": {},
     "output_type": "execute_result"
    }
   ],
   "source": [
    "code3 = code"
   ]
  },
  {
   "cell_type": "code",
   "execution_count": 28,
   "id": "21513630",
   "metadata": {},
   "outputs": [
    {
     "data": {
      "text/plain": [
       ":(i + 1)"
      ]
     },
     "execution_count": 28,
     "metadata": {},
     "output_type": "execute_result"
    }
   ],
   "source": [
    "code3.args[2].args[2] = :(i+1)"
   ]
  },
  {
   "cell_type": "code",
   "execution_count": 30,
   "id": "144a7a1f",
   "metadata": {},
   "outputs": [
    {
     "data": {
      "text/plain": [
       ":(j = (i + 1) ^ 3)"
      ]
     },
     "execution_count": 30,
     "metadata": {},
     "output_type": "execute_result"
    }
   ],
   "source": [
    "code3"
   ]
  },
  {
   "cell_type": "code",
   "execution_count": 31,
   "id": "47c44b49",
   "metadata": {},
   "outputs": [
    {
     "data": {
      "text/plain": [
       "125"
      ]
     },
     "execution_count": 31,
     "metadata": {},
     "output_type": "execute_result"
    }
   ],
   "source": [
    "i = 4\n",
    "eval(code3)"
   ]
  },
  {
   "cell_type": "code",
   "execution_count": 32,
   "id": "b602f06e",
   "metadata": {},
   "outputs": [
    {
     "data": {
      "text/plain": [
       "125"
      ]
     },
     "execution_count": 32,
     "metadata": {},
     "output_type": "execute_result"
    }
   ],
   "source": [
    "j"
   ]
  },
  {
   "cell_type": "markdown",
   "id": "65d9b912-bfb0-4aea-9bd2-924e0b4d1b13",
   "metadata": {},
   "source": [
    "## Symbols"
   ]
  },
  {
   "cell_type": "markdown",
   "id": "1521c3bf-017e-4472-82a9-a2d6ad3156c4",
   "metadata": {},
   "source": [
    "Let's think about what code looks like. It's made up of characters joined into words,\n",
    "plus certain types of punctuation, for example\n",
    "\n",
    "\n",
    "```\n",
    "function f() \n",
    "    ...\n",
    "end\n",
    "```\n",
    "\n",
    "and\n",
    "\n",
    "```\n",
    "for \n",
    "    ...\n",
    "end\n",
    "```\n",
    "\n",
    "and \n",
    "\n",
    "```\n",
    "z = x + y\n",
    "result = first + second\n",
    "```\n",
    "\n",
    "The smallest building blocks, or atoms, of code are variable names like `x` and `first`, and other symbols like `+`.\n",
    "Julia calls all of these names `Symbol`s."
   ]
  },
  {
   "cell_type": "markdown",
   "id": "d66f126e-efd6-4678-9544-d2d51042cdf2",
   "metadata": {},
   "source": [
    "When you type `+` or `x` in the REPL, Julia immediately tries to *evaluate* the result: it treats\n",
    "`+` or `x` as a *name* or *binding* that points to an object, and it tries to return the object itself.\n",
    "\n",
    "For metaprogramming, we instead need a way to talk just about \"the *unevaluated* piece of code consisting of the name `x`\". We write this using a colon, `:`, e.g.\n",
    "`:x` and `:+` : "
   ]
  },
  {
   "cell_type": "code",
   "execution_count": 33,
   "id": "44a442b8-b8be-4d4f-8aed-96f92ae72023",
   "metadata": {},
   "outputs": [
    {
     "data": {
      "text/plain": [
       ":x"
      ]
     },
     "execution_count": 33,
     "metadata": {},
     "output_type": "execute_result"
    }
   ],
   "source": [
    "s = :x"
   ]
  },
  {
   "cell_type": "code",
   "execution_count": 35,
   "id": "0efc7d4e-4406-4feb-9f36-a517f0febeba",
   "metadata": {},
   "outputs": [
    {
     "data": {
      "text/plain": [
       "Symbol"
      ]
     },
     "execution_count": 35,
     "metadata": {},
     "output_type": "execute_result"
    }
   ],
   "source": [
    "typeof(s)"
   ]
  },
  {
   "cell_type": "code",
   "execution_count": 36,
   "id": "99972179",
   "metadata": {},
   "outputs": [
    {
     "data": {
      "text/plain": [
       ":x"
      ]
     },
     "execution_count": 36,
     "metadata": {},
     "output_type": "execute_result"
    }
   ],
   "source": [
    "Symbol(\"x\")"
   ]
  },
  {
   "cell_type": "markdown",
   "id": "336a3516-7123-4c89-9f49-0cfb3744d878",
   "metadata": {},
   "source": [
    "We can think of `:hello`, for example, as a way to talk about a possible variable called `hello`, without evaluating it. "
   ]
  },
  {
   "cell_type": "markdown",
   "id": "68405632-cf70-4748-8a25-8d79c8dd0f87",
   "metadata": {},
   "source": [
    "## Expressions"
   ]
  },
  {
   "cell_type": "markdown",
   "id": "1a0b54e3-7364-486c-8972-d9ccd9970eab",
   "metadata": {},
   "source": [
    "Anything more complicated than a single symbol is an **expression**, for example `x + y`, which means\n",
    "\"call the function named `+` on the objects named `x` and `y`\".  (This is equivalent to writing `+(x, y)` in Julia.)\n",
    "\n",
    "We can talk about the piece of code \"`x + y`\" without evaluating it by **quoting** it, again using a colon:\n",
    "\n",
    "`:(x + y)`\n",
    "\n",
    "Let's give that a name. We will use `ex` for `expression`:"
   ]
  },
  {
   "cell_type": "code",
   "execution_count": 2,
   "id": "b7371d27-aa71-4aec-a883-6b723b132fc7",
   "metadata": {},
   "outputs": [
    {
     "data": {
      "text/plain": [
       ":(x + y)"
      ]
     },
     "execution_count": 2,
     "metadata": {},
     "output_type": "execute_result"
    }
   ],
   "source": [
    "ex = :(x + y)"
   ]
  },
  {
   "cell_type": "markdown",
   "id": "9cd58d82-28ba-4545-86f0-8c51fd9ecdaf",
   "metadata": {},
   "source": [
    "In words we are telling Julia something like: \"Please define a new variable, called `ex`, whose value is bound to the unevaluated piece of code `x + y`.\n",
    "\n",
    "Note that if we just type `x + y` into the REPL, again Julia will immediately try to evaluate this by looking up the values that are bound to the variable names `x` and `y`. But we haven't yet defined variables called `x` and `y`, so this will error.\n",
    "\n",
    "However, there is no such problem with talking about \"the piece of code `x + y`\" &ndash; here, `x` and `y` are just symbols."
   ]
  },
  {
   "cell_type": "code",
   "execution_count": 3,
   "id": "ec8016a8-af35-4a21-b8c5-99aa84f4e73c",
   "metadata": {},
   "outputs": [
    {
     "ename": "LoadError",
     "evalue": "UndefVarError: x not defined",
     "output_type": "error",
     "traceback": [
      "UndefVarError: x not defined",
      "",
      "Stacktrace:",
      " [1] top-level scope",
      "   @ In[3]:1",
      " [2] eval",
      "   @ ./boot.jl:360 [inlined]",
      " [3] include_string(mapexpr::typeof(REPL.softscope), mod::Module, code::String, filename::String)",
      "   @ Base ./loading.jl:1116"
     ]
    }
   ],
   "source": [
    "x + y"
   ]
  },
  {
   "cell_type": "markdown",
   "id": "e2667a5b-99d4-49d7-82de-d3b9923be3d0",
   "metadata": {},
   "source": [
    "## The `Expr` type and the structure of expressions"
   ]
  },
  {
   "cell_type": "markdown",
   "id": "93de9f6d-8356-40d1-8b14-ec7daf97dd4b",
   "metadata": {},
   "source": [
    "We now have a Julia object with the name `ex` that is referring to an unevaluated piece of Julia code, `x + y`. \n",
    "Let's use Julia's great introspection tools to look inside this object and see how it's formed!"
   ]
  },
  {
   "cell_type": "markdown",
   "id": "65dc7f6f-96a1-4b19-ab66-30708839181b",
   "metadata": {},
   "source": [
    "Firstly let's look at its type:"
   ]
  },
  {
   "cell_type": "code",
   "execution_count": 39,
   "id": "a7a21926-1159-4e56-b0e8-d590a7eac952",
   "metadata": {},
   "outputs": [
    {
     "data": {
      "text/plain": [
       "Expr"
      ]
     },
     "execution_count": 39,
     "metadata": {},
     "output_type": "execute_result"
    }
   ],
   "source": [
    "ex = :(x + y)\n",
    "\n",
    "typeof(ex)"
   ]
  },
  {
   "cell_type": "markdown",
   "id": "e78af1e2-b361-485e-b01d-89e62604a287",
   "metadata": {},
   "source": [
    "`Expr` is a type representing any Julia expression that is more complicated than a single symbol.\n",
    "    \n",
    "How is the sum represented? Let's find out using `dump`:"
   ]
  },
  {
   "cell_type": "code",
   "execution_count": 7,
   "id": "d7b5a28e-c711-4013-bc9b-c3edd4b2110d",
   "metadata": {},
   "outputs": [
    {
     "name": "stdout",
     "output_type": "stream",
     "text": [
      "Expr\n",
      "  head: Symbol call\n",
      "  args: Array{Any}((3,))\n",
      "    1: Symbol +\n",
      "    2: Symbol x\n",
      "    3: Symbol y\n"
     ]
    }
   ],
   "source": [
    "dump(ex)"
   ]
  },
  {
   "cell_type": "code",
   "execution_count": 37,
   "id": "e553d1a9",
   "metadata": {},
   "outputs": [
    {
     "name": "stdout",
     "output_type": "stream",
     "text": [
      "(:call, :+, :x, :y)"
     ]
    }
   ],
   "source": [
    "Meta.show_sexpr(:(x+y))"
   ]
  },
  {
   "cell_type": "markdown",
   "id": "288408b7-4615-4c5a-9316-f8c37a58bcb2",
   "metadata": {},
   "source": [
    "Alternatively we can use `ex.<TAB>` interactively, or `propertynames(ex)` programatically, to expression object's attributes:"
   ]
  },
  {
   "cell_type": "code",
   "execution_count": 40,
   "id": "3de66f99-356a-4699-8786-42b989a31318",
   "metadata": {},
   "outputs": [
    {
     "data": {
      "text/plain": [
       "(:head, :args)"
      ]
     },
     "execution_count": 40,
     "metadata": {},
     "output_type": "execute_result"
    }
   ],
   "source": [
    "propertynames(ex)"
   ]
  },
  {
   "cell_type": "markdown",
   "id": "fd20fa8a-9198-4d5b-9e7d-4df30367be91",
   "metadata": {},
   "source": [
    "We see that this expression (and, in fact, *any* expression!) consists of two pieces: a `head` and a collection of `args`, i.e. **arguments**."
   ]
  },
  {
   "cell_type": "code",
   "execution_count": 11,
   "id": "564d7921-43da-428e-94d9-2281ce6f719a",
   "metadata": {},
   "outputs": [
    {
     "data": {
      "text/plain": [
       ":call"
      ]
     },
     "execution_count": 11,
     "metadata": {},
     "output_type": "execute_result"
    }
   ],
   "source": [
    "ex.head"
   ]
  },
  {
   "cell_type": "markdown",
   "id": "b3a21ac3-ecce-4952-905c-8ec4d92fc968",
   "metadata": {},
   "source": [
    "In this case, the `head` is `:call`, which tells us that this piece of code is a **function call**. "
   ]
  },
  {
   "cell_type": "code",
   "execution_count": 12,
   "id": "ad3ef4d7-b2ad-40ce-b8c4-cbd1fb3ddd84",
   "metadata": {},
   "outputs": [
    {
     "data": {
      "text/plain": [
       "3-element Vector{Any}:\n",
       " :+\n",
       " :x\n",
       " :y"
      ]
     },
     "execution_count": 12,
     "metadata": {},
     "output_type": "execute_result"
    }
   ],
   "source": [
    "ex.args"
   ]
  },
  {
   "cell_type": "markdown",
   "id": "8ff6d543-b31d-46ed-85c4-2ff395348989",
   "metadata": {},
   "source": [
    "The arguments show us the pieces of the function call: the function to be called corresponds to the symbol `:+`, and that function is called on the objects \n",
    "corresponding to the symbols `:x` and `:y`."
   ]
  },
  {
   "cell_type": "markdown",
   "id": "f645ae96-0688-4fdd-b983-03bae68baac4",
   "metadata": {},
   "source": [
    "Note that the type of `args` is a vector of `Any`. This is because we can have things other than symbols as an argument, e.g."
   ]
  },
  {
   "cell_type": "code",
   "execution_count": 41,
   "id": "1920c6dd-08b1-4987-acd5-a1b9f0bce505",
   "metadata": {},
   "outputs": [
    {
     "name": "stdout",
     "output_type": "stream",
     "text": [
      "Expr\n",
      "  head: Symbol call\n",
      "  args: Array{Any}((3,))\n",
      "    1: Symbol +\n",
      "    2: Symbol x\n",
      "    3: Int64 1\n"
     ]
    }
   ],
   "source": [
    "dump( :(x + 1) )"
   ]
  },
  {
   "cell_type": "code",
   "execution_count": 42,
   "id": "7559ec03-4844-4fb3-82f9-fe6626a3f3f4",
   "metadata": {},
   "outputs": [
    {
     "data": {
      "text/plain": [
       "Vector{Any}\u001b[90m (alias for \u001b[39m\u001b[90mArray{Any, 1}\u001b[39m\u001b[90m)\u001b[39m"
      ]
     },
     "execution_count": 42,
     "metadata": {},
     "output_type": "execute_result"
    }
   ],
   "source": [
    "typeof(ex.args)"
   ]
  },
  {
   "cell_type": "markdown",
   "id": "02723826-187b-457a-9cd3-e23680b624c2",
   "metadata": {},
   "source": [
    "## Creating code from scratch"
   ]
  },
  {
   "cell_type": "markdown",
   "id": "232bb717-a99c-4297-8880-ec911b63a03d",
   "metadata": {},
   "source": [
    "Since `Expr` is just a standard Julia type, we can create objects of that type in the standard way, namely by calling the **constructor** function of the type. The constructor for `Expr` just accepts a tuple of its arguments, starting with `head` and following with a list of arguments, e.g."
   ]
  },
  {
   "cell_type": "code",
   "execution_count": 16,
   "id": "02a6de8e-835f-49fd-8961-c6533c4dd598",
   "metadata": {},
   "outputs": [
    {
     "data": {
      "text/plain": [
       ":(x + y)"
      ]
     },
     "execution_count": 16,
     "metadata": {},
     "output_type": "execute_result"
    }
   ],
   "source": [
    "Expr(:call, :+, :x, :y)"
   ]
  },
  {
   "cell_type": "markdown",
   "id": "b53c7153-a0f7-4a1c-b5a4-f809bba690ca",
   "metadata": {},
   "source": [
    "## More complicated expressions"
   ]
  },
  {
   "cell_type": "markdown",
   "id": "0676ace6-e2bd-4f35-9aa5-6b0ba5d5e081",
   "metadata": {},
   "source": [
    "Now let's look at an expression that's a bit more complicated, with *two* operations:"
   ]
  },
  {
   "cell_type": "code",
   "execution_count": 3,
   "id": "bff804f8-dc7d-4e2c-afd1-478cd012eb30",
   "metadata": {},
   "outputs": [
    {
     "data": {
      "text/plain": [
       ":(x + y * z)"
      ]
     },
     "execution_count": 3,
     "metadata": {},
     "output_type": "execute_result"
    }
   ],
   "source": [
    "ex = :(x + y * z)"
   ]
  },
  {
   "cell_type": "markdown",
   "id": "2f91ef8e-4012-420b-8020-e522a2d7d848",
   "metadata": {},
   "source": [
    "How can this expression be represented? Firstly Julia needs to decide *which* operation will be done first: does this mean `x + (y * z)`, or `(x + y) * z`.\n",
    "This choice is made by having a table of **operator precedence**; in this particular case, `*` has a higher precedence than `+`, so will be \"bound more tightly\", or done first, so the expression will be interpreted as `x + (y * z)`. Operator precedence is fixed in the parser and cannot be changed (without modifying and recompiling Julia). If you need a different order of operations, use parentheses!"
   ]
  },
  {
   "cell_type": "markdown",
   "id": "be1cd25a-f733-482c-8b6c-94d57b904c42",
   "metadata": {},
   "source": [
    "So how does Julia represent this expression? It will be a sum of two things, `x` and `y * z`. What is `y * z`? Well, we already know that it's... an expression, an object of type `Expr`!"
   ]
  },
  {
   "cell_type": "code",
   "execution_count": 4,
   "id": "fd5a6552-8531-438e-afaf-9769d930e23d",
   "metadata": {},
   "outputs": [
    {
     "name": "stdout",
     "output_type": "stream",
     "text": [
      "Expr\n",
      "  head: Symbol call\n",
      "  args: Array{Any}((3,))\n",
      "    1: Symbol *\n",
      "    2: Symbol y\n",
      "    3: Symbol z\n"
     ]
    }
   ],
   "source": [
    "dump( :(y * z) )"
   ]
  },
  {
   "cell_type": "markdown",
   "id": "4024bb0d-acb0-4624-a7ba-72c8c3974aa1",
   "metadata": {},
   "source": [
    "It has the same overall structure as `:(x + y)`, but the arguments are different."
   ]
  },
  {
   "cell_type": "markdown",
   "id": "2a92fd4d-ca1a-488c-a722-2338a295437b",
   "metadata": {},
   "source": [
    "## Exercise\n",
    "Can you now guess how `:(x + (y * z))` is represented? Try to predict the answer before moving on."
   ]
  },
  {
   "cell_type": "code",
   "execution_count": null,
   "id": "a57ce93a-46ec-4969-8e5f-aee45a5420ce",
   "metadata": {},
   "outputs": [],
   "source": []
  }
 ],
 "metadata": {
  "kernelspec": {
   "display_name": "Julia 1.9.1",
   "language": "julia",
   "name": "julia-1.9"
  },
  "language_info": {
   "file_extension": ".jl",
   "mimetype": "application/julia",
   "name": "julia",
   "version": "1.9.1"
  }
 },
 "nbformat": 4,
 "nbformat_minor": 5
}
