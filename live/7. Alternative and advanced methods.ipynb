{
 "cells": [
  {
   "cell_type": "markdown",
   "id": "b9db1243-d15b-421a-bb5b-1b957b555d05",
   "metadata": {},
   "source": [
    "# Pointers to alternative and more advanced methods"
   ]
  },
  {
   "cell_type": "markdown",
   "id": "965af4c7-f840-4e5e-9b6d-2598d4cba499",
   "metadata": {},
   "source": [
    "These alternative and more advanced packages mostly try to address the following problem:"
   ]
  },
  {
   "cell_type": "markdown",
   "id": "2beff35c-7d48-454b-9644-dc4de8e5de06",
   "metadata": {},
   "source": [
    "Suppose that somebody has written some code in a function `f`, and we would like to access that code *after the fact*. How much can we recover about the function?"
   ]
  },
  {
   "cell_type": "code",
   "execution_count": 1,
   "id": "4977f4b6-acc6-466e-96f6-08897b48516a",
   "metadata": {},
   "outputs": [
    {
     "data": {
      "text/plain": [
       "f (generic function with 1 method)"
      ]
     },
     "execution_count": 1,
     "metadata": {},
     "output_type": "execute_result"
    }
   ],
   "source": [
    "f(x, y) = 2x + y + 1"
   ]
  },
  {
   "cell_type": "code",
   "execution_count": null,
   "id": "cf77e007-a4ac-49dc-9c4b-f906d035a0a2",
   "metadata": {},
   "outputs": [],
   "source": []
  },
  {
   "cell_type": "markdown",
   "id": "69399aaf-78b3-4cbe-a2c6-5a675d770721",
   "metadata": {},
   "source": [
    "## Tracing with Symbolics.jl"
   ]
  },
  {
   "cell_type": "markdown",
   "id": "b3a397eb-fb82-4f9e-be9f-a82d6dff4ee4",
   "metadata": {},
   "source": [
    "For certain functions that are \"not too complicated\", a powerful technique has recently become available using the `Symbolics.jl` package: we **trace** the function with **symbolic variables**. This gives us a symbolic version of the function that we can then manipulate in a similar way to Julia's `Expr`."
   ]
  },
  {
   "cell_type": "code",
   "execution_count": 10,
   "id": "015d4625-46b8-4dac-ab73-07c2529b6dcc",
   "metadata": {},
   "outputs": [],
   "source": [
    "using Symbolics"
   ]
  },
  {
   "cell_type": "code",
   "execution_count": 11,
   "id": "d3de4758-5508-4cee-9854-bbdac22d9a69",
   "metadata": {},
   "outputs": [
    {
     "data": {
      "text/latex": [
       "\\begin{equation}\n",
       "\\left[\n",
       "\\begin{array}{c}\n",
       "x \\\\\n",
       "y \\\\\n",
       "\\end{array}\n",
       "\\right]\n",
       "\\end{equation}\n"
      ],
      "text/plain": [
       "2-element Vector{Num}:\n",
       " x\n",
       " y"
      ]
     },
     "execution_count": 11,
     "metadata": {},
     "output_type": "execute_result"
    }
   ],
   "source": [
    "@variables x, y"
   ]
  },
  {
   "cell_type": "code",
   "execution_count": 12,
   "id": "ff57db16-3ef1-40bb-9a92-f11edc2af097",
   "metadata": {},
   "outputs": [
    {
     "data": {
      "text/latex": [
       "\\begin{equation}\n",
       "1 + y + 2 x\n",
       "\\end{equation}\n"
      ],
      "text/plain": [
       "1 + y + 2x"
      ]
     },
     "execution_count": 12,
     "metadata": {},
     "output_type": "execute_result"
    }
   ],
   "source": [
    "ex = f(x, y)"
   ]
  },
  {
   "cell_type": "markdown",
   "id": "b33c024e-6303-45f1-b800-e02ab1a044c2",
   "metadata": {},
   "source": [
    "We have recovered the mathematical expression corresponding to the function definition!"
   ]
  },
  {
   "cell_type": "code",
   "execution_count": 13,
   "id": "47dcaa71-cdc4-4818-a7a3-186ce088faa1",
   "metadata": {},
   "outputs": [
    {
     "data": {
      "text/plain": [
       "Num"
      ]
     },
     "execution_count": 13,
     "metadata": {},
     "output_type": "execute_result"
    }
   ],
   "source": [
    "typeof(ex)"
   ]
  },
  {
   "cell_type": "markdown",
   "id": "3f4eb683-72a1-4a36-9057-02c4e1806094",
   "metadata": {},
   "source": [
    "We can get information about the structure of the expression:"
   ]
  },
  {
   "cell_type": "code",
   "execution_count": 14,
   "id": "4b8292f5-f67b-48b3-b30a-baf618504e00",
   "metadata": {},
   "outputs": [
    {
     "data": {
      "text/plain": [
       "2-element Vector{Any}:\n",
       " y\n",
       " x"
      ]
     },
     "execution_count": 14,
     "metadata": {},
     "output_type": "execute_result"
    }
   ],
   "source": [
    "Symbolics.get_variables(ex)"
   ]
  },
  {
   "cell_type": "code",
   "execution_count": 15,
   "id": "d53b0e55-51db-4320-88a1-fb45b39378f6",
   "metadata": {},
   "outputs": [
    {
     "data": {
      "text/plain": [
       "3-element Vector{Any}:\n",
       " 1\n",
       "  y\n",
       "  2x"
      ]
     },
     "execution_count": 15,
     "metadata": {},
     "output_type": "execute_result"
    }
   ],
   "source": [
    "Symbolics.arguments(Symbolics.value(ex))"
   ]
  },
  {
   "cell_type": "markdown",
   "id": "c9eba37b-37bc-4f0e-8451-d30ef60c56b6",
   "metadata": {},
   "source": [
    "The internal structure is more complicated, in a way, than a Julia `Expr`: "
   ]
  },
  {
   "cell_type": "code",
   "execution_count": 17,
   "id": "e16ea79d-8795-4776-aa50-eb998f18169b",
   "metadata": {},
   "outputs": [
    {
     "name": "stdout",
     "output_type": "stream",
     "text": [
      "Num\n",
      "  val: SymbolicUtils.Add{Real, Int64, Dict{Any, Number}, Nothing}\n",
      "    coeff: Int64 1\n",
      "    dict: Dict{Any, Number}\n",
      "    sorted_args_cache: Base.RefValue{Any}\n",
      "    hash: Base.RefValue{UInt64}\n",
      "    metadata: Nothing nothing\n"
     ]
    }
   ],
   "source": [
    "dump(ex, maxdepth=2)"
   ]
  },
  {
   "cell_type": "markdown",
   "id": "8efa8897-7502-43c0-b82a-c9711ff8e13d",
   "metadata": {},
   "source": [
    "## Lowered form an Intermediate Representation (IR)"
   ]
  },
  {
   "cell_type": "markdown",
   "id": "92638295-4a37-4e23-8e59-f87d747c9d66",
   "metadata": {},
   "source": [
    "Julia unfortunately does not store the source code of the function definition. It does make accessible a **lowered** version, where the code has been rewritten into a simpler (for the compiler!) form:"
   ]
  },
  {
   "cell_type": "code",
   "execution_count": 14,
   "id": "1bf428f2-b6ee-436b-8c62-c4a38db91d79",
   "metadata": {},
   "outputs": [
    {
     "data": {
      "text/plain": [
       "CodeInfo(\n",
       "\u001b[90m1 ─\u001b[39m %1 = 2 * x\n",
       "\u001b[90m│  \u001b[39m %2 = %1 + y + 1\n",
       "\u001b[90m└──\u001b[39m      return %2\n",
       ")"
      ]
     },
     "execution_count": 14,
     "metadata": {},
     "output_type": "execute_result"
    }
   ],
   "source": [
    "codeinfo = @code_lowered f(3, 4)"
   ]
  },
  {
   "cell_type": "code",
   "execution_count": 15,
   "id": "02701dcb-9748-440f-b8f1-49939e400db1",
   "metadata": {},
   "outputs": [
    {
     "data": {
      "text/plain": [
       "3-element Vector{Any}:\n",
       " :(2 * _2)\n",
       " :(%1 + _3 + 1)\n",
       " :(return %2)"
      ]
     },
     "execution_count": 15,
     "metadata": {},
     "output_type": "execute_result"
    }
   ],
   "source": [
    "codeinfo.code"
   ]
  },
  {
   "cell_type": "markdown",
   "id": "e4d8387e-b4f6-4f90-8d43-55965589ffa1",
   "metadata": {},
   "source": [
    "## Cassette.jl"
   ]
  },
  {
   "cell_type": "markdown",
   "id": "6e3de198-c33b-4456-b628-723cc33d6019",
   "metadata": {},
   "source": [
    "Cassette provides the possibility of making so-called **contexts**, within which it is possible to redefine the meaning of given functions using multiple dispatch."
   ]
  },
  {
   "cell_type": "markdown",
   "id": "07b97cef-2edc-4496-a672-ea2a6c68847b",
   "metadata": {},
   "source": [
    "## IRTools.jl\n",
    "\n",
    "IRTools works with a lower-level Intermediate Representation (IR) of the code, similar to that which is produced by `@code_typed`\n"
   ]
  },
  {
   "cell_type": "code",
   "execution_count": 27,
   "id": "bcfb01f0-86f9-44d0-bcbc-3880a2317c25",
   "metadata": {},
   "outputs": [
    {
     "data": {
      "text/plain": [
       "CodeInfo(\n",
       "\u001b[90m1 ─\u001b[39m %1 = Base.mul_int(2, x)\u001b[36m::Int64\u001b[39m\n",
       "\u001b[90m│  \u001b[39m %2 = Base.add_int(%1, y)\u001b[36m::Int64\u001b[39m\n",
       "\u001b[90m│  \u001b[39m %3 = Base.add_int(%2, 1)\u001b[36m::Int64\u001b[39m\n",
       "\u001b[90m└──\u001b[39m      return %3\n",
       ") => Int64"
      ]
     },
     "execution_count": 27,
     "metadata": {},
     "output_type": "execute_result"
    }
   ],
   "source": [
    "codeinfo = @code_typed f(3, 4)"
   ]
  },
  {
   "cell_type": "code",
   "execution_count": 31,
   "id": "7d2c7a3d-2d83-478d-be6f-ab6e6f4e323c",
   "metadata": {},
   "outputs": [
    {
     "data": {
      "text/plain": [
       "4-element Vector{Any}:\n",
       " :(Base.mul_int(2, _2))\n",
       " :(Base.add_int(%1, _3))\n",
       " :(Base.add_int(%2, 1))\n",
       " :(return %3)"
      ]
     },
     "execution_count": 31,
     "metadata": {},
     "output_type": "execute_result"
    }
   ],
   "source": [
    "code = first(codeinfo).code"
   ]
  },
  {
   "cell_type": "markdown",
   "id": "945aa312-c8bb-427f-9579-f1fe443b69a9",
   "metadata": {},
   "source": [
    "Working with a lower-level IR has the advantage that you can extract the IR for a given function directly and then modify it. It has the disadvantage that the code is much lower level."
   ]
  },
  {
   "cell_type": "markdown",
   "id": "f1cc887a-a618-4e32-9f91-d9360348f601",
   "metadata": {},
   "source": [
    "## MLStyle.jl"
   ]
  },
  {
   "cell_type": "markdown",
   "id": "1d991b73-d4a0-4693-ba94-f5426b117ae5",
   "metadata": {},
   "source": [
    "[Note: ML here refers to the functional programming language, not to \"Machine Learning\".]"
   ]
  },
  {
   "cell_type": "markdown",
   "id": "93b86e66-eb67-49fa-8f1f-fe4134b851c0",
   "metadata": {},
   "source": [
    "`MLStyle.jl` provides high-performance pattern matching that makes it easier to match and extract pieces of ASTs.\n",
    "`MacroTools.jl` is an older package with some similar functionality."
   ]
  }
 ],
 "metadata": {
  "kernelspec": {
   "display_name": "Julia 1.6.2",
   "language": "julia",
   "name": "julia-1.6"
  },
  "language_info": {
   "file_extension": ".jl",
   "mimetype": "application/julia",
   "name": "julia",
   "version": "1.6.2"
  }
 },
 "nbformat": 4,
 "nbformat_minor": 5
}
