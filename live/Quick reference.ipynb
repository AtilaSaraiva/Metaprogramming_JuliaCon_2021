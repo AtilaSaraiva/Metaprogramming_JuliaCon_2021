{
 "cells": [
  {
   "cell_type": "markdown",
   "id": "0cee8e41-9873-4db1-b0d2-acae61f561f1",
   "metadata": {},
   "source": [
    "# Quick reference: Introspection for metaprogramming"
   ]
  },
  {
   "cell_type": "markdown",
   "id": "ff1b031f-14a1-40cf-a3b1-bf188a8e704c",
   "metadata": {},
   "source": [
    "## What is the structure of an object? Use `dump()`"
   ]
  },
  {
   "cell_type": "markdown",
   "id": "1a9c9275-15ae-41de-864b-54cac7ef2698",
   "metadata": {},
   "source": [
    "Use `dump` to visualise the structure of an object."
   ]
  },
  {
   "cell_type": "code",
   "execution_count": 4,
   "id": "8d1409ae-ffc3-4a08-8b76-db186b52b47a",
   "metadata": {},
   "outputs": [
    {
     "data": {
      "text/plain": [
       ":(a + b)"
      ]
     },
     "execution_count": 4,
     "metadata": {},
     "output_type": "execute_result"
    }
   ],
   "source": [
    "ex = :(a + b)"
   ]
  },
  {
   "cell_type": "code",
   "execution_count": 5,
   "id": "a2f5d169-0853-4d27-a0c7-245a63140f5d",
   "metadata": {},
   "outputs": [
    {
     "name": "stdout",
     "output_type": "stream",
     "text": [
      "Expr\n",
      "  head: Symbol call\n",
      "  args: Array{Any}((3,))\n",
      "    1: Symbol +\n",
      "    2: Symbol a\n",
      "    3: Symbol b\n"
     ]
    }
   ],
   "source": [
    "dump(ex)"
   ]
  },
  {
   "cell_type": "markdown",
   "id": "c900be21-3005-4e36-a365-4ae9728dc6bc",
   "metadata": {},
   "source": [
    "## How is a piece of code represented as a syntax tree (AST)? Use `Meta.parse()`"
   ]
  },
  {
   "cell_type": "code",
   "execution_count": 2,
   "id": "0e5b1d78-6d1c-4985-90c1-f0b61ef37ae8",
   "metadata": {},
   "outputs": [
    {
     "data": {
      "text/plain": [
       ":(x[1:10])"
      ]
     },
     "execution_count": 2,
     "metadata": {},
     "output_type": "execute_result"
    }
   ],
   "source": [
    "ex = Meta.parse(\"x[1:10]\")"
   ]
  },
  {
   "cell_type": "code",
   "execution_count": 13,
   "id": "d5595d04-2225-462d-9dec-6853a5625913",
   "metadata": {},
   "outputs": [
    {
     "name": "stdout",
     "output_type": "stream",
     "text": [
      "Expr\n",
      "  head: Symbol call\n",
      "  args: Array{Any}((3,))\n",
      "    1: Symbol +\n",
      "    2: Symbol a\n",
      "    3: Symbol b\n"
     ]
    }
   ],
   "source": [
    "dump(ex)"
   ]
  },
  {
   "cell_type": "markdown",
   "id": "b438a108-17e2-43b6-b90a-b0777262b8bb",
   "metadata": {},
   "source": [
    "Note that `dump` does not return anything, it only prints. Use e.g. `ex.args` to extract pieces."
   ]
  },
  {
   "cell_type": "markdown",
   "id": "8111a7c3-2865-4914-8632-cad8be105d8c",
   "metadata": {},
   "source": [
    "## What does a macro do? Use `@macroexpand`"
   ]
  },
  {
   "cell_type": "code",
   "execution_count": 8,
   "id": "53881b49-40e4-44e5-ba17-9e1120863ada",
   "metadata": {},
   "outputs": [
    {
     "data": {
      "text/plain": [
       "quote\n",
       "    Base.println(\"a = \", Base.repr(begin\n",
       "                #= show.jl:955 =#\n",
       "                local var\"#58#value\" = a\n",
       "            end))\n",
       "    var\"#58#value\"\n",
       "end"
      ]
     },
     "execution_count": 8,
     "metadata": {},
     "output_type": "execute_result"
    }
   ],
   "source": [
    "code = @macroexpand @show a"
   ]
  },
  {
   "cell_type": "markdown",
   "id": "e1170639-36ef-47d5-80e9-c5a28d6f0ae5",
   "metadata": {},
   "source": [
    "## How do I remove all those line numbers? Use `Base.remove_linenums!()`"
   ]
  },
  {
   "cell_type": "code",
   "execution_count": 7,
   "id": "32b1c211-aa29-498a-8f96-5c6eb124a64b",
   "metadata": {},
   "outputs": [
    {
     "data": {
      "text/plain": [
       "quote\n",
       "    Base.println(\"a = \", Base.repr(begin\n",
       "                local var\"#57#value\" = a\n",
       "            end))\n",
       "    var\"#57#value\"\n",
       "end"
      ]
     },
     "execution_count": 7,
     "metadata": {},
     "output_type": "execute_result"
    }
   ],
   "source": [
    "Base.remove_linenums!( @macroexpand @show a )"
   ]
  },
  {
   "cell_type": "markdown",
   "id": "cc2e8a2b-1424-4e46-8709-2e4eec9e2b67",
   "metadata": {},
   "source": [
    "## How do I see the source code of a macro definition? Use `@edit`"
   ]
  },
  {
   "cell_type": "code",
   "execution_count": null,
   "id": "6422e1e4-5f20-48c4-a79b-b7758d79a6aa",
   "metadata": {},
   "outputs": [],
   "source": [
    "@edit @show a"
   ]
  }
 ],
 "metadata": {
  "kernelspec": {
   "display_name": "Julia 1.6.2",
   "language": "julia",
   "name": "julia-1.6"
  },
  "language_info": {
   "file_extension": ".jl",
   "mimetype": "application/julia",
   "name": "julia",
   "version": "1.6.2"
  }
 },
 "nbformat": 4,
 "nbformat_minor": 5
}
