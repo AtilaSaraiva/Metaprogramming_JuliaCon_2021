{
 "cells": [
  {
   "cell_type": "markdown",
   "id": "92045dcb-49b8-4303-b36f-a88c061c51bd",
   "metadata": {},
   "source": [
    "# Macros "
   ]
  },
  {
   "cell_type": "markdown",
   "id": "09c9ebbf-5e4a-439a-8258-59f2d955b749",
   "metadata": {},
   "source": [
    "So far we have been creating Julia expressions ourselves, by hand. Macros are a common method to do this automatically."
   ]
  },
  {
   "cell_type": "markdown",
   "id": "780a5587-d748-440d-90e2-a99ae947d208",
   "metadata": {},
   "source": [
    "Recall that macros begin with `@` and behave like \"super-functions\", which take in a piece of code and replace it with another piece of code.\n",
    "The effect of a macro call is to splice, or replace, the new piece of code in place of the old code; the new code is what is actually compiled by the Julia compiler. \n",
    "\n",
    "Note that the user *does not need to explicitly pass an `Expr`ession object*; Julia turns the code that follows the macro call into an expression."
   ]
  },
  {
   "cell_type": "markdown",
   "id": "55056f58-a255-4e24-a204-950ca88f728c",
   "metadata": {},
   "source": [
    "To see this, let's define the simplest macro:"
   ]
  },
  {
   "cell_type": "code",
   "execution_count": 1,
   "id": "de303e83-6dce-43b5-b01b-fbfbda7c73fb",
   "metadata": {},
   "outputs": [
    {
     "data": {
      "text/plain": [
       "@simple (macro with 1 method)"
      ]
     },
     "execution_count": 1,
     "metadata": {},
     "output_type": "execute_result"
    }
   ],
   "source": [
    "macro simple(ex)\n",
    "    @show typeof(ex)\n",
    "    @show ex\n",
    "    \n",
    "    return nothing   # return nothing for the moment\n",
    "end"
   ]
  },
  {
   "cell_type": "markdown",
   "id": "b9890fff-7977-44a5-ad36-d7942f31e4c3",
   "metadata": {},
   "source": [
    "and run it:"
   ]
  },
  {
   "cell_type": "code",
   "execution_count": 5,
   "id": "211e9854-7cb5-4385-91da-35b79693459d",
   "metadata": {},
   "outputs": [
    {
     "name": "stdout",
     "output_type": "stream",
     "text": [
      "typeof(ex) = Int64\n",
      "ex = 1\n"
     ]
    }
   ],
   "source": [
    "@simple 1"
   ]
  },
  {
   "cell_type": "code",
   "execution_count": 6,
   "id": "57b4501f-bf06-40db-b2e8-bade7e130e9c",
   "metadata": {},
   "outputs": [
    {
     "name": "stdout",
     "output_type": "stream",
     "text": [
      "typeof(ex) = Expr\n",
      "ex = :(x + y)\n"
     ]
    }
   ],
   "source": [
    "@simple x + y"
   ]
  },
  {
   "cell_type": "code",
   "execution_count": 8,
   "id": "1e7eeabd-aa05-49d6-ab7f-05cfbd830053",
   "metadata": {},
   "outputs": [
    {
     "data": {
      "text/plain": [
       "@simple2 (macro with 1 method)"
      ]
     },
     "execution_count": 8,
     "metadata": {},
     "output_type": "execute_result"
    }
   ],
   "source": [
    "macro simple2(ex)\n",
    "    return ex\n",
    "end"
   ]
  },
  {
   "cell_type": "code",
   "execution_count": 9,
   "id": "400af52f-b437-4236-9dc5-cbad88ddb967",
   "metadata": {},
   "outputs": [
    {
     "ename": "LoadError",
     "evalue": "UndefVarError: x not defined",
     "output_type": "error",
     "traceback": [
      "UndefVarError: x not defined",
      "",
      "Stacktrace:",
      " [1] top-level scope",
      "   @ In[9]:1",
      " [2] eval",
      "   @ ./boot.jl:360 [inlined]",
      " [3] include_string(mapexpr::typeof(REPL.softscope), mod::Module, code::String, filename::String)",
      "   @ Base ./loading.jl:1116"
     ]
    }
   ],
   "source": [
    "@simple2 x + y"
   ]
  },
  {
   "cell_type": "markdown",
   "id": "1ecf50e8-9037-423e-9308-60d62652fe7b",
   "metadata": {},
   "source": [
    "We see that the code `a = b` has *automatically been captured as a Julia expression*. Basically the *string* `\"a = b\"` that we typed has been **parsed**, i.e. converted into Julia code. We can do this ourselves:"
   ]
  },
  {
   "cell_type": "code",
   "execution_count": 6,
   "id": "3544d6a8-c79b-4211-9db5-956799c451e0",
   "metadata": {},
   "outputs": [
    {
     "data": {
      "text/plain": [
       ":(a = b)"
      ]
     },
     "execution_count": 6,
     "metadata": {},
     "output_type": "execute_result"
    }
   ],
   "source": [
    "Meta.parse(\"a = b\")"
   ]
  },
  {
   "cell_type": "markdown",
   "id": "6d2c39af-d446-4743-81e1-3b9e4247d808",
   "metadata": {},
   "source": [
    "The macro can now take this `Expr` object and process it as we have seen in the previous notebooks. The macro will return a new `Expr`; this is the new code that will actually be compiled instead of the old code!"
   ]
  },
  {
   "cell_type": "markdown",
   "id": "a3e4d718-d6d0-4b0c-a18a-8892cec0e85f",
   "metadata": {},
   "source": [
    "## Structuring a macro"
   ]
  },
  {
   "cell_type": "markdown",
   "id": "437e7319-b75f-48fb-97c1-11f4f7845d2b",
   "metadata": {},
   "source": [
    "The usual recommendation is that a macro should just act as an interface to the user that captures the user's code, as we saw just above. The resulting expression is then usually passed to a function to do the manipulation. This gives a separation of concerns (capture vs. processing) and makes it easier for the developer to test the processing step.\n",
    "\n",
    "For example, let's write a macro that replaces a `+` with a `*`:"
   ]
  },
  {
   "cell_type": "code",
   "execution_count": 10,
   "id": "d4fe84d2-4b60-4c91-b5f9-d5bc8d9461e1",
   "metadata": {},
   "outputs": [
    {
     "data": {
      "text/plain": [
       "@add_to_multiply (macro with 1 method)"
      ]
     },
     "execution_count": 10,
     "metadata": {},
     "output_type": "execute_result"
    }
   ],
   "source": [
    "macro add_to_multiply(ex)\n",
    "    \n",
    "    return _add_to_multiply(ex)\n",
    "end"
   ]
  },
  {
   "cell_type": "code",
   "execution_count": 11,
   "id": "d81fe2e5-0b2f-469f-a494-b21a65bca52b",
   "metadata": {},
   "outputs": [
    {
     "ename": "LoadError",
     "evalue": "LoadError: UndefVarError: _add_to_multiply not defined\nin expression starting at In[11]:1",
     "output_type": "error",
     "traceback": [
      "LoadError: UndefVarError: _add_to_multiply not defined\nin expression starting at In[11]:1",
      "",
      "Stacktrace:",
      " [1] var\"@add_to_multiply\"(__source__::LineNumberNode, __module__::Module, ex::Any)",
      "   @ Main ./In[10]:2",
      " [2] eval",
      "   @ ./boot.jl:360 [inlined]",
      " [3] include_string(mapexpr::typeof(REPL.softscope), mod::Module, code::String, filename::String)",
      "   @ Base ./loading.jl:1116"
     ]
    }
   ],
   "source": [
    "@add_to_multiply x + y"
   ]
  },
  {
   "cell_type": "markdown",
   "id": "3e700da0-263e-4b83-9a75-d8fd261bf1ed",
   "metadata": {},
   "source": [
    "The function receives an expression and should create the new expression:"
   ]
  },
  {
   "cell_type": "code",
   "execution_count": 12,
   "id": "20463ec0-77e4-4608-8513-f9a82712c970",
   "metadata": {},
   "outputs": [
    {
     "data": {
      "text/plain": [
       "_add_to_multiply (generic function with 1 method)"
      ]
     },
     "execution_count": 12,
     "metadata": {},
     "output_type": "execute_result"
    }
   ],
   "source": [
    "function _add_to_multiply(ex)\n",
    "    \n",
    "    if ex.head == :call && ex.args[1] == :+\n",
    "        ex.args[1] = :*\n",
    "    end\n",
    "        \n",
    "    return ex\n",
    "end"
   ]
  },
  {
   "cell_type": "code",
   "execution_count": 13,
   "id": "6780e685-85f0-4f7d-9b79-2e40cfeac472",
   "metadata": {},
   "outputs": [
    {
     "data": {
      "text/plain": [
       ":(a * b)"
      ]
     },
     "execution_count": 13,
     "metadata": {},
     "output_type": "execute_result"
    }
   ],
   "source": [
    "_add_to_multiply( :(a + b) )"
   ]
  },
  {
   "cell_type": "code",
   "execution_count": 14,
   "id": "dbfa9e7c-25b6-4c92-a0d9-428ec509d8c4",
   "metadata": {},
   "outputs": [
    {
     "data": {
      "text/plain": [
       ":(a - b)"
      ]
     },
     "execution_count": 14,
     "metadata": {},
     "output_type": "execute_result"
    }
   ],
   "source": [
    "_add_to_multiply( :(a - b) )"
   ]
  },
  {
   "cell_type": "code",
   "execution_count": 15,
   "id": "71f9a094-2fe2-45d6-a93c-1f54be79191a",
   "metadata": {},
   "outputs": [
    {
     "ename": "LoadError",
     "evalue": "UndefVarError: a not defined",
     "output_type": "error",
     "traceback": [
      "UndefVarError: a not defined",
      "",
      "Stacktrace:",
      " [1] top-level scope",
      "   @ In[15]:1",
      " [2] eval",
      "   @ ./boot.jl:360 [inlined]",
      " [3] include_string(mapexpr::typeof(REPL.softscope), mod::Module, code::String, filename::String)",
      "   @ Base ./loading.jl:1116"
     ]
    }
   ],
   "source": [
    "@add_to_multiply a + b"
   ]
  },
  {
   "cell_type": "markdown",
   "id": "49ff1195-ce3f-4ebd-9036-538d8c23ff3e",
   "metadata": {},
   "source": [
    "What is happening here? The macro *first* replaces the code with `a * b`, and *then* compiles and tries to execute the code. \n",
    "But the variable `a` does not yet exist, so this errors. Defining `a` and `b` behaves as we expect:"
   ]
  },
  {
   "cell_type": "code",
   "execution_count": 16,
   "id": "583bc84f-154a-440a-b9c6-91dcd2205811",
   "metadata": {},
   "outputs": [
    {
     "data": {
      "text/plain": [
       "3"
      ]
     },
     "execution_count": 16,
     "metadata": {},
     "output_type": "execute_result"
    }
   ],
   "source": [
    "a = 2; b = 3"
   ]
  },
  {
   "cell_type": "code",
   "execution_count": 17,
   "id": "ef203329-8f7b-40a1-b207-2722293cc5bd",
   "metadata": {},
   "outputs": [
    {
     "data": {
      "text/plain": [
       "6"
      ]
     },
     "execution_count": 17,
     "metadata": {},
     "output_type": "execute_result"
    }
   ],
   "source": [
    "@add_to_multiply a + b"
   ]
  },
  {
   "cell_type": "markdown",
   "id": "bbd77379-d542-464b-8d86-d4825e8c89fc",
   "metadata": {},
   "source": [
    "We indeed get the result of multiplying `a` and `b`, not adding them.\n",
    "\n",
    "This is a good example of why debugging macros is best done via an intermediate function that does the expression manipulation."
   ]
  },
  {
   "cell_type": "markdown",
   "id": "0dad6e7e-b348-4185-bb3c-35fd7d059e60",
   "metadata": {},
   "source": [
    "Recall that we can use `@macroexpand` to see what the macro is doing:"
   ]
  },
  {
   "cell_type": "code",
   "execution_count": 18,
   "id": "4c552073-786b-4109-b6df-0b0e12d41b1d",
   "metadata": {},
   "outputs": [
    {
     "data": {
      "text/plain": [
       ":(Main.a * Main.b)"
      ]
     },
     "execution_count": 18,
     "metadata": {},
     "output_type": "execute_result"
    }
   ],
   "source": [
    "@macroexpand @add_to_multiply a + b"
   ]
  },
  {
   "cell_type": "markdown",
   "id": "a7c88aba-3066-424f-82b6-df133ab09b56",
   "metadata": {},
   "source": [
    "## Macro hygiene"
   ]
  },
  {
   "cell_type": "markdown",
   "id": "6d7f6d13-2c03-47de-a6ec-bbb92f21cd44",
   "metadata": {},
   "source": [
    "Macro \"hygiene\" refers to the fact that macros do some modification of the code that they receive, in order to be \"hygienic\" (clean): they try not to touch user code."
   ]
  },
  {
   "cell_type": "markdown",
   "id": "edd54427-8a9f-4fb3-a03a-21233339be92",
   "metadata": {},
   "source": [
    "## Exercise"
   ]
  },
  {
   "cell_type": "markdown",
   "id": "fdeb40d6-3aee-4d36-baca-3ea12cc7e05c",
   "metadata": {},
   "source": [
    "1. Define a macro `@simple3` that returns the expression that was passed to it.\n",
    "\n",
    "\n",
    "2. What happens when you call `@simple3 yy = xx^2`?\n",
    "\n",
    "\n",
    "3. Define a variable `xx` with the value `3`. Does the macro work now?\n",
    "\n",
    "\n",
    "4. Does the variable `yy` now exist?\n",
    "\n",
    "\n",
    "5. To see what's happening, use `@macroexpand`."
   ]
  },
  {
   "cell_type": "code",
   "execution_count": 22,
   "id": "6959e903-7c02-455c-ae21-cc73b5463791",
   "metadata": {},
   "outputs": [
    {
     "data": {
      "text/plain": [
       "@simple3 (macro with 1 method)"
      ]
     },
     "execution_count": 22,
     "metadata": {},
     "output_type": "execute_result"
    }
   ],
   "source": [
    "macro simple3(ex)\n",
    "    return ex\n",
    "end"
   ]
  },
  {
   "cell_type": "code",
   "execution_count": 23,
   "id": "fad1cf85-d4d7-4b03-b4b2-904558835511",
   "metadata": {},
   "outputs": [
    {
     "ename": "LoadError",
     "evalue": "UndefVarError: xx not defined",
     "output_type": "error",
     "traceback": [
      "UndefVarError: xx not defined",
      "",
      "Stacktrace:",
      " [1] top-level scope",
      "   @ In[23]:1",
      " [2] eval",
      "   @ ./boot.jl:360 [inlined]",
      " [3] include_string(mapexpr::typeof(REPL.softscope), mod::Module, code::String, filename::String)",
      "   @ Base ./loading.jl:1116"
     ]
    }
   ],
   "source": [
    "@simple3 yy = xx^2"
   ]
  },
  {
   "cell_type": "code",
   "execution_count": 24,
   "id": "3c238c9e-8045-4d43-bb19-19f031a21f13",
   "metadata": {},
   "outputs": [
    {
     "ename": "LoadError",
     "evalue": "UndefVarError: xx not defined",
     "output_type": "error",
     "traceback": [
      "UndefVarError: xx not defined",
      "",
      "Stacktrace:",
      " [1] top-level scope",
      "   @ :0",
      " [2] eval",
      "   @ ./boot.jl:360 [inlined]",
      " [3] include_string(mapexpr::typeof(REPL.softscope), mod::Module, code::String, filename::String)",
      "   @ Base ./loading.jl:1116"
     ]
    }
   ],
   "source": [
    "xx"
   ]
  },
  {
   "cell_type": "code",
   "execution_count": 26,
   "id": "6efbb807-6ac6-4af5-b67b-439cd635b9b9",
   "metadata": {},
   "outputs": [
    {
     "data": {
      "text/plain": [
       "10"
      ]
     },
     "execution_count": 26,
     "metadata": {},
     "output_type": "execute_result"
    }
   ],
   "source": [
    "xx = 10"
   ]
  },
  {
   "cell_type": "code",
   "execution_count": 27,
   "id": "f6cec0ff-9e5b-4902-9471-18cabe0b4588",
   "metadata": {},
   "outputs": [
    {
     "data": {
      "text/plain": [
       "100"
      ]
     },
     "execution_count": 27,
     "metadata": {},
     "output_type": "execute_result"
    }
   ],
   "source": [
    "@simple2 yy = xx^2"
   ]
  },
  {
   "cell_type": "code",
   "execution_count": 28,
   "id": "df789222-1810-47c1-b791-4fd4febc0802",
   "metadata": {},
   "outputs": [
    {
     "ename": "LoadError",
     "evalue": "UndefVarError: yy not defined",
     "output_type": "error",
     "traceback": [
      "UndefVarError: yy not defined",
      "",
      "Stacktrace:",
      " [1] top-level scope",
      "   @ :0",
      " [2] eval",
      "   @ ./boot.jl:360 [inlined]",
      " [3] include_string(mapexpr::typeof(REPL.softscope), mod::Module, code::String, filename::String)",
      "   @ Base ./loading.jl:1116"
     ]
    }
   ],
   "source": [
    "yy"
   ]
  },
  {
   "cell_type": "code",
   "execution_count": 30,
   "id": "c2ecd7d1-54e6-45a1-8bad-67b682f37452",
   "metadata": {},
   "outputs": [
    {
     "data": {
      "text/plain": [
       ":(var\"#62#yy\" = Main.xx ^ 2)"
      ]
     },
     "execution_count": 30,
     "metadata": {},
     "output_type": "execute_result"
    }
   ],
   "source": [
    "@macroexpand @simple3 yy = xx^2"
   ]
  },
  {
   "cell_type": "markdown",
   "id": "4a80e2c7-9acb-47c0-8785-e22bb657aa08",
   "metadata": {},
   "source": [
    "You should find that the variable `yy` does *not* now exist, even though it seems like it should, since the code `yy = xx^2` was evaluated. However, macros by default do not \"touch\" variables in the context from where they are called, since this may have unintended consequences. We refer to this as macro **hygiene**: the macro is **hygienic**, i.e. clean, meaning that it does not \"infect\" the user's code.\n",
    "\n",
    "Nonetheless, often we may *want* a macro to be able to modify a variable in the context from which the macro is called.\n",
    "In which case we can \"escape\" from this hygiene, making a non-hygienic macro, using `esc` (\"escape\"):"
   ]
  },
  {
   "cell_type": "markdown",
   "id": "e7e01913-8b97-4228-8b06-d6ce352c4e35",
   "metadata": {},
   "source": [
    "## Interpolation"
   ]
  },
  {
   "cell_type": "code",
   "execution_count": 33,
   "id": "b9b124ef-9c93-4a27-97e9-492c377ece30",
   "metadata": {},
   "outputs": [
    {
     "data": {
      "text/plain": [
       ":(x + y)"
      ]
     },
     "execution_count": 33,
     "metadata": {},
     "output_type": "execute_result"
    }
   ],
   "source": [
    "ex = :(x + y)"
   ]
  },
  {
   "cell_type": "code",
   "execution_count": 34,
   "id": "6c306f88-191b-48c5-af50-b3f17c29df3b",
   "metadata": {},
   "outputs": [
    {
     "data": {
      "text/plain": [
       ":(z * (x + y))"
      ]
     },
     "execution_count": 34,
     "metadata": {},
     "output_type": "execute_result"
    }
   ],
   "source": [
    "ex2 = :(z * $(ex))"
   ]
  },
  {
   "cell_type": "code",
   "execution_count": 35,
   "id": "ed0dd1f4-5a6a-4ba7-b62c-17256da680ed",
   "metadata": {},
   "outputs": [
    {
     "data": {
      "text/plain": [
       "@simple4 (macro with 1 method)"
      ]
     },
     "execution_count": 35,
     "metadata": {},
     "output_type": "execute_result"
    }
   ],
   "source": [
    "macro simple4(ex)\n",
    "    ex2 = esc(ex)\n",
    "    \n",
    "    ex3 = :($(ex2))\n",
    "    \n",
    "    return ex3\n",
    "end"
   ]
  },
  {
   "cell_type": "code",
   "execution_count": 37,
   "id": "842f3a47-2a1a-4118-817d-dd3542d67b79",
   "metadata": {},
   "outputs": [
    {
     "data": {
      "text/plain": [
       "100"
      ]
     },
     "execution_count": 37,
     "metadata": {},
     "output_type": "execute_result"
    }
   ],
   "source": [
    "@simple4 yy = xx^2"
   ]
  },
  {
   "cell_type": "code",
   "execution_count": 38,
   "id": "c231709c-3608-47e1-aed9-e7ce74486ced",
   "metadata": {},
   "outputs": [
    {
     "data": {
      "text/plain": [
       "100"
      ]
     },
     "execution_count": 38,
     "metadata": {},
     "output_type": "execute_result"
    }
   ],
   "source": [
    "yy"
   ]
  },
  {
   "cell_type": "code",
   "execution_count": 39,
   "id": "6059d086-cf5f-4a05-be69-0b5e12480e82",
   "metadata": {},
   "outputs": [
    {
     "data": {
      "text/plain": [
       ":(yy = xx ^ 2)"
      ]
     },
     "execution_count": 39,
     "metadata": {},
     "output_type": "execute_result"
    }
   ],
   "source": [
    "@macroexpand @simple4 yy = xx^2"
   ]
  },
  {
   "cell_type": "markdown",
   "id": "e90bec03-5c0b-4d79-97be-f07c084ae1bc",
   "metadata": {},
   "source": [
    "Note that once again the macro must return an *expression*. \n",
    "\n",
    "For code clarity it is possible to define a new variable that is the escaped version:"
   ]
  },
  {
   "cell_type": "code",
   "execution_count": 47,
   "id": "d28e8582-6389-4ab8-b45a-e414ff0c128b",
   "metadata": {},
   "outputs": [
    {
     "data": {
      "text/plain": [
       "@simple5 (macro with 1 method)"
      ]
     },
     "execution_count": 47,
     "metadata": {},
     "output_type": "execute_result"
    }
   ],
   "source": [
    "macro simple5(ex)\n",
    "    ex2 = esc(ex)\n",
    "    \n",
    "    return ex2\n",
    "end"
   ]
  },
  {
   "cell_type": "code",
   "execution_count": 50,
   "id": "45f105b4-fc13-47fe-b98d-31e66cdbcba0",
   "metadata": {},
   "outputs": [
    {
     "data": {
      "text/plain": [
       "100"
      ]
     },
     "execution_count": 50,
     "metadata": {},
     "output_type": "execute_result"
    }
   ],
   "source": [
    "@simple5 zz = xx^2"
   ]
  },
  {
   "cell_type": "code",
   "execution_count": 51,
   "id": "74cc5431-8424-4b71-b5c3-c8774087ec73",
   "metadata": {},
   "outputs": [
    {
     "data": {
      "text/plain": [
       "100"
      ]
     },
     "execution_count": 51,
     "metadata": {},
     "output_type": "execute_result"
    }
   ],
   "source": [
    "zz"
   ]
  },
  {
   "cell_type": "code",
   "execution_count": 49,
   "id": "04d5355f-50af-4a3a-a869-03b40cc768a7",
   "metadata": {},
   "outputs": [
    {
     "data": {
      "text/plain": [
       ":(yy = xx ^ 2)"
      ]
     },
     "execution_count": 49,
     "metadata": {},
     "output_type": "execute_result"
    }
   ],
   "source": [
    "@macroexpand @simple5 yy = xx^2"
   ]
  },
  {
   "cell_type": "code",
   "execution_count": 54,
   "id": "4fa66e41-d81c-4c76-8568-0d4efba0b8c2",
   "metadata": {},
   "outputs": [
    {
     "data": {
      "text/plain": [
       ":(yy = xx ^ 2)"
      ]
     },
     "execution_count": 54,
     "metadata": {},
     "output_type": "execute_result"
    }
   ],
   "source": [
    "@macroexpand @simple3 yy = xx^2"
   ]
  },
  {
   "cell_type": "code",
   "execution_count": null,
   "id": "85150a4b-3774-4501-ade8-0b4438907d79",
   "metadata": {},
   "outputs": [],
   "source": []
  },
  {
   "cell_type": "markdown",
   "id": "fecd139e-a8ea-4ca8-a2cb-5acb8894fdd4",
   "metadata": {},
   "source": [
    "## Exercise\n",
    "\n",
    "1. Check that `@simple3` does create a variable `yy`."
   ]
  },
  {
   "cell_type": "markdown",
   "id": "4117eb74-a1fa-4406-9fef-bab135fb8da2",
   "metadata": {},
   "source": [
    "## Exercise"
   ]
  },
  {
   "cell_type": "markdown",
   "id": "9532c496-5da5-41dd-bf4b-3697abc125ac",
   "metadata": {},
   "source": [
    "Define a `@myshow` macro that reproduces the behaviour of `@show`."
   ]
  },
  {
   "cell_type": "code",
   "execution_count": 40,
   "id": "7d3607a2-cdc0-47b6-8bad-d62b12ce0538",
   "metadata": {},
   "outputs": [
    {
     "data": {
      "text/plain": [
       "3"
      ]
     },
     "execution_count": 40,
     "metadata": {},
     "output_type": "execute_result"
    }
   ],
   "source": [
    "y = 3"
   ]
  },
  {
   "cell_type": "code",
   "execution_count": 41,
   "id": "120c6d45-91fe-41a0-8fea-ca12ac3a08ca",
   "metadata": {},
   "outputs": [
    {
     "name": "stdout",
     "output_type": "stream",
     "text": [
      "y = 3\n"
     ]
    },
    {
     "data": {
      "text/plain": [
       "3"
      ]
     },
     "execution_count": 41,
     "metadata": {},
     "output_type": "execute_result"
    }
   ],
   "source": [
    "@show y"
   ]
  },
  {
   "cell_type": "code",
   "execution_count": 52,
   "id": "517ef804-12b4-4c58-93cf-df7f2fd763c4",
   "metadata": {},
   "outputs": [
    {
     "data": {
      "text/plain": [
       "@myshow (macro with 1 method)"
      ]
     },
     "execution_count": 52,
     "metadata": {},
     "output_type": "execute_result"
    }
   ],
   "source": [
    "macro myshow(ex)\n",
    "    return _myshow(ex)\n",
    "end"
   ]
  },
  {
   "cell_type": "code",
   "execution_count": 70,
   "id": "26384e9b-1d5d-4ec4-9b27-9d82e37702ea",
   "metadata": {},
   "outputs": [
    {
     "data": {
      "text/plain": [
       "_myshow (generic function with 1 method)"
      ]
     },
     "execution_count": 70,
     "metadata": {},
     "output_type": "execute_result"
    }
   ],
   "source": [
    "function _myshow(ex)\n",
    "    ex2 = QuoteNode(ex)\n",
    "    \n",
    "    :( println($ex2, \" = \", $ex) )\n",
    "end"
   ]
  },
  {
   "cell_type": "code",
   "execution_count": 62,
   "id": "87a3ce6a-ae23-48e6-a7bd-4526972a14d4",
   "metadata": {},
   "outputs": [
    {
     "data": {
      "text/plain": [
       ":x"
      ]
     },
     "execution_count": 62,
     "metadata": {},
     "output_type": "execute_result"
    }
   ],
   "source": [
    "ex = :x"
   ]
  },
  {
   "cell_type": "code",
   "execution_count": 63,
   "id": "d71edd1b-9638-47c7-bbab-f2a2257f2509",
   "metadata": {},
   "outputs": [
    {
     "data": {
      "text/plain": [
       ":(:x)"
      ]
     },
     "execution_count": 63,
     "metadata": {},
     "output_type": "execute_result"
    }
   ],
   "source": [
    "QuoteNode(ex)"
   ]
  },
  {
   "cell_type": "code",
   "execution_count": 72,
   "id": "0ec732e7-3fca-4873-964f-3ff3bf42e4ea",
   "metadata": {},
   "outputs": [
    {
     "data": {
      "text/plain": [
       ":(println(:x, \" = \", x))"
      ]
     },
     "execution_count": 72,
     "metadata": {},
     "output_type": "execute_result"
    }
   ],
   "source": [
    "_myshow(:x)"
   ]
  },
  {
   "cell_type": "code",
   "execution_count": 60,
   "id": "f3da2ca5-9ad8-4f0c-a532-1a258ef43252",
   "metadata": {},
   "outputs": [
    {
     "data": {
      "text/plain": [
       "10"
      ]
     },
     "execution_count": 60,
     "metadata": {},
     "output_type": "execute_result"
    }
   ],
   "source": [
    "x = 10"
   ]
  },
  {
   "cell_type": "code",
   "execution_count": 61,
   "id": "d0ce0138-fdff-41d6-89ac-90d5e53d6259",
   "metadata": {},
   "outputs": [
    {
     "name": "stdout",
     "output_type": "stream",
     "text": [
      "10 = 10\n"
     ]
    }
   ],
   "source": [
    "@myshow x"
   ]
  },
  {
   "cell_type": "code",
   "execution_count": 71,
   "id": "767f6bbc-cce0-4974-b960-9630bdcbaa25",
   "metadata": {},
   "outputs": [
    {
     "name": "stdout",
     "output_type": "stream",
     "text": [
      "x + y = 13\n"
     ]
    }
   ],
   "source": [
    "@myshow x + y"
   ]
  },
  {
   "cell_type": "code",
   "execution_count": 69,
   "id": "5faca2d9-e1f1-44eb-b201-2f2e8523cee6",
   "metadata": {},
   "outputs": [
    {
     "data": {
      "text/plain": [
       "3"
      ]
     },
     "execution_count": 69,
     "metadata": {},
     "output_type": "execute_result"
    }
   ],
   "source": [
    "y"
   ]
  },
  {
   "cell_type": "markdown",
   "id": "9325fafa-026b-42c1-89db-91346edad11f",
   "metadata": {},
   "source": [
    "## Exercise 8\n",
    "\n",
    "1. Write a macro `@replace` that replaces terms in an expression. Apply it to `yy = xx^2 + xx`, replacing `xx` by `xx + 1`.\n",
    "\n",
    "\n",
    "2. Write a macro `@checked` that replaces all arithmetic operations (`+`, `-`, `*`, `/`) with checked operations (`Base.checked_add` etc.)"
   ]
  },
  {
   "cell_type": "markdown",
   "id": "aa9a7053-ce85-4cbe-99aa-6e4274d6cc6a",
   "metadata": {},
   "source": [
    "# Macros for domain-specific languages"
   ]
  },
  {
   "cell_type": "markdown",
   "id": "6082b809-6a1f-4524-897a-0b6d228804e7",
   "metadata": {},
   "source": [
    "Let's see some simple examples of how we can start to approach domain-specific languages for scientific applications. \n",
    "\n",
    "Let's suppose we want to reproduce the `@variables` macro from `Symbolics.jl`. \n",
    "The idea is that there is a `Variable` object representing a symbolic variable:"
   ]
  },
  {
   "cell_type": "code",
   "execution_count": 73,
   "id": "b0eda43b-38fb-4abd-920a-176dfa2a1bf9",
   "metadata": {},
   "outputs": [],
   "source": [
    "struct Variable\n",
    "    name::Symbol\n",
    "end\n",
    "\n",
    "# Base.show(io::IO, v::Variable) = print(io, v.name)"
   ]
  },
  {
   "cell_type": "markdown",
   "id": "70558724-35de-4f87-8464-968db36301a2",
   "metadata": {},
   "source": [
    "And we could define arithmetic operations on those to carry out symbolic manipulations (exercise!)."
   ]
  },
  {
   "cell_type": "markdown",
   "id": "62e30389-391d-4b76-9136-2ec3b201af48",
   "metadata": {},
   "source": [
    "We can create such a variable as"
   ]
  },
  {
   "cell_type": "code",
   "execution_count": 74,
   "id": "95dffd90-6523-4157-b3fd-0998f4a702b4",
   "metadata": {},
   "outputs": [
    {
     "data": {
      "text/plain": [
       "Variable(:x)"
      ]
     },
     "execution_count": 74,
     "metadata": {},
     "output_type": "execute_result"
    }
   ],
   "source": [
    "Variable(:x)"
   ]
  },
  {
   "cell_type": "markdown",
   "id": "68ebb31c-a01a-448c-9270-3e50c039c9f6",
   "metadata": {},
   "source": [
    "To define a Julia variable called `x` that is bound to the `Variable` object, we must do"
   ]
  },
  {
   "cell_type": "code",
   "execution_count": 75,
   "id": "7ed6e6af-4028-40d5-944c-c69061f190ec",
   "metadata": {},
   "outputs": [
    {
     "data": {
      "text/plain": [
       "Variable(:x)"
      ]
     },
     "execution_count": 75,
     "metadata": {},
     "output_type": "execute_result"
    }
   ],
   "source": [
    "x = Variable(:x)"
   ]
  },
  {
   "cell_type": "markdown",
   "id": "38e0129a-b919-4701-b161-9e26128aba24",
   "metadata": {},
   "source": [
    "The situation is similar to the `@show` macro: we would ideally like to be able to write `@var x`, which expands to `x = Variable(:x)`."
   ]
  },
  {
   "cell_type": "markdown",
   "id": "ee14b7b5-ffbc-465b-a774-2a094c8a7c6d",
   "metadata": {},
   "source": [
    "## Exercise\n",
    "\n",
    "1. Try to write the `@var` macro. You will probably get stuck! Where is the sticking point?"
   ]
  },
  {
   "cell_type": "markdown",
   "id": "69100f5c-6e09-4f1f-964a-5ee3a4a611ce",
   "metadata": {},
   "source": [
    "[Blank!]"
   ]
  },
  {
   "cell_type": "code",
   "execution_count": null,
   "id": "6988a0c9-b231-4750-a749-713a5c9b43d7",
   "metadata": {},
   "outputs": [],
   "source": []
  },
  {
   "cell_type": "code",
   "execution_count": 76,
   "id": "5ed0aa4a-e764-4a8a-ac8d-ccbca372f63d",
   "metadata": {},
   "outputs": [
    {
     "data": {
      "text/plain": [
       "@var (macro with 1 method)"
      ]
     },
     "execution_count": 76,
     "metadata": {},
     "output_type": "execute_result"
    }
   ],
   "source": [
    "macro var(ex)\n",
    "    return _var(ex)\n",
    "end"
   ]
  },
  {
   "cell_type": "code",
   "execution_count": 79,
   "id": "3b7a5c75-9618-4d2b-bdb0-1445fab961e7",
   "metadata": {},
   "outputs": [
    {
     "data": {
      "text/plain": [
       "_var (generic function with 1 method)"
      ]
     },
     "execution_count": 79,
     "metadata": {},
     "output_type": "execute_result"
    }
   ],
   "source": [
    "function _var(ex)\n",
    "    :($(esc(ex)) = Variable($(QuoteNode(ex))))\n",
    "end"
   ]
  },
  {
   "cell_type": "code",
   "execution_count": 80,
   "id": "5c51fb43-467d-429b-ae4d-02f070f86347",
   "metadata": {},
   "outputs": [
    {
     "data": {
      "text/plain": [
       ":($(Expr(:escape, :x)) = Variable(:x))"
      ]
     },
     "execution_count": 80,
     "metadata": {},
     "output_type": "execute_result"
    }
   ],
   "source": [
    "_var(:x)"
   ]
  },
  {
   "cell_type": "code",
   "execution_count": 83,
   "id": "e5e59510-ee11-492d-8295-118f91fc5918",
   "metadata": {},
   "outputs": [
    {
     "data": {
      "text/plain": [
       "Variable(:z)"
      ]
     },
     "execution_count": 83,
     "metadata": {},
     "output_type": "execute_result"
    }
   ],
   "source": [
    "@var z"
   ]
  },
  {
   "cell_type": "code",
   "execution_count": 84,
   "id": "e85aaac0-e420-42cb-8f69-376acbecdeef",
   "metadata": {},
   "outputs": [
    {
     "data": {
      "text/plain": [
       "Variable(:z)"
      ]
     },
     "execution_count": 84,
     "metadata": {},
     "output_type": "execute_result"
    }
   ],
   "source": [
    "z"
   ]
  },
  {
   "cell_type": "code",
   "execution_count": 85,
   "id": "fc8a3265-3370-449b-9306-0dbe9ff3137c",
   "metadata": {},
   "outputs": [
    {
     "data": {
      "text/plain": [
       ":(z = Main.Variable(:z))"
      ]
     },
     "execution_count": 85,
     "metadata": {},
     "output_type": "execute_result"
    }
   ],
   "source": [
    "@macroexpand @var z\n"
   ]
  },
  {
   "cell_type": "code",
   "execution_count": 61,
   "id": "16b2f052-1867-4a6e-afb4-a44ed58ee3a8",
   "metadata": {},
   "outputs": [
    {
     "data": {
      "text/plain": [
       "@var (macro with 1 method)"
      ]
     },
     "execution_count": 61,
     "metadata": {},
     "output_type": "execute_result"
    }
   ],
   "source": [
    "macro var(ex)\n",
    "    return _var(ex)\n",
    "end"
   ]
  },
  {
   "cell_type": "code",
   "execution_count": 64,
   "id": "0babb358-8004-49bf-bee7-f34b168ccb3e",
   "metadata": {},
   "outputs": [
    {
     "data": {
      "text/plain": [
       ":(var\"#65#x\" = Main.Variable((Main.Meta).quot(var\"#65#x\")))"
      ]
     },
     "execution_count": 64,
     "metadata": {},
     "output_type": "execute_result"
    }
   ],
   "source": [
    "@macroexpand @var x"
   ]
  },
  {
   "cell_type": "code",
   "execution_count": 147,
   "id": "c22886e3-f9bc-42dd-9546-c2398a9d6550",
   "metadata": {},
   "outputs": [
    {
     "data": {
      "text/plain": [
       "_var (generic function with 1 method)"
      ]
     },
     "execution_count": 147,
     "metadata": {},
     "output_type": "execute_result"
    }
   ],
   "source": [
    "function _var(ex)\n",
    "    escaped_ex = esc(ex)\n",
    "    quoted_ex = QuoteNode(ex)\n",
    "    \n",
    "    return :(\n",
    "        $(escaped_ex) = Variable( $(quoted_ex) )\n",
    "    )\n",
    "end"
   ]
  },
  {
   "cell_type": "code",
   "execution_count": 126,
   "id": "aac67cd3-84e5-4522-a431-85f399820d23",
   "metadata": {},
   "outputs": [
    {
     "data": {
      "text/plain": [
       "quote\n",
       "    #= In[125]:6 =#\n",
       "    $(Expr(:escape, :x)) = Variable(:x)\n",
       "end"
      ]
     },
     "execution_count": 126,
     "metadata": {},
     "output_type": "execute_result"
    }
   ],
   "source": [
    "_var(:x)"
   ]
  },
  {
   "cell_type": "code",
   "execution_count": 127,
   "id": "a5643225-29cd-4409-9e26-df7c7bb6bffe",
   "metadata": {},
   "outputs": [
    {
     "data": {
      "text/plain": [
       "quote\n",
       "    #= In[125]:6 =#\n",
       "    x = Main.Variable(:x)\n",
       "end"
      ]
     },
     "execution_count": 127,
     "metadata": {},
     "output_type": "execute_result"
    }
   ],
   "source": [
    "@macroexpand @var x"
   ]
  },
  {
   "cell_type": "code",
   "execution_count": 128,
   "id": "9b3b2547-7095-4b14-83bd-6fb9ce2cc2f5",
   "metadata": {},
   "outputs": [
    {
     "data": {
      "text/plain": [
       "quote\n",
       "    #= In[125]:6 =#\n",
       "    x = Main.Variable(:x)\n",
       "end"
      ]
     },
     "execution_count": 128,
     "metadata": {},
     "output_type": "execute_result"
    }
   ],
   "source": [
    "@macroexpand @var x"
   ]
  },
  {
   "cell_type": "code",
   "execution_count": 129,
   "id": "8167b8e4-ba3f-4581-8d89-414120e2d288",
   "metadata": {},
   "outputs": [
    {
     "data": {
      "text/plain": [
       "z"
      ]
     },
     "execution_count": 129,
     "metadata": {},
     "output_type": "execute_result"
    }
   ],
   "source": [
    "@var z"
   ]
  },
  {
   "cell_type": "code",
   "execution_count": 130,
   "id": "e03e1b5e-f7fd-44f9-b03c-8fba3bae2057",
   "metadata": {},
   "outputs": [
    {
     "data": {
      "text/plain": [
       "z"
      ]
     },
     "execution_count": 130,
     "metadata": {},
     "output_type": "execute_result"
    }
   ],
   "source": [
    "z"
   ]
  },
  {
   "cell_type": "code",
   "execution_count": 80,
   "id": "db20905a-a150-41a2-891c-42e62b62a377",
   "metadata": {},
   "outputs": [
    {
     "data": {
      "text/plain": [
       "3"
      ]
     },
     "execution_count": 80,
     "metadata": {},
     "output_type": "execute_result"
    }
   ],
   "source": [
    "y"
   ]
  },
  {
   "cell_type": "markdown",
   "id": "10fbe835-a11d-4aa9-a862-07e12ca973da",
   "metadata": {},
   "source": [
    "## Several variables"
   ]
  },
  {
   "cell_type": "markdown",
   "id": "f6327da1-6a4b-4f38-927c-f5fa18df72b3",
   "metadata": {},
   "source": [
    "Now suppose we want to expand our macro to handle not only single variables, but also multiple variables, e.g. `@var x y`"
   ]
  },
  {
   "cell_type": "markdown",
   "id": "18da756f-d5a2-456a-98b7-224bb447d828",
   "metadata": {},
   "source": [
    "The first task is to work out what happens when the macro receives this"
   ]
  },
  {
   "cell_type": "code",
   "execution_count": 86,
   "id": "65eb76b9-db3f-41ac-b77d-9962bc292739",
   "metadata": {},
   "outputs": [
    {
     "data": {
      "text/plain": [
       "@simple (macro with 1 method)"
      ]
     },
     "execution_count": 86,
     "metadata": {},
     "output_type": "execute_result"
    }
   ],
   "source": [
    "macro simple(ex)\n",
    "    @show ex\n",
    "    return nothing\n",
    "end"
   ]
  },
  {
   "cell_type": "code",
   "execution_count": 87,
   "id": "46504bd2-4519-46e4-96b8-532c157cc630",
   "metadata": {},
   "outputs": [
    {
     "ename": "LoadError",
     "evalue": "LoadError: MethodError: no method matching var\"@simple\"(::LineNumberNode, ::Module, ::Symbol, ::Symbol)\n\u001b[0mClosest candidates are:\n\u001b[0m  var\"@simple\"(::LineNumberNode, ::Module, ::Any) at In[86]:1\nin expression starting at In[87]:1",
     "output_type": "error",
     "traceback": [
      "LoadError: MethodError: no method matching var\"@simple\"(::LineNumberNode, ::Module, ::Symbol, ::Symbol)\n\u001b[0mClosest candidates are:\n\u001b[0m  var\"@simple\"(::LineNumberNode, ::Module, ::Any) at In[86]:1\nin expression starting at In[87]:1",
      "",
      "Stacktrace:",
      " [1] eval",
      "   @ ./boot.jl:360 [inlined]",
      " [2] include_string(mapexpr::typeof(REPL.softscope), mod::Module, code::String, filename::String)",
      "   @ Base ./loading.jl:1116"
     ]
    }
   ],
   "source": [
    "@simple x y"
   ]
  },
  {
   "cell_type": "markdown",
   "id": "a04c020c-d508-4ef0-a567-4a113562b2db",
   "metadata": {},
   "source": [
    "This cryptic error message is telling us that there is no method for the `@simple` macro with *two* arguments (the `::Symbol, ::Symbol`) at the end of the `MethodError`). We need to define a method that can receive two arguments:"
   ]
  },
  {
   "cell_type": "code",
   "execution_count": 88,
   "id": "ea618294-928f-4bcc-a51b-f16a945e78b8",
   "metadata": {},
   "outputs": [
    {
     "data": {
      "text/plain": [
       "@simple (macro with 2 methods)"
      ]
     },
     "execution_count": 88,
     "metadata": {},
     "output_type": "execute_result"
    }
   ],
   "source": [
    "macro simple(ex1, ex2)\n",
    "    @show ex1, ex2\n",
    "    return nothing\n",
    "end"
   ]
  },
  {
   "cell_type": "code",
   "execution_count": 89,
   "id": "a2f2437f-084e-4e34-bece-987cab573985",
   "metadata": {},
   "outputs": [
    {
     "name": "stdout",
     "output_type": "stream",
     "text": [
      "(ex1, ex2) = (:x, :y)\n"
     ]
    }
   ],
   "source": [
    "@simple x y"
   ]
  },
  {
   "cell_type": "markdown",
   "id": "3a33ad9f-5497-4740-a75e-9dc43b68b6c8",
   "metadata": {},
   "source": [
    "In general we could have an arbitrary number of arguments; we should pass each through to the `_var` function:`"
   ]
  },
  {
   "cell_type": "code",
   "execution_count": 92,
   "id": "8345b718-bef1-4e24-9c98-f94055c96791",
   "metadata": {},
   "outputs": [
    {
     "data": {
      "text/plain": [
       "@var (macro with 2 methods)"
      ]
     },
     "execution_count": 92,
     "metadata": {},
     "output_type": "execute_result"
    }
   ],
   "source": [
    "macro var(exs...)   # varargs (variable number of arguments)\n",
    "    @show exs\n",
    "    \n",
    "    all_code = [_var(ex) for ex in exs]\n",
    "    \n",
    "    @show all_code\n",
    "    \n",
    "    return :nothing\n",
    "        \n",
    "end"
   ]
  },
  {
   "cell_type": "code",
   "execution_count": 93,
   "id": "f376670c-dd57-4a60-9c17-921f6ccd8dc4",
   "metadata": {},
   "outputs": [
    {
     "name": "stdout",
     "output_type": "stream",
     "text": [
      "exs = (:x, :y)\n",
      "all_code = Expr[:($(Expr(:escape, :x)) = Variable(:x)), :($(Expr(:escape, :y)) = Variable(:y))]\n"
     ]
    }
   ],
   "source": [
    "@var x y"
   ]
  },
  {
   "cell_type": "markdown",
   "id": "0379d069-cf91-41b5-8610-534605dba4bf",
   "metadata": {},
   "source": [
    "Now we need to combine that code into a single code block:"
   ]
  },
  {
   "cell_type": "code",
   "execution_count": 94,
   "id": "8a881afa-47fa-4119-9175-56fb2414e5ba",
   "metadata": {},
   "outputs": [
    {
     "data": {
      "text/plain": [
       "@var (macro with 2 methods)"
      ]
     },
     "execution_count": 94,
     "metadata": {},
     "output_type": "execute_result"
    }
   ],
   "source": [
    "macro var(exs...)\n",
    "    all_code = quote end  # empty block\n",
    "    \n",
    "    all_code.args = reduce(vcat, _var(ex) for ex in exs)\n",
    "    \n",
    "   #  @show all_code\n",
    "    \n",
    "    # return :nothing\n",
    "    \n",
    "    return all_code\n",
    "        \n",
    "end"
   ]
  },
  {
   "cell_type": "code",
   "execution_count": 97,
   "id": "aafb6dba-f5ef-4d44-9af0-a35bfe54b0f3",
   "metadata": {},
   "outputs": [
    {
     "data": {
      "text/plain": [
       "quote\n",
       "    x = Main.Variable(:x)\n",
       "    y = Main.Variable(:y)\n",
       "end"
      ]
     },
     "execution_count": 97,
     "metadata": {},
     "output_type": "execute_result"
    }
   ],
   "source": [
    "@macroexpand @var x y"
   ]
  },
  {
   "cell_type": "markdown",
   "id": "e492eba9-8aa7-49be-8851-1d38c62c3308",
   "metadata": {},
   "source": [
    "### Exercise: \n",
    "\n",
    "Rewrite the code so that a list of all the generated variables is returned."
   ]
  },
  {
   "cell_type": "code",
   "execution_count": 99,
   "id": "6fbb26b3-3317-4c00-84c0-df5ccf1a241e",
   "metadata": {},
   "outputs": [
    {
     "name": "stderr",
     "output_type": "stream",
     "text": [
      "WARNING: using Symbolics.Variable in module Main conflicts with an existing identifier.\n"
     ]
    }
   ],
   "source": [
    "using Symbolics"
   ]
  },
  {
   "cell_type": "code",
   "execution_count": 101,
   "id": "f1b0b199-0f9f-457d-b599-b5929cdf67bd",
   "metadata": {},
   "outputs": [
    {
     "data": {
      "text/latex": [
       "\\begin{equation}\n",
       "\\left[\n",
       "\\begin{array}{c}\n",
       "x \\\\\n",
       "y \\\\\n",
       "\\end{array}\n",
       "\\right]\n",
       "\\end{equation}\n"
      ],
      "text/plain": [
       "2-element Vector{Num}:\n",
       " x\n",
       " y"
      ]
     },
     "execution_count": 101,
     "metadata": {},
     "output_type": "execute_result"
    }
   ],
   "source": [
    "result = @variables x, y"
   ]
  },
  {
   "cell_type": "code",
   "execution_count": 102,
   "id": "70d0b37f-811b-4e5d-8514-c31996f620ec",
   "metadata": {},
   "outputs": [
    {
     "data": {
      "text/plain": [
       "Vector{Num} (alias for Array{Num, 1})"
      ]
     },
     "execution_count": 102,
     "metadata": {},
     "output_type": "execute_result"
    }
   ],
   "source": [
    "typeof(result)"
   ]
  },
  {
   "cell_type": "code",
   "execution_count": null,
   "id": "f675b74d-8546-4b21-8f5f-98de5d305942",
   "metadata": {},
   "outputs": [],
   "source": []
  },
  {
   "cell_type": "code",
   "execution_count": 159,
   "id": "79797e73-4f71-4384-abab-76cc759b95c2",
   "metadata": {},
   "outputs": [
    {
     "data": {
      "text/plain": [
       "t"
      ]
     },
     "execution_count": 159,
     "metadata": {},
     "output_type": "execute_result"
    }
   ],
   "source": [
    "@var w t"
   ]
  },
  {
   "cell_type": "code",
   "execution_count": 160,
   "id": "3c1a8120-d50d-4efe-9fe6-22030b571a6f",
   "metadata": {},
   "outputs": [
    {
     "data": {
      "text/plain": [
       "t"
      ]
     },
     "execution_count": 160,
     "metadata": {},
     "output_type": "execute_result"
    }
   ],
   "source": [
    "t"
   ]
  },
  {
   "cell_type": "code",
   "execution_count": 161,
   "id": "45458668-5cdb-4a9b-aaa9-882e142786db",
   "metadata": {},
   "outputs": [
    {
     "data": {
      "text/plain": [
       "w"
      ]
     },
     "execution_count": 161,
     "metadata": {},
     "output_type": "execute_result"
    }
   ],
   "source": [
    "w"
   ]
  },
  {
   "cell_type": "markdown",
   "id": "692d61ac-f2fc-428a-9e08-80ef4e58f1ac",
   "metadata": {},
   "source": [
    "## Vectors of variables"
   ]
  },
  {
   "cell_type": "markdown",
   "id": "9396b3c1-edeb-4405-bb1c-bf92932362d5",
   "metadata": {},
   "source": [
    "Finally let's suppose we want to allow `@var x[1:10]` to make variables called `x1`, ..., `x10`."
   ]
  },
  {
   "cell_type": "markdown",
   "id": "60656ac5-0afe-4f94-9a1d-d0f480a5d11e",
   "metadata": {},
   "source": [
    "The first thing to do is to work out how Julia stores `x[1:10]` as an expression:"
   ]
  },
  {
   "cell_type": "code",
   "execution_count": 111,
   "id": "bd6a7ed1-78c9-4136-b9dd-733ef98c08d9",
   "metadata": {},
   "outputs": [
    {
     "data": {
      "text/latex": [
       "\\begin{equation}\n",
       "\\left[\n",
       "\\begin{array}{c}\n",
       "x{_1} \\\\\n",
       "x{_2} \\\\\n",
       "x{_3} \\\\\n",
       "x{_4} \\\\\n",
       "x{_5} \\\\\n",
       "\\end{array}\n",
       "\\right]\n",
       "\\end{equation}\n"
      ],
      "text/plain": [
       "5-element Vector{Num}:\n",
       " x₁\n",
       " x₂\n",
       " x₃\n",
       " x₄\n",
       " x₅"
      ]
     },
     "execution_count": 111,
     "metadata": {},
     "output_type": "execute_result"
    }
   ],
   "source": [
    "x = [Num(Symbolics.Sym{Real}(:x, i)) for i in 1:5]"
   ]
  },
  {
   "cell_type": "code",
   "execution_count": 107,
   "id": "eab7f232-94da-4893-b6cd-1fce3d2c8adf",
   "metadata": {},
   "outputs": [
    {
     "data": {
      "text/plain": [
       "x[1:5]"
      ]
     },
     "execution_count": 107,
     "metadata": {},
     "output_type": "execute_result"
    }
   ],
   "source": [
    "vars = @variables x[1:5]\n",
    "vars = vars[1]"
   ]
  },
  {
   "cell_type": "code",
   "execution_count": 108,
   "id": "dc0c1af6-5a6d-439a-8c71-dac89f8df9ab",
   "metadata": {},
   "outputs": [
    {
     "data": {
      "text/latex": [
       "\\begin{equation}\n",
       "\\left[\n",
       "\\begin{array}{c}\n",
       "x{_1} \\\\\n",
       "x{_2} \\\\\n",
       "x{_3} \\\\\n",
       "x{_4} \\\\\n",
       "x{_5} \\\\\n",
       "\\end{array}\n",
       "\\right]\n",
       "\\end{equation}\n"
      ],
      "text/plain": [
       "5-element Vector{Num}:\n",
       " x[1]\n",
       " x[2]\n",
       " x[3]\n",
       " x[4]\n",
       " x[5]"
      ]
     },
     "execution_count": 108,
     "metadata": {},
     "output_type": "execute_result"
    }
   ],
   "source": [
    "collect(vars)"
   ]
  },
  {
   "cell_type": "code",
   "execution_count": 162,
   "id": "823a50f1-df10-44a8-b695-ee3f782acd8c",
   "metadata": {},
   "outputs": [
    {
     "data": {
      "text/plain": [
       ":(x[1:10])"
      ]
     },
     "execution_count": 162,
     "metadata": {},
     "output_type": "execute_result"
    }
   ],
   "source": [
    "Meta.parse(\"x[1:10]\")"
   ]
  },
  {
   "cell_type": "code",
   "execution_count": 163,
   "id": "f7872bd7-1bd3-4ca4-93a6-60d9cbf94bc5",
   "metadata": {},
   "outputs": [
    {
     "name": "stdout",
     "output_type": "stream",
     "text": [
      "Expr\n",
      "  head: Symbol ref\n",
      "  args: Array{Any}((2,))\n",
      "    1: Symbol x\n",
      "    2: Expr\n",
      "      head: Symbol call\n",
      "      args: Array{Any}((3,))\n",
      "        1: Symbol :\n",
      "        2: Int64 1\n",
      "        3: Int64 10\n"
     ]
    }
   ],
   "source": [
    "dump(ans)"
   ]
  },
  {
   "cell_type": "markdown",
   "id": "55633e06-74bc-40d4-8702-1df62f716bb9",
   "metadata": {},
   "source": [
    "We see that the answer is that the `head` of the `Expr` is `ref`."
   ]
  },
  {
   "cell_type": "markdown",
   "id": "6682b4eb-3246-4edf-91d7-c968f699cdf3",
   "metadata": {},
   "source": [
    "## Exercise\n",
    "\n",
    "1. Write a function to deal with this case and generate the variables\n",
    "\n",
    "2. Modify the macro to do so"
   ]
  },
  {
   "cell_type": "markdown",
   "id": "2427009c-b80d-45ee-88ec-f337fadd72a7",
   "metadata": {},
   "source": [
    "## Extra trick:"
   ]
  },
  {
   "cell_type": "markdown",
   "id": "33c24c33-f262-4174-bc4f-8602b13d28e1",
   "metadata": {},
   "source": [
    "Thanks to Simeon Schaub for the following trick: \n",
    "\n",
    "You can call a macro in the following way to get back the expression:"
   ]
  },
  {
   "cell_type": "code",
   "execution_count": 166,
   "id": "75a5b8a6-be40-4720-9f26-7fa2ad94428e",
   "metadata": {},
   "outputs": [
    {
     "name": "stdout",
     "output_type": "stream",
     "text": [
      "(ex1, ex2) = (x, y)\n"
     ]
    }
   ],
   "source": [
    "var\"@simple\"(LineNumberNode(3), Main, x, y)"
   ]
  }
 ],
 "metadata": {
  "kernelspec": {
   "display_name": "Julia 1.6.2",
   "language": "julia",
   "name": "julia-1.6"
  },
  "language_info": {
   "file_extension": ".jl",
   "mimetype": "application/julia",
   "name": "julia",
   "version": "1.6.2"
  }
 },
 "nbformat": 4,
 "nbformat_minor": 5
}
