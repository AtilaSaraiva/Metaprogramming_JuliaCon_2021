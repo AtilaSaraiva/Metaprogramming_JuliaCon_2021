{
 "cells": [
  {
   "cell_type": "markdown",
   "id": "edf50b87-f1f4-41bd-a08d-2729bc1facee",
   "metadata": {},
   "source": [
    "# The structure of code"
   ]
  },
  {
   "cell_type": "markdown",
   "id": "df2990ff-dcaf-43bc-9c5a-c294e8aa2033",
   "metadata": {},
   "source": [
    "One somewhat unusual feature of Julia (originating from its Lisp heritage) is that it allows us to talk *about* Julia code &ndash; from within Julia itself!\n",
    "\n",
    "This is sometimes called \"homo-iconicity\".\n",
    "\n",
    "That is, we can capture a piece of Julia code into a Julia object, which we can then inspect and *modify*.\n",
    "\n",
    "Once we have the modified code, we can then evaluate it.\n"
   ]
  },
  {
   "cell_type": "markdown",
   "id": "98440356-aec0-4c5f-a2b4-54538815fea1",
   "metadata": {},
   "source": [
    "An easy way to create a piece of code is by **parsing** a string, i.e. interpreting the string as Julia code and returning a Julia object that represents that piece of code. Nonetheless, in the future we will prefer, when possilbe, to create Julia objects directly, rather than from strings, since strings are \"opaque objects\" that Julia does not understand."
   ]
  },
  {
   "cell_type": "markdown",
   "id": "844e6bec-f90a-4969-81db-12bb74f64b48",
   "metadata": {},
   "source": [
    "## Exercise\n",
    "\n",
    "1. Define a variable `code` to be the result of parsing the string `\"j = i^2\"` using the function `Meta.parse`.\n",
    "\n",
    "\n",
    "2. What type is the object `code`? Note that `code` is just a normal Julia variable, of a particular special type.\n",
    "\n",
    "\n",
    "3. Use the `dump` function to see what there is inside `code`. \n",
    "Remembering that `code` is just a particular kind of Julia object, use the Julia to play around interactively, seeing how you can extract pieces of the `code` object.\n",
    "\n",
    "\n",
    "4. How is the operation `i^2` represented? What kind of object is that subpiece?\n",
    "\n",
    "\n",
    "5. Copy `code` into a variable `code2`. *Modify* this to replace the power `2` with a power `3`. Make sure that the original `code` variable is *not* also modified.\n",
    "\n",
    "\n",
    "6. Copy `code2` to a variable `code3`. Replace `i` with `i + 1` in `code3`.\n",
    "\n",
    "\n",
    "7. Define a variable `i` with the value `4`. *Evaluate* the different `code` expressions using the `eval` function and check the *value* of the variable `j`.\n"
   ]
  },
  {
   "cell_type": "code",
   "execution_count": 2,
   "id": "b61135d8-5e60-46d5-a1cf-bb7c257a6d32",
   "metadata": {},
   "outputs": [
    {
     "data": {
      "text/plain": [
       ":(j = i ^ 2)"
      ]
     },
     "execution_count": 2,
     "metadata": {},
     "output_type": "execute_result"
    }
   ],
   "source": [
    "code = Meta.parse(\"j = i^2\")"
   ]
  },
  {
   "cell_type": "code",
   "execution_count": 3,
   "id": "3372efa8-0dc5-40d4-a31a-a05c25a14334",
   "metadata": {},
   "outputs": [
    {
     "data": {
      "text/plain": [
       "Expr"
      ]
     },
     "execution_count": 3,
     "metadata": {},
     "output_type": "execute_result"
    }
   ],
   "source": [
    "typeof(code)"
   ]
  },
  {
   "cell_type": "code",
   "execution_count": 4,
   "id": "91a2f48f-fcbf-4f1b-aecf-e39910e4aa54",
   "metadata": {},
   "outputs": [
    {
     "name": "stdout",
     "output_type": "stream",
     "text": [
      "Expr\n",
      "  head: Symbol =\n",
      "  args: Array{Any}((2,))\n",
      "    1: Symbol j\n",
      "    2: Expr\n",
      "      head: Symbol call\n",
      "      args: Array{Any}((3,))\n",
      "        1: Symbol ^\n",
      "        2: Symbol i\n",
      "        3: Int64 2\n"
     ]
    }
   ],
   "source": [
    "dump(code)"
   ]
  },
  {
   "cell_type": "code",
   "execution_count": 5,
   "id": "5397b5f0-1839-46e4-8b6b-80c3163d69de",
   "metadata": {},
   "outputs": [
    {
     "data": {
      "text/plain": [
       ":(=)"
      ]
     },
     "execution_count": 5,
     "metadata": {},
     "output_type": "execute_result"
    }
   ],
   "source": [
    "code.head"
   ]
  },
  {
   "cell_type": "code",
   "execution_count": 6,
   "id": "ac5e69af-d485-4495-975f-0b8048f8ee87",
   "metadata": {},
   "outputs": [
    {
     "data": {
      "text/plain": [
       "2-element Vector{Any}:\n",
       " :j\n",
       " :(i ^ 2)"
      ]
     },
     "execution_count": 6,
     "metadata": {},
     "output_type": "execute_result"
    }
   ],
   "source": [
    "code.args"
   ]
  },
  {
   "cell_type": "code",
   "execution_count": 7,
   "id": "79814c12-8c5c-4098-a757-11ad6f2b0dbe",
   "metadata": {},
   "outputs": [
    {
     "name": "stdout",
     "output_type": "stream",
     "text": [
      "Expr\n",
      "  head: Symbol call\n",
      "  args: Array{Any}((3,))\n",
      "    1: Symbol ^\n",
      "    2: Symbol i\n",
      "    3: Int64 2\n"
     ]
    }
   ],
   "source": [
    "dump(code.args[2])"
   ]
  },
  {
   "cell_type": "code",
   "execution_count": 8,
   "id": "57114c34-db71-4087-9ea2-78c092641ec9",
   "metadata": {},
   "outputs": [
    {
     "data": {
      "text/plain": [
       ":(j = i ^ 2)"
      ]
     },
     "execution_count": 8,
     "metadata": {},
     "output_type": "execute_result"
    }
   ],
   "source": [
    "code2 = copy(code)"
   ]
  },
  {
   "cell_type": "code",
   "execution_count": 11,
   "id": "40c1fd7f-1739-43c6-a5ba-6747282bf767",
   "metadata": {},
   "outputs": [
    {
     "data": {
      "text/plain": [
       ":k"
      ]
     },
     "execution_count": 11,
     "metadata": {},
     "output_type": "execute_result"
    }
   ],
   "source": [
    "code2.args[1] = :k"
   ]
  },
  {
   "cell_type": "code",
   "execution_count": 12,
   "id": "35d7320d-e993-470f-81c9-a2fc80e95ffc",
   "metadata": {},
   "outputs": [
    {
     "data": {
      "text/plain": [
       ":(k = i ^ 2)"
      ]
     },
     "execution_count": 12,
     "metadata": {},
     "output_type": "execute_result"
    }
   ],
   "source": [
    "code2"
   ]
  },
  {
   "cell_type": "code",
   "execution_count": 13,
   "id": "e08e1e3b-d222-4f63-a7f3-12ac23877918",
   "metadata": {},
   "outputs": [
    {
     "data": {
      "text/plain": [
       ":(j = i ^ 2)"
      ]
     },
     "execution_count": 13,
     "metadata": {},
     "output_type": "execute_result"
    }
   ],
   "source": [
    "code"
   ]
  },
  {
   "cell_type": "code",
   "execution_count": 15,
   "id": "f8204e7d-adb7-4e1b-ae61-3d7e33bf1582",
   "metadata": {},
   "outputs": [
    {
     "data": {
      "text/plain": [
       ":(i ^ 2)"
      ]
     },
     "execution_count": 15,
     "metadata": {},
     "output_type": "execute_result"
    }
   ],
   "source": [
    "piece = code.args[2]"
   ]
  },
  {
   "cell_type": "code",
   "execution_count": 16,
   "id": "0b348114-02b1-4516-8544-5c83a1587151",
   "metadata": {},
   "outputs": [
    {
     "data": {
      "text/plain": [
       ":call"
      ]
     },
     "execution_count": 16,
     "metadata": {},
     "output_type": "execute_result"
    }
   ],
   "source": [
    "piece.head"
   ]
  },
  {
   "cell_type": "code",
   "execution_count": 18,
   "id": "8f475b95-3dca-4240-b665-6876be9e0a7a",
   "metadata": {},
   "outputs": [
    {
     "data": {
      "text/plain": [
       "2"
      ]
     },
     "execution_count": 18,
     "metadata": {},
     "output_type": "execute_result"
    }
   ],
   "source": [
    "piece.args[3]"
   ]
  },
  {
   "cell_type": "code",
   "execution_count": 19,
   "id": "d4e591e8-c19d-428e-9894-4170e671de39",
   "metadata": {},
   "outputs": [
    {
     "data": {
      "text/plain": [
       "3"
      ]
     },
     "execution_count": 19,
     "metadata": {},
     "output_type": "execute_result"
    }
   ],
   "source": [
    "piece.args[3] = 3"
   ]
  },
  {
   "cell_type": "code",
   "execution_count": 20,
   "id": "01159a13-31db-48c3-aaa3-64bd78479646",
   "metadata": {},
   "outputs": [
    {
     "data": {
      "text/plain": [
       ":(i ^ 3)"
      ]
     },
     "execution_count": 20,
     "metadata": {},
     "output_type": "execute_result"
    }
   ],
   "source": [
    "piece"
   ]
  },
  {
   "cell_type": "code",
   "execution_count": 21,
   "id": "e9cdc01b-919c-401d-81c8-00b6dbfe2ccb",
   "metadata": {},
   "outputs": [
    {
     "data": {
      "text/plain": [
       ":(k = i ^ 2)"
      ]
     },
     "execution_count": 21,
     "metadata": {},
     "output_type": "execute_result"
    }
   ],
   "source": [
    "code2"
   ]
  },
  {
   "cell_type": "code",
   "execution_count": 25,
   "id": "2014fa4b-7cf7-44fe-a122-76a82fb65ba0",
   "metadata": {},
   "outputs": [
    {
     "data": {
      "text/plain": [
       "3"
      ]
     },
     "execution_count": 25,
     "metadata": {},
     "output_type": "execute_result"
    }
   ],
   "source": [
    "code2.args[2].args[3] = 3"
   ]
  },
  {
   "cell_type": "code",
   "execution_count": 26,
   "id": "0da307af-6eb6-4610-bb23-d61df5d540b0",
   "metadata": {},
   "outputs": [
    {
     "data": {
      "text/plain": [
       ":(k = i ^ 3)"
      ]
     },
     "execution_count": 26,
     "metadata": {},
     "output_type": "execute_result"
    }
   ],
   "source": [
    "code2"
   ]
  },
  {
   "cell_type": "markdown",
   "id": "4c9278d3-0d4d-40b5-9a5c-e87ad380fe38",
   "metadata": {},
   "source": [
    "## Solution to the exercise:"
   ]
  },
  {
   "cell_type": "code",
   "execution_count": null,
   "id": "44b93d9a-13b4-4392-87bd-c7e366ee134a",
   "metadata": {},
   "outputs": [],
   "source": []
  },
  {
   "cell_type": "markdown",
   "id": "65d9b912-bfb0-4aea-9bd2-924e0b4d1b13",
   "metadata": {},
   "source": [
    "## Symbols"
   ]
  },
  {
   "cell_type": "markdown",
   "id": "1521c3bf-017e-4472-82a9-a2d6ad3156c4",
   "metadata": {},
   "source": [
    "Let's think about what code looks like. It's made up of characters joined into words,\n",
    "plus certain types of punctuation, for example\n",
    "\n",
    "\n",
    "```\n",
    "function f() \n",
    "    ...\n",
    "end\n",
    "```\n",
    "\n",
    "and\n",
    "\n",
    "```\n",
    "for \n",
    "    ...\n",
    "end\n",
    "```\n",
    "\n",
    "and \n",
    "\n",
    "```\n",
    "z = x + y\n",
    "result = first + second\n",
    "```\n",
    "\n",
    "The smallest building blocks, or atoms, of code are variable names like `x` and `first`, and other symbols like `+`.\n",
    "Julia calls all of these names `Symbol`s."
   ]
  },
  {
   "cell_type": "markdown",
   "id": "d66f126e-efd6-4678-9544-d2d51042cdf2",
   "metadata": {},
   "source": [
    "When you type `+` or `x` in the REPL, Julia immediately tries to *evaluate* the result: it treats\n",
    "`+` or `x` as a *name* or *binding* that points to an object, and it tries to return the object itself.\n",
    "\n",
    "For metaprogramming, we instead need a way to talk just about \"the *unevaluated* piece of code consisting of the name `x`\". We write this using a colon, `:`, e.g.\n",
    "`:x` and `:+` : "
   ]
  },
  {
   "cell_type": "code",
   "execution_count": 27,
   "id": "810b790a-5a3b-4dda-ba04-26674d9b7920",
   "metadata": {},
   "outputs": [
    {
     "data": {
      "text/plain": [
       "+ (generic function with 190 methods)"
      ]
     },
     "execution_count": 27,
     "metadata": {},
     "output_type": "execute_result"
    }
   ],
   "source": [
    "+"
   ]
  },
  {
   "cell_type": "code",
   "execution_count": 29,
   "id": "22a151ce-cb01-40f7-bc40-dd1313648983",
   "metadata": {},
   "outputs": [
    {
     "data": {
      "text/plain": [
       ":+"
      ]
     },
     "execution_count": 29,
     "metadata": {},
     "output_type": "execute_result"
    }
   ],
   "source": [
    ":+  # the unevaluated piece of code \"+\""
   ]
  },
  {
   "cell_type": "code",
   "execution_count": 1,
   "id": "44a442b8-b8be-4d4f-8aed-96f92ae72023",
   "metadata": {},
   "outputs": [
    {
     "data": {
      "text/plain": [
       ":x"
      ]
     },
     "execution_count": 1,
     "metadata": {},
     "output_type": "execute_result"
    }
   ],
   "source": [
    "s = :x"
   ]
  },
  {
   "cell_type": "code",
   "execution_count": 30,
   "id": "b0c3c5df-e399-4c6e-9c37-22739bbafc86",
   "metadata": {},
   "outputs": [
    {
     "data": {
      "text/plain": [
       ":x"
      ]
     },
     "execution_count": 30,
     "metadata": {},
     "output_type": "execute_result"
    }
   ],
   "source": [
    "Symbol(\"x\")"
   ]
  },
  {
   "cell_type": "code",
   "execution_count": 2,
   "id": "0efc7d4e-4406-4feb-9f36-a517f0febeba",
   "metadata": {},
   "outputs": [
    {
     "data": {
      "text/plain": [
       "Symbol"
      ]
     },
     "execution_count": 2,
     "metadata": {},
     "output_type": "execute_result"
    }
   ],
   "source": [
    "typeof(s)"
   ]
  },
  {
   "cell_type": "markdown",
   "id": "336a3516-7123-4c89-9f49-0cfb3744d878",
   "metadata": {},
   "source": [
    "We can think of `:hello`, for example, as a way to talk about a possible variable called `hello`, without evaluating it. "
   ]
  },
  {
   "cell_type": "markdown",
   "id": "68405632-cf70-4748-8a25-8d79c8dd0f87",
   "metadata": {},
   "source": [
    "## Expressions"
   ]
  },
  {
   "cell_type": "markdown",
   "id": "1a0b54e3-7364-486c-8972-d9ccd9970eab",
   "metadata": {},
   "source": [
    "Anything more complicated than a single symbol is an **expression**, for example `x + y`, which means\n",
    "\"call the function named `+` on the objects named `x` and `y`\".  (This is equivalent to writing `+(x, y)` in Julia.)\n",
    "\n",
    "We can talk about the piece of code \"`x + y`\" without evaluating it by **quoting** it, again using a colon:\n",
    "\n",
    "`:(x + y)`\n",
    "\n",
    "Let's give that a name. We will use `ex` for `expression`:"
   ]
  },
  {
   "cell_type": "code",
   "execution_count": 31,
   "id": "b7371d27-aa71-4aec-a883-6b723b132fc7",
   "metadata": {},
   "outputs": [
    {
     "data": {
      "text/plain": [
       ":(x + y)"
      ]
     },
     "execution_count": 31,
     "metadata": {},
     "output_type": "execute_result"
    }
   ],
   "source": [
    "ex = :( x + y )"
   ]
  },
  {
   "cell_type": "code",
   "execution_count": 32,
   "id": "d25ecd24-5ccb-42cc-9a36-23cdb3649b3b",
   "metadata": {},
   "outputs": [
    {
     "data": {
      "text/plain": [
       ":(x + y)"
      ]
     },
     "execution_count": 32,
     "metadata": {},
     "output_type": "execute_result"
    }
   ],
   "source": [
    "ex"
   ]
  },
  {
   "cell_type": "markdown",
   "id": "9cd58d82-28ba-4545-86f0-8c51fd9ecdaf",
   "metadata": {},
   "source": [
    "In words we are telling Julia something like: \"Please define a new variable, called `ex`, whose value is bound to the unevaluated piece of code `x + y`.\n",
    "\n",
    "Note that if we just type `x + y` into the REPL, again Julia will immediately try to evaluate this by looking up the values that are bound to the variable names `x` and `y`. But we haven't yet defined variables called `x` and `y`, so this will error.\n",
    "\n",
    "However, there is no such problem with talking about \"the piece of code `x + y`\" &ndash; here, `x` and `y` are just symbols."
   ]
  },
  {
   "cell_type": "code",
   "execution_count": 33,
   "id": "ec8016a8-af35-4a21-b8c5-99aa84f4e73c",
   "metadata": {},
   "outputs": [
    {
     "ename": "LoadError",
     "evalue": "UndefVarError: x not defined",
     "output_type": "error",
     "traceback": [
      "UndefVarError: x not defined",
      "",
      "Stacktrace:",
      " [1] top-level scope",
      "   @ In[33]:1",
      " [2] eval",
      "   @ ./boot.jl:360 [inlined]",
      " [3] include_string(mapexpr::typeof(REPL.softscope), mod::Module, code::String, filename::String)",
      "   @ Base ./loading.jl:1116"
     ]
    }
   ],
   "source": [
    "x + y"
   ]
  },
  {
   "cell_type": "markdown",
   "id": "e2667a5b-99d4-49d7-82de-d3b9923be3d0",
   "metadata": {},
   "source": [
    "## The `Expr` type and the structure of expressions"
   ]
  },
  {
   "cell_type": "markdown",
   "id": "93de9f6d-8356-40d1-8b14-ec7daf97dd4b",
   "metadata": {},
   "source": [
    "We now have a Julia object with the name `ex` that is referring to an unevaluated piece of Julia code, `x + y`. \n",
    "Let's use Julia's great introspection tools to look inside this object and see how it's formed!"
   ]
  },
  {
   "cell_type": "markdown",
   "id": "65dc7f6f-96a1-4b19-ab66-30708839181b",
   "metadata": {},
   "source": [
    "Firstly let's look at its type:"
   ]
  },
  {
   "cell_type": "code",
   "execution_count": 34,
   "id": "a7a21926-1159-4e56-b0e8-d590a7eac952",
   "metadata": {},
   "outputs": [
    {
     "data": {
      "text/plain": [
       "Expr"
      ]
     },
     "execution_count": 34,
     "metadata": {},
     "output_type": "execute_result"
    }
   ],
   "source": [
    "ex = :(x + y)\n",
    "\n",
    "typeof(ex)"
   ]
  },
  {
   "cell_type": "markdown",
   "id": "e78af1e2-b361-485e-b01d-89e62604a287",
   "metadata": {},
   "source": [
    "`Expr` is a type representing any Julia expression that is more complicated than a single symbol.\n",
    "    \n",
    "How is the sum represented? Let's find out using `dump`:"
   ]
  },
  {
   "cell_type": "code",
   "execution_count": 7,
   "id": "d7b5a28e-c711-4013-bc9b-c3edd4b2110d",
   "metadata": {},
   "outputs": [
    {
     "name": "stdout",
     "output_type": "stream",
     "text": [
      "Expr\n",
      "  head: Symbol call\n",
      "  args: Array{Any}((3,))\n",
      "    1: Symbol +\n",
      "    2: Symbol x\n",
      "    3: Symbol y\n"
     ]
    }
   ],
   "source": [
    "dump(ex)"
   ]
  },
  {
   "cell_type": "code",
   "execution_count": 35,
   "id": "e666f11f-0e4f-4f49-9010-a0a1fd4ee7bc",
   "metadata": {},
   "outputs": [
    {
     "data": {
      "text/plain": [
       ":call"
      ]
     },
     "execution_count": 35,
     "metadata": {},
     "output_type": "execute_result"
    }
   ],
   "source": [
    "ex.head"
   ]
  },
  {
   "cell_type": "code",
   "execution_count": 36,
   "id": "38becccb-6719-4a51-880b-1fd437dbbe58",
   "metadata": {},
   "outputs": [
    {
     "data": {
      "text/plain": [
       ":(x + y)"
      ]
     },
     "execution_count": 36,
     "metadata": {},
     "output_type": "execute_result"
    }
   ],
   "source": [
    ":(x + y)"
   ]
  },
  {
   "cell_type": "code",
   "execution_count": 37,
   "id": "14c0783f-2324-4f9d-b19e-14b39c7da814",
   "metadata": {},
   "outputs": [
    {
     "data": {
      "text/plain": [
       ":(x + y)"
      ]
     },
     "execution_count": 37,
     "metadata": {},
     "output_type": "execute_result"
    }
   ],
   "source": [
    ":(+(x, y))"
   ]
  },
  {
   "cell_type": "markdown",
   "id": "fee0cf14-cd4d-42f1-bcba-e16eb4820669",
   "metadata": {},
   "source": [
    "We can think of this as `call(+, x, y)` (*not* Julia syntax)"
   ]
  },
  {
   "cell_type": "code",
   "execution_count": 38,
   "id": "dc011896-453b-4dd0-a772-db57d8ef389d",
   "metadata": {},
   "outputs": [
    {
     "name": "stdout",
     "output_type": "stream",
     "text": [
      "(:call, :+, :x, :y)"
     ]
    }
   ],
   "source": [
    "Meta.show_sexpr(:(x + y))"
   ]
  },
  {
   "cell_type": "markdown",
   "id": "288408b7-4615-4c5a-9316-f8c37a58bcb2",
   "metadata": {},
   "source": [
    "Alternatively we can use `ex.<TAB>` interactively, or `propertynames(ex)` programatically, to expression object's attributes:"
   ]
  },
  {
   "cell_type": "code",
   "execution_count": 9,
   "id": "3de66f99-356a-4699-8786-42b989a31318",
   "metadata": {},
   "outputs": [
    {
     "data": {
      "text/plain": [
       "(:head, :args)"
      ]
     },
     "execution_count": 9,
     "metadata": {},
     "output_type": "execute_result"
    }
   ],
   "source": [
    "propertynames(ex)"
   ]
  },
  {
   "cell_type": "markdown",
   "id": "fd20fa8a-9198-4d5b-9e7d-4df30367be91",
   "metadata": {},
   "source": [
    "We see that this expression (and, in fact, *any* expression!) consists of two pieces: a `head` and a collection of `args`, i.e. **arguments**."
   ]
  },
  {
   "cell_type": "code",
   "execution_count": 11,
   "id": "564d7921-43da-428e-94d9-2281ce6f719a",
   "metadata": {},
   "outputs": [
    {
     "data": {
      "text/plain": [
       ":call"
      ]
     },
     "execution_count": 11,
     "metadata": {},
     "output_type": "execute_result"
    }
   ],
   "source": [
    "ex.head"
   ]
  },
  {
   "cell_type": "markdown",
   "id": "b3a21ac3-ecce-4952-905c-8ec4d92fc968",
   "metadata": {},
   "source": [
    "In this case, the `head` is `:call`, which tells us that this piece of code is a **function call**. "
   ]
  },
  {
   "cell_type": "code",
   "execution_count": 12,
   "id": "ad3ef4d7-b2ad-40ce-b8c4-cbd1fb3ddd84",
   "metadata": {},
   "outputs": [
    {
     "data": {
      "text/plain": [
       "3-element Vector{Any}:\n",
       " :+\n",
       " :x\n",
       " :y"
      ]
     },
     "execution_count": 12,
     "metadata": {},
     "output_type": "execute_result"
    }
   ],
   "source": [
    "ex.args"
   ]
  },
  {
   "cell_type": "markdown",
   "id": "8ff6d543-b31d-46ed-85c4-2ff395348989",
   "metadata": {},
   "source": [
    "The arguments show us the pieces of the function call: the function to be called corresponds to the symbol `:+`, and that function is called on the objects \n",
    "corresponding to the symbols `:x` and `:y`."
   ]
  },
  {
   "cell_type": "markdown",
   "id": "f645ae96-0688-4fdd-b983-03bae68baac4",
   "metadata": {},
   "source": [
    "Note that the type of `args` is a vector of `Any`. This is because we can have things other than symbols as an argument, e.g."
   ]
  },
  {
   "cell_type": "code",
   "execution_count": 2,
   "id": "1920c6dd-08b1-4987-acd5-a1b9f0bce505",
   "metadata": {},
   "outputs": [
    {
     "name": "stdout",
     "output_type": "stream",
     "text": [
      "Expr\n",
      "  head: Symbol call\n",
      "  args: Array{Any}((3,))\n",
      "    1: Symbol +\n",
      "    2: Symbol x\n",
      "    3: Int64 1\n"
     ]
    }
   ],
   "source": [
    "dump( :(x + 1) )"
   ]
  },
  {
   "cell_type": "code",
   "execution_count": 39,
   "id": "7559ec03-4844-4fb3-82f9-fe6626a3f3f4",
   "metadata": {},
   "outputs": [
    {
     "data": {
      "text/plain": [
       "Vector{Any} (alias for Array{Any, 1})"
      ]
     },
     "execution_count": 39,
     "metadata": {},
     "output_type": "execute_result"
    }
   ],
   "source": [
    "typeof(ex.args)"
   ]
  },
  {
   "cell_type": "markdown",
   "id": "02723826-187b-457a-9cd3-e23680b624c2",
   "metadata": {},
   "source": [
    "## Creating code from scratch"
   ]
  },
  {
   "cell_type": "markdown",
   "id": "232bb717-a99c-4297-8880-ec911b63a03d",
   "metadata": {},
   "source": [
    "Since `Expr` is just a standard Julia type, we can create objects of that type in the standard way, namely by calling the **constructor** function of the type. The constructor for `Expr` just accepts a tuple of its arguments, starting with `head` and following with a list of arguments, e.g."
   ]
  },
  {
   "cell_type": "code",
   "execution_count": 16,
   "id": "02a6de8e-835f-49fd-8961-c6533c4dd598",
   "metadata": {},
   "outputs": [
    {
     "data": {
      "text/plain": [
       ":(x + y)"
      ]
     },
     "execution_count": 16,
     "metadata": {},
     "output_type": "execute_result"
    }
   ],
   "source": [
    "Expr(:call, :+, :x, :y)"
   ]
  },
  {
   "cell_type": "code",
   "execution_count": 41,
   "id": "ff04390a-4364-481e-936a-42ed53323ed1",
   "metadata": {},
   "outputs": [
    {
     "name": "stdout",
     "output_type": "stream",
     "text": [
      "Expr\n",
      "  head: Symbol call\n",
      "  args: Array{Any}((3,))\n",
      "    1: Symbol +\n",
      "    2: Symbol x\n",
      "    3: Symbol y\n"
     ]
    }
   ],
   "source": [
    "result = dump(ex)"
   ]
  },
  {
   "cell_type": "code",
   "execution_count": 42,
   "id": "30e1095b-e767-44ba-9d6b-94923e7ed3d9",
   "metadata": {},
   "outputs": [],
   "source": [
    "result"
   ]
  },
  {
   "cell_type": "code",
   "execution_count": 43,
   "id": "06e538d3-06db-443f-bea1-169b35309bca",
   "metadata": {},
   "outputs": [
    {
     "data": {
      "text/plain": [
       ":call"
      ]
     },
     "execution_count": 43,
     "metadata": {},
     "output_type": "execute_result"
    }
   ],
   "source": [
    "ex.head"
   ]
  },
  {
   "cell_type": "code",
   "execution_count": 44,
   "id": "8eb32666-445d-4ba7-88d1-99e99e2b354f",
   "metadata": {},
   "outputs": [
    {
     "data": {
      "text/plain": [
       "3-element Vector{Any}:\n",
       " :+\n",
       " :x\n",
       " :y"
      ]
     },
     "execution_count": 44,
     "metadata": {},
     "output_type": "execute_result"
    }
   ],
   "source": [
    "ex.args"
   ]
  },
  {
   "cell_type": "code",
   "execution_count": 46,
   "id": "a7f2fb4c-237b-4ed2-931c-8460d0eeff3f",
   "metadata": {},
   "outputs": [
    {
     "data": {
      "text/plain": [
       ":(x[1])"
      ]
     },
     "execution_count": 46,
     "metadata": {},
     "output_type": "execute_result"
    }
   ],
   "source": [
    "ex2 = Meta.parse(\"x[1]\")"
   ]
  },
  {
   "cell_type": "code",
   "execution_count": 47,
   "id": "30a2c7f3-974f-401d-b593-0bcc729dc29f",
   "metadata": {},
   "outputs": [
    {
     "name": "stdout",
     "output_type": "stream",
     "text": [
      "Expr\n",
      "  head: Symbol ref\n",
      "  args: Array{Any}((2,))\n",
      "    1: Symbol x\n",
      "    2: Int64 1\n"
     ]
    }
   ],
   "source": [
    "dump(ex2)"
   ]
  },
  {
   "cell_type": "code",
   "execution_count": 48,
   "id": "fe12760e-e1ab-4f03-b791-3029cc583ca5",
   "metadata": {},
   "outputs": [
    {
     "data": {
      "text/plain": [
       ":((1, 2, 3))"
      ]
     },
     "execution_count": 48,
     "metadata": {},
     "output_type": "execute_result"
    }
   ],
   "source": [
    "ex3 = Meta.parse(\"(1, 2, 3)\")"
   ]
  },
  {
   "cell_type": "code",
   "execution_count": 49,
   "id": "b7bb6d76-9ff3-4daa-8d0e-f55ab2097504",
   "metadata": {},
   "outputs": [
    {
     "name": "stdout",
     "output_type": "stream",
     "text": [
      "Expr\n",
      "  head: Symbol tuple\n",
      "  args: Array{Any}((3,))\n",
      "    1: Int64 1\n",
      "    2: Int64 2\n",
      "    3: Int64 3\n"
     ]
    }
   ],
   "source": [
    "dump(ex3)"
   ]
  },
  {
   "cell_type": "code",
   "execution_count": 50,
   "id": "98fc3148-2e33-4ab4-92b9-e78f771c26f8",
   "metadata": {},
   "outputs": [
    {
     "data": {
      "text/plain": [
       ":([1, 2])"
      ]
     },
     "execution_count": 50,
     "metadata": {},
     "output_type": "execute_result"
    }
   ],
   "source": [
    "ex4 = Meta.parse(\"[1, 2]\")"
   ]
  },
  {
   "cell_type": "code",
   "execution_count": 51,
   "id": "7ec91f75-a5f6-48f1-9a87-4c8baf4d00cb",
   "metadata": {},
   "outputs": [
    {
     "data": {
      "text/plain": [
       ":vect"
      ]
     },
     "execution_count": 51,
     "metadata": {},
     "output_type": "execute_result"
    }
   ],
   "source": [
    "ex4.head"
   ]
  },
  {
   "cell_type": "code",
   "execution_count": 54,
   "id": "8d9b909b-b08b-413d-b56d-53db6540f31b",
   "metadata": {},
   "outputs": [
    {
     "data": {
      "text/plain": [
       ":comparison"
      ]
     },
     "execution_count": 54,
     "metadata": {},
     "output_type": "execute_result"
    }
   ],
   "source": [
    "ex5 = Meta.parse(\"x ≤ y ≤ z\")\n",
    "ex5.head"
   ]
  },
  {
   "cell_type": "markdown",
   "id": "b53c7153-a0f7-4a1c-b5a4-f809bba690ca",
   "metadata": {},
   "source": [
    "## More complicated expressions"
   ]
  },
  {
   "cell_type": "markdown",
   "id": "0676ace6-e2bd-4f35-9aa5-6b0ba5d5e081",
   "metadata": {},
   "source": [
    "Now let's look at an expression that's a bit more complicated, with *two* operations:"
   ]
  },
  {
   "cell_type": "code",
   "execution_count": 3,
   "id": "bff804f8-dc7d-4e2c-afd1-478cd012eb30",
   "metadata": {},
   "outputs": [
    {
     "data": {
      "text/plain": [
       ":(x + y * z)"
      ]
     },
     "execution_count": 3,
     "metadata": {},
     "output_type": "execute_result"
    }
   ],
   "source": [
    "ex = :(x + y * z)"
   ]
  },
  {
   "cell_type": "markdown",
   "id": "2f91ef8e-4012-420b-8020-e522a2d7d848",
   "metadata": {},
   "source": [
    "How can this expression be represented? Firstly Julia needs to decide *which* operation will be done first: does this mean \n",
    "- `x + (y * z)`, or \n",
    "- `(x + y) * z`.\n",
    "\n",
    "This choice is made by having a table of **operator precedence**; in this particular case, `*` has a higher precedence than `+`, so will be \"bound more tightly\", or done first, so the expression will be interpreted as `x + (y * z)`. Operator precedence is fixed in the parser and cannot be changed (without modifying and recompiling Julia). If you need a different order of operations, use parentheses!"
   ]
  },
  {
   "cell_type": "markdown",
   "id": "be1cd25a-f733-482c-8b6c-94d57b904c42",
   "metadata": {},
   "source": [
    "So how does Julia represent this expression? It will be a sum of two things, `x` and `y * z`. What is `y * z`? Well, we already know that it's... an expression, an object of type `Expr`!"
   ]
  },
  {
   "cell_type": "code",
   "execution_count": null,
   "id": "5977523a-9ce4-42e3-9a87-6fb2208283d0",
   "metadata": {},
   "outputs": [],
   "source": []
  },
  {
   "cell_type": "code",
   "execution_count": 4,
   "id": "fd5a6552-8531-438e-afaf-9769d930e23d",
   "metadata": {},
   "outputs": [
    {
     "name": "stdout",
     "output_type": "stream",
     "text": [
      "Expr\n",
      "  head: Symbol call\n",
      "  args: Array{Any}((3,))\n",
      "    1: Symbol *\n",
      "    2: Symbol y\n",
      "    3: Symbol z\n"
     ]
    }
   ],
   "source": [
    "dump( :(y * z) )"
   ]
  },
  {
   "cell_type": "markdown",
   "id": "4024bb0d-acb0-4624-a7ba-72c8c3974aa1",
   "metadata": {},
   "source": [
    "It has the same overall structure as `:(x + y)`, but the arguments are different."
   ]
  },
  {
   "cell_type": "markdown",
   "id": "2a92fd4d-ca1a-488c-a722-2338a295437b",
   "metadata": {},
   "source": [
    "## Exercise\n",
    "Can you now guess how `:(x + (y * z))` is represented? Try to predict the answer before moving on."
   ]
  },
  {
   "cell_type": "code",
   "execution_count": null,
   "id": "a57ce93a-46ec-4969-8e5f-aee45a5420ce",
   "metadata": {},
   "outputs": [],
   "source": []
  }
 ],
 "metadata": {
  "kernelspec": {
   "display_name": "Julia 1.6.2",
   "language": "julia",
   "name": "julia-1.6"
  },
  "language_info": {
   "file_extension": ".jl",
   "mimetype": "application/julia",
   "name": "julia",
   "version": "1.6.2"
  }
 },
 "nbformat": 4,
 "nbformat_minor": 5
}
