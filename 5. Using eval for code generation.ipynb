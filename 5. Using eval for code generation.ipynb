{
 "cells": [
  {
   "cell_type": "markdown",
   "id": "f9651808-03f0-4b62-9ad7-01e9fba5c180",
   "metadata": {},
   "source": [
    "# Using `eval` for code generation"
   ]
  },
  {
   "cell_type": "markdown",
   "id": "2ec3789f-9583-4eb3-a364-e086b31e747d",
   "metadata": {},
   "source": [
    "## Running (evaluating / executing) pieces of code\n"
   ]
  },
  {
   "cell_type": "markdown",
   "id": "d4e29e75-398d-4a92-b454-52c845de3472",
   "metadata": {},
   "source": [
    "Once we have a piece of code that we have created, e.g. by modifying a previous piece of code or by creating it from scratch, we want to be able to **run** (**evaluate** / **execute**) it, as if we had typed it straight in."
   ]
  },
  {
   "cell_type": "markdown",
   "id": "6e2371fa-4bb8-4c3c-926c-8e9cdb24dd35",
   "metadata": {},
   "source": [
    "We can run it at global scope using `eval` (short for \"evaluate\"):"
   ]
  },
  {
   "cell_type": "code",
   "execution_count": 17,
   "id": "60ec5bb8-a54f-4d9d-8fe2-f1051a46ffa6",
   "metadata": {},
   "outputs": [
    {
     "data": {
      "text/plain": [
       ":(x = 3)"
      ]
     },
     "execution_count": 17,
     "metadata": {},
     "output_type": "execute_result"
    }
   ],
   "source": [
    "code = :(x = 3)"
   ]
  },
  {
   "cell_type": "code",
   "execution_count": 5,
   "id": "cba325dc-b5e2-432a-9687-6f5c3b654dc9",
   "metadata": {},
   "outputs": [
    {
     "ename": "LoadError",
     "evalue": "UndefVarError: x not defined",
     "output_type": "error",
     "traceback": [
      "UndefVarError: x not defined",
      "",
      "Stacktrace:",
      " [1] top-level scope",
      "   @ :0",
      " [2] eval",
      "   @ ./boot.jl:360 [inlined]",
      " [3] include_string(mapexpr::typeof(REPL.softscope), mod::Module, code::String, filename::String)",
      "   @ Base ./loading.jl:1094"
     ]
    }
   ],
   "source": [
    "x"
   ]
  },
  {
   "cell_type": "code",
   "execution_count": 6,
   "id": "5ca12f31-65df-4042-979d-3751be3c8bf3",
   "metadata": {},
   "outputs": [
    {
     "data": {
      "text/plain": [
       "3"
      ]
     },
     "execution_count": 6,
     "metadata": {},
     "output_type": "execute_result"
    }
   ],
   "source": [
    "eval(code)"
   ]
  },
  {
   "cell_type": "code",
   "execution_count": 7,
   "id": "6a187573-c268-47a6-bac9-21208557428d",
   "metadata": {},
   "outputs": [
    {
     "data": {
      "text/plain": [
       "3"
      ]
     },
     "execution_count": 7,
     "metadata": {},
     "output_type": "execute_result"
    }
   ],
   "source": [
    "x"
   ]
  },
  {
   "cell_type": "markdown",
   "id": "0efbf211-3373-431b-bd70-8b2d0fc1f427",
   "metadata": {},
   "source": [
    "The code `x = 3` was run and had the desired **side effect**, namely that a global variable `x` was created and bound to the value `3`. "
   ]
  },
  {
   "cell_type": "markdown",
   "id": "532312c5-2630-4586-9423-25143df5fda8",
   "metadata": {},
   "source": [
    "# Generating \"copy-pasted\" code"
   ]
  },
  {
   "cell_type": "markdown",
   "id": "e15876ec-1b63-4cd4-912f-182158ae82b1",
   "metadata": {},
   "source": [
    "One important use-case for metaprogramming is generating repetitive code, e.g. for making **wrapper types** and for calling external C libraries."
   ]
  },
  {
   "cell_type": "markdown",
   "id": "02df6ce2-23b9-4b6b-8f36-8387385dc9b9",
   "metadata": {},
   "source": [
    "For example, let's think about a simple type that wraps a floating-point number and counts how many times it gets used during a calculation."
   ]
  },
  {
   "cell_type": "code",
   "execution_count": 1,
   "id": "e25fd374-8270-46d2-9f81-109bf400652a",
   "metadata": {},
   "outputs": [],
   "source": [
    "mutable struct MyFloat\n",
    "    value::Float64\n",
    "    count::Int\n",
    "end"
   ]
  },
  {
   "cell_type": "code",
   "execution_count": 2,
   "id": "071592c5-f43f-4a96-ad76-2b7cd4c193ff",
   "metadata": {},
   "outputs": [
    {
     "data": {
      "text/plain": [
       "MyFloat"
      ]
     },
     "execution_count": 2,
     "metadata": {},
     "output_type": "execute_result"
    }
   ],
   "source": [
    "MyFloat(x) = MyFloat(x, 0)"
   ]
  },
  {
   "cell_type": "markdown",
   "id": "39a422bf-0114-4443-b718-f3048a14e9ae",
   "metadata": {},
   "source": [
    "We can define the sum of two such numbers:"
   ]
  },
  {
   "cell_type": "code",
   "execution_count": 7,
   "id": "31088f20-fdb7-499b-a251-0a8557bca351",
   "metadata": {},
   "outputs": [],
   "source": [
    "function Base.:+(x::MyFloat, y::MyFloat)\n",
    "    x.count += 1\n",
    "    y.count += 1\n",
    "    \n",
    "    return MyFloat(x.value + y.value, 0)\n",
    "end"
   ]
  },
  {
   "cell_type": "code",
   "execution_count": 8,
   "id": "9cdcdcf3-d54f-49d5-9b52-664b516ac692",
   "metadata": {},
   "outputs": [
    {
     "data": {
      "text/plain": [
       "MyFloat(2.0, 0)"
      ]
     },
     "execution_count": 8,
     "metadata": {},
     "output_type": "execute_result"
    }
   ],
   "source": [
    "x = MyFloat(1.0)\n",
    "y = MyFloat(2.0)"
   ]
  },
  {
   "cell_type": "code",
   "execution_count": 9,
   "id": "401a8e1b-1035-4c79-a681-edcd301bc394",
   "metadata": {},
   "outputs": [
    {
     "data": {
      "text/plain": [
       "MyFloat(3.0, 0)"
      ]
     },
     "execution_count": 9,
     "metadata": {},
     "output_type": "execute_result"
    }
   ],
   "source": [
    "z = x + y"
   ]
  },
  {
   "cell_type": "markdown",
   "id": "20390318-5c26-4da3-a903-591f81068e0f",
   "metadata": {},
   "source": [
    "Now we would like to do the same for `-`, `*` and `/`. We could just copy and paste the code "
   ]
  },
  {
   "cell_type": "markdown",
   "id": "793c29a3-fbed-4b95-8d2f-b4460b4de4e5",
   "metadata": {},
   "source": [
    "Copying and pasting is possible but inefficient and prone to error -- you need to remember to replace the function in both places."
   ]
  },
  {
   "cell_type": "markdown",
   "id": "88f2a3e1-5906-4885-892e-0b61ba795b7d",
   "metadata": {},
   "source": [
    "First mock out the code:"
   ]
  },
  {
   "cell_type": "code",
   "execution_count": 25,
   "id": "47ba9c16-c377-4776-9c71-3338daf3ea3f",
   "metadata": {},
   "outputs": [
    {
     "data": {
      "text/plain": [
       "quote\n",
       "    Base.:+(x::MyFloat, y::MyFloat)\n",
       "    x.count += 1\n",
       "    y.count += 1\n",
       "    return MyFloat(x.value + y.value, 0)\n",
       "end"
      ]
     },
     "execution_count": 25,
     "metadata": {},
     "output_type": "execute_result"
    }
   ],
   "source": [
    "op = :+\n",
    "\n",
    "ex = quote\n",
    "    Base.$(op)(x::MyFloat, y::MyFloat)\n",
    "        x.count += 1\n",
    "        y.count += 1\n",
    "\n",
    "        return MyFloat( ($op)(x.value, y.value), 0)\n",
    "    end\n",
    "\n",
    "Base.remove_linenums!(ex)"
   ]
  },
  {
   "cell_type": "code",
   "execution_count": null,
   "id": "56bf6659-91e7-48dd-b27c-56c8202f5b20",
   "metadata": {},
   "outputs": [],
   "source": []
  },
  {
   "cell_type": "code",
   "execution_count": 26,
   "id": "35e49f25-5d74-44ce-8a70-cef7f4055ad2",
   "metadata": {},
   "outputs": [
    {
     "data": {
      "text/plain": [
       "quote\n",
       "    Base.:+(x::MyFloat, y::MyFloat)\n",
       "    x.count += 1\n",
       "    y.count += 1\n",
       "    return MyFloat(x.value + y.value, 0)\n",
       "end"
      ]
     },
     "execution_count": 26,
     "metadata": {},
     "output_type": "execute_result"
    }
   ],
   "source": [
    "ex"
   ]
  },
  {
   "cell_type": "code",
   "execution_count": 19,
   "id": "e842fa72-0d59-43ac-9bba-79a2103e4f53",
   "metadata": {},
   "outputs": [],
   "source": [
    "for op in (:+, :-, :*, :/)\n",
    "    @eval function Base.$(op)(x::MyFloat, y::MyFloat)\n",
    "        x.count += 1\n",
    "        y.count += 1\n",
    "\n",
    "        return MyFloat( ($op)(x.value, y.value), 0)\n",
    "    end\n",
    "end"
   ]
  },
  {
   "cell_type": "code",
   "execution_count": 21,
   "id": "e5278e38-1522-4964-9e44-e015d87d9a9f",
   "metadata": {},
   "outputs": [
    {
     "data": {
      "text/plain": [
       "MyFloat(-1.0, 0)"
      ]
     },
     "execution_count": 21,
     "metadata": {},
     "output_type": "execute_result"
    }
   ],
   "source": [
    "x - y"
   ]
  },
  {
   "cell_type": "code",
   "execution_count": 22,
   "id": "66b5f899-fe03-4c87-abd9-b9e5e9a3e1e3",
   "metadata": {},
   "outputs": [
    {
     "data": {
      "text/plain": [
       "MyFloat(1.0, 4)"
      ]
     },
     "execution_count": 22,
     "metadata": {},
     "output_type": "execute_result"
    }
   ],
   "source": [
    "x"
   ]
  },
  {
   "cell_type": "markdown",
   "id": "ff5b5e4b-95db-4cd3-8792-7fd7b4362a6c",
   "metadata": {},
   "source": []
  },
  {
   "cell_type": "markdown",
   "id": "14291576-5596-4bfe-b850-a242f5a21322",
   "metadata": {},
   "source": [
    "# World-age errors"
   ]
  },
  {
   "cell_type": "markdown",
   "id": "9f8d3966-6ed7-40cc-b1a7-28bde17686f0",
   "metadata": {},
   "source": [
    "The ability to generate code on the fly is a powerful one, but there is an issue that you may come across: the infamous **world-age errors**; see [this video by Julia Belyakova](https://www.youtube.com/watch?v=d6lTCnhdbqE) for a very good explanation."
   ]
  },
  {
   "cell_type": "markdown",
   "id": "fb1ffba5-3d68-45b0-b2b3-03c175537a77",
   "metadata": {},
   "source": [
    "This occurs when `eval` is used inside a function, say `f`, to create a new function, say `g`, and then the user tries to call `g` from within `f`. Although it seems like this should be valid, Julia complains:"
   ]
  },
  {
   "cell_type": "code",
   "execution_count": 7,
   "id": "d77cb5e0-b30a-4600-ba34-fd52a34cee62",
   "metadata": {},
   "outputs": [
    {
     "data": {
      "text/plain": [
       "f (generic function with 1 method)"
      ]
     },
     "execution_count": 7,
     "metadata": {},
     "output_type": "execute_result"
    }
   ],
   "source": [
    "function f(n)\n",
    "    \n",
    "    code = :(g(x) = 2x)\n",
    "    eval(code)\n",
    "    \n",
    "    return g(n)\n",
    "    \n",
    "end"
   ]
  },
  {
   "cell_type": "code",
   "execution_count": 8,
   "id": "0c6b3298-2351-4973-a554-63adf641d858",
   "metadata": {},
   "outputs": [
    {
     "ename": "LoadError",
     "evalue": "MethodError: no method matching g(::Int64)\nThe applicable method may be too new: running in world age 29644, while current world is 29645.\n\u001b[0mClosest candidates are:\n\u001b[0m  g(::Any) at In[7]:3 (method too new to be called from this world context.)",
     "output_type": "error",
     "traceback": [
      "MethodError: no method matching g(::Int64)\nThe applicable method may be too new: running in world age 29644, while current world is 29645.\n\u001b[0mClosest candidates are:\n\u001b[0m  g(::Any) at In[7]:3 (method too new to be called from this world context.)",
      "",
      "Stacktrace:",
      " [1] f(n::Int64)",
      "   @ Main ./In[7]:6",
      " [2] top-level scope",
      "   @ In[8]:1",
      " [3] eval",
      "   @ ./boot.jl:360 [inlined]",
      " [4] include_string(mapexpr::typeof(REPL.softscope), mod::Module, code::String, filename::String)",
      "   @ Base ./loading.jl:1116"
     ]
    }
   ],
   "source": [
    "f(10)"
   ]
  },
  {
   "cell_type": "markdown",
   "id": "3f1c72c8-ae85-4aea-89ad-aa705ba18372",
   "metadata": {},
   "source": [
    "[Sometimes you will not even get a world-age error; Julia will just complain that there is no such function or method.]"
   ]
  },
  {
   "cell_type": "markdown",
   "id": "ea527a33-b36e-457e-b310-4b12862b4d07",
   "metadata": {},
   "source": [
    "## Solving world-age problems\n",
    "\n",
    "There are (at least) three possible solutions:\n",
    "\n",
    "### Make sure to return to \"top level\" before calling `g`:"
   ]
  },
  {
   "cell_type": "code",
   "execution_count": 10,
   "id": "67ad1c15-ff5d-41b9-9f71-f3e8a4b110f6",
   "metadata": {},
   "outputs": [
    {
     "data": {
      "text/plain": [
       "f (generic function with 2 methods)"
      ]
     },
     "execution_count": 10,
     "metadata": {},
     "output_type": "execute_result"
    }
   ],
   "source": [
    "function f()\n",
    "    \n",
    "    code = :(g(x) = 2x)\n",
    "    eval(code)\n",
    "    \n",
    "end"
   ]
  },
  {
   "cell_type": "code",
   "execution_count": 11,
   "id": "dff5d5e7-d65c-430e-a2ac-6020431caaf1",
   "metadata": {},
   "outputs": [
    {
     "data": {
      "text/plain": [
       "g (generic function with 1 method)"
      ]
     },
     "execution_count": 11,
     "metadata": {},
     "output_type": "execute_result"
    }
   ],
   "source": [
    "f()"
   ]
  },
  {
   "cell_type": "code",
   "execution_count": 17,
   "id": "63262509-a734-4e1a-be2c-9658919f3f9b",
   "metadata": {},
   "outputs": [
    {
     "name": "stdout",
     "output_type": "stream",
     "text": [
      "  0.000000 seconds\n"
     ]
    },
    {
     "data": {
      "text/plain": [
       "6"
      ]
     },
     "execution_count": 17,
     "metadata": {},
     "output_type": "execute_result"
    }
   ],
   "source": [
    "@time g(3)"
   ]
  },
  {
   "cell_type": "markdown",
   "id": "41b87a97-494e-4ae7-b279-3e98f641ba36",
   "metadata": {},
   "source": [
    "###  Use `Base.invokelatest` \n",
    "\n",
    "Use `Base.invokelatest` to insist to Julia that it bypasses this world-age mechanism. This comes with a performance cost:"
   ]
  },
  {
   "cell_type": "code",
   "execution_count": 13,
   "id": "469ac02d-d207-4d4d-b997-5242cd23c821",
   "metadata": {},
   "outputs": [
    {
     "data": {
      "text/plain": [
       "f (generic function with 2 methods)"
      ]
     },
     "execution_count": 13,
     "metadata": {},
     "output_type": "execute_result"
    }
   ],
   "source": [
    "function f(n)\n",
    "    \n",
    "    code = :(g(x) = 2x)\n",
    "    eval(code)\n",
    "    \n",
    "    return Base.@invokelatest g(n)  # or Base.invokelatest(g, n)\n",
    "    \n",
    "end"
   ]
  },
  {
   "cell_type": "code",
   "execution_count": 14,
   "id": "33f8212b-f441-4d9b-b756-e62cabd938ac",
   "metadata": {},
   "outputs": [
    {
     "data": {
      "text/plain": [
       "6"
      ]
     },
     "execution_count": 14,
     "metadata": {},
     "output_type": "execute_result"
    }
   ],
   "source": [
    "f(3)"
   ]
  },
  {
   "cell_type": "code",
   "execution_count": 15,
   "id": "9a49d308-2623-43c2-acfe-41fe09265adc",
   "metadata": {},
   "outputs": [
    {
     "name": "stdout",
     "output_type": "stream",
     "text": [
      "  0.003115 seconds (847 allocations: 59.998 KiB, 85.81% compilation time)\n"
     ]
    },
    {
     "data": {
      "text/plain": [
       "6"
      ]
     },
     "execution_count": 15,
     "metadata": {},
     "output_type": "execute_result"
    }
   ],
   "source": [
    "@time f(3)"
   ]
  },
  {
   "cell_type": "markdown",
   "id": "c3fa3720-41d7-4378-9992-73d4d7e7dea7",
   "metadata": {},
   "source": [
    "###  Replace `eval` with generated functions\n",
    "\n",
    "Replace `eval` with https://github.com/JuliaStaging/GeneralizedGenerated.jl or https://github.com/SciML/RuntimeGeneratedFunctions.jl instead:"
   ]
  },
  {
   "cell_type": "code",
   "execution_count": 21,
   "id": "7970be53-a178-4e5b-a762-363003cbe313",
   "metadata": {},
   "outputs": [],
   "source": [
    "using RuntimeGeneratedFunctions\n",
    "\n",
    "RuntimeGeneratedFunctions.init(@__MODULE__)"
   ]
  },
  {
   "cell_type": "code",
   "execution_count": 25,
   "id": "66074cf4-67c0-4117-995f-3d80fa63be63",
   "metadata": {},
   "outputs": [
    {
     "data": {
      "text/plain": [
       "generate (generic function with 1 method)"
      ]
     },
     "execution_count": 25,
     "metadata": {},
     "output_type": "execute_result"
    }
   ],
   "source": [
    "function generate(n)\n",
    "    \n",
    "    code = :(g(x) = $n*x)\n",
    "    @RuntimeGeneratedFunction(code)\n",
    "        \n",
    "end"
   ]
  },
  {
   "cell_type": "code",
   "execution_count": 27,
   "id": "b441711c-92b4-42aa-846e-4da5db48b8bc",
   "metadata": {},
   "outputs": [
    {
     "data": {
      "text/plain": [
       "f (generic function with 2 methods)"
      ]
     },
     "execution_count": 27,
     "metadata": {},
     "output_type": "execute_result"
    }
   ],
   "source": [
    "function f(n)\n",
    "    g = generate(n)\n",
    "    \n",
    "    @time g(3)\n",
    "    @time g(3)\n",
    "end"
   ]
  },
  {
   "cell_type": "code",
   "execution_count": 28,
   "id": "96d1a033-1e53-4f57-a932-50e1d5196a0c",
   "metadata": {},
   "outputs": [
    {
     "name": "stdout",
     "output_type": "stream",
     "text": [
      "  0.043212 seconds (60.58 k allocations: 3.802 MiB, 99.95% compilation time)\n",
      "  0.000002 seconds\n"
     ]
    },
    {
     "data": {
      "text/plain": [
       "15"
      ]
     },
     "execution_count": 28,
     "metadata": {},
     "output_type": "execute_result"
    }
   ],
   "source": [
    "f(5)"
   ]
  },
  {
   "cell_type": "code",
   "execution_count": 23,
   "id": "dbd431d2-f3c8-41f7-b9df-d0a13689a3ab",
   "metadata": {},
   "outputs": [
    {
     "data": {
      "text/plain": [
       "6"
      ]
     },
     "execution_count": 23,
     "metadata": {},
     "output_type": "execute_result"
    }
   ],
   "source": [
    "f(3)"
   ]
  },
  {
   "cell_type": "code",
   "execution_count": 24,
   "id": "6a0f9429-34f4-4d32-8f05-d4171a7834b2",
   "metadata": {},
   "outputs": [
    {
     "name": "stdout",
     "output_type": "stream",
     "text": [
      "  0.008465 seconds (2.28 k allocations: 146.526 KiB, 98.51% compilation time)\n"
     ]
    },
    {
     "data": {
      "text/plain": [
       "6"
      ]
     },
     "execution_count": 24,
     "metadata": {},
     "output_type": "execute_result"
    }
   ],
   "source": [
    "@time f(3)"
   ]
  }
 ],
 "metadata": {
  "kernelspec": {
   "display_name": "Julia 1.6.2",
   "language": "julia",
   "name": "julia-1.6"
  },
  "language_info": {
   "file_extension": ".jl",
   "mimetype": "application/julia",
   "name": "julia",
   "version": "1.6.2"
  },
  "toc-autonumbering": true
 },
 "nbformat": 4,
 "nbformat_minor": 5
}
